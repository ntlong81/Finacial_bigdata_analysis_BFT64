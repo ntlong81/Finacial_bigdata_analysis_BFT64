{
 "cells": [
  {
   "cell_type": "markdown",
   "metadata": {},
   "source": [
    "## **Lecture 3**"
   ]
  },
  {
   "cell_type": "code",
   "execution_count": 1,
   "metadata": {},
   "outputs": [],
   "source": [
    "digits = [1,2,3,1,2,1,2,1,1,3]\n"
   ]
  },
  {
   "cell_type": "code",
   "execution_count": 2,
   "metadata": {},
   "outputs": [],
   "source": [
    "#remove all 1 in digits\n",
    "digits.count(1)\n",
    "digits.remove(1)\n",
    "digits.remove(1)\n",
    "digits.remove(1)\n",
    "digits.remove(1)\n",
    "digits.remove(1)"
   ]
  },
  {
   "cell_type": "code",
   "execution_count": 3,
   "metadata": {},
   "outputs": [
    {
     "data": {
      "text/plain": [
       "[2, 3, 2, 2, 3]"
      ]
     },
     "execution_count": 3,
     "metadata": {},
     "output_type": "execute_result"
    }
   ],
   "source": [
    "digits"
   ]
  },
  {
   "cell_type": "markdown",
   "metadata": {},
   "source": [
    "- Method<code>alist.sort()<code>"
   ]
  },
  {
   "cell_type": "code",
   "execution_count": 4,
   "metadata": {},
   "outputs": [
    {
     "name": "stdout",
     "output_type": "stream",
     "text": [
      "[5, 4, 3, 2, 2, 1, 1]\n"
     ]
    }
   ],
   "source": [
    "numbers = [2,1,2,3,4,5,1]\n",
    "numbers.sort(reverse=True)\n",
    "print(numbers)"
   ]
  },
  {
   "cell_type": "code",
   "execution_count": 5,
   "metadata": {},
   "outputs": [
    {
     "name": "stdout",
     "output_type": "stream",
     "text": [
      "['A', 'B', 'Z', 'a', 'd']\n"
     ]
    }
   ],
   "source": [
    "lettets = ['a',\"A\",\"B\",\"Z\",'d']\n",
    "lettets.sort()\n",
    "print(lettets)"
   ]
  },
  {
   "cell_type": "markdown",
   "metadata": {},
   "source": [
    "- sorted function"
   ]
  },
  {
   "cell_type": "code",
   "execution_count": 6,
   "metadata": {},
   "outputs": [
    {
     "name": "stdout",
     "output_type": "stream",
     "text": [
      "[1, 1, 2, 2, 3, 4, 5]\n",
      "[2, 1, 2, 3, 4, 5, 1]\n"
     ]
    }
   ],
   "source": [
    "numbers = [2,1,2,3,4,5,1]\n",
    "print(sorted(numbers))\n",
    "print(numbers)"
   ]
  },
  {
   "cell_type": "code",
   "execution_count": 7,
   "metadata": {},
   "outputs": [
    {
     "name": "stdout",
     "output_type": "stream",
     "text": [
      "[5, 4, 3, 2, 2, 1, 1]\n",
      "[2, 1, 2, 3, 4, 5, 1]\n"
     ]
    }
   ],
   "source": [
    "numbers = [2,1,2,3,4,5,1]\n",
    "print(sorted(numbers, reverse=True))\n",
    "print(numbers)"
   ]
  },
  {
   "cell_type": "code",
   "execution_count": 9,
   "metadata": {},
   "outputs": [
    {
     "name": "stdout",
     "output_type": "stream",
     "text": [
      "[1, 5, 4, 3, 2, 1, 2]\n"
     ]
    }
   ],
   "source": [
    "numbers = [2,1,2,3,4,5,1]\n",
    "numbers.reverse()\n",
    "print(numbers)\n"
   ]
  },
  {
   "cell_type": "markdown",
   "metadata": {},
   "source": [
    "**3-8. Seeing the World:** Think of at least five places in the world you’d like to\n",
    "visit.\n",
    "- Store the locations in a list. Make sure the list is not in alphabetical order.\n",
    "\n",
    "- Print your list in its original order. Don’t worry about printing the list neatly,\n",
    "just print it as a raw Python list.\n",
    "\n",
    "- Use sorted() to print your list in alphabetical order without modifying the actual list.\n",
    "\n",
    "- Show that your list is still in its original order by printing it.\n",
    "\n",
    "- Use sorted() to print your list in reverse alphabetical order without changing the order of the original list.\n",
    "\n",
    "- Show that your list is still in its original order by printing it again.\n",
    "\n",
    "- Use reverse() to change the order of your list. Print the list to show that its\n",
    "order has changed.\n",
    "\n",
    "- Use reverse() to change the order of your list again. Print the list to show\n",
    "it’s back to its original order.\n",
    "\n",
    "- Use sort() to change your list so it’s stored in alphabetical order. Print the\n",
    "list to show that its order has been changed.\n",
    "\n",
    "-Use sort() to change your list so it’s stored in reverse alphabetical order.\n",
    "Print the list to show that its order has changed.\n"
   ]
  },
  {
   "cell_type": "code",
   "execution_count": 30,
   "metadata": {},
   "outputs": [
    {
     "name": "stdout",
     "output_type": "stream",
     "text": [
      "['Japan', 'Paris', 'Australia', 'Brazil', 'China']\n",
      "['Australia', 'Brazil', 'China', 'Japan', 'Paris']\n",
      "['Paris', 'Japan', 'China', 'Brazil', 'Australia']\n",
      "['Japan', 'Paris', 'Australia', 'Brazil', 'China']\n",
      "**************************************************\n",
      "None\n",
      "['China', 'Brazil', 'Australia', 'Paris', 'Japan']\n"
     ]
    }
   ],
   "source": [
    "locations = [\"Japan\", \"Paris\", \"Australia\", \"Brazil\", \"China\"]\n",
    "print(locations)\n",
    "a = sorted(locations)\n",
    "print(a)\n",
    "b = sorted(locations, reverse=True)\n",
    "print(b)\n",
    "print(locations)\n",
    "print(\"*\"*50)\n",
    "print(locations.reverse())\n",
    "print(locations)\n"
   ]
  },
  {
   "cell_type": "markdown",
   "metadata": {},
   "source": [
    "**3-9. Dinner Guests:** Working with one of the programs from Exercises 3-4\n",
    "through 3-7 (page 42), use len() to print a message indicating the number\n",
    "of people you are inviting to dinner.\n"
   ]
  },
  {
   "cell_type": "markdown",
   "metadata": {},
   "source": [
    " Working with one of the programs from Exercises 3-4\n",
    "through 3-7 (page 42), use len() to print a message indicating the number\n",
    "of people you are inviting to dinner.\n"
   ]
  },
  {
   "cell_type": "code",
   "execution_count": null,
   "metadata": {},
   "outputs": [],
   "source": []
  },
  {
   "cell_type": "markdown",
   "metadata": {},
   "source": [
    "**3-10. Every Function:** Think of something you could store in a list. For example,\n",
    "you could make a list of mountains, rivers, countries, cities, languages, or anything else you’d like. Write a program that creates a list containing these items\n",
    "and then uses each function introduced in this chapter at least once"
   ]
  },
  {
   "cell_type": "code",
   "execution_count": 31,
   "metadata": {},
   "outputs": [
    {
     "name": "stdout",
     "output_type": "stream",
     "text": [
      "1+1= 2\n",
      "2+1= 3\n",
      "3+1= 4\n",
      "4+1= 5\n"
     ]
    }
   ],
   "source": [
    "for x in [1,2,3,4]:\n",
    "    print(f\"{x}+1=\",x+1)"
   ]
  },
  {
   "cell_type": "code",
   "execution_count": 36,
   "metadata": {},
   "outputs": [
    {
     "data": {
      "text/plain": [
       "'thank you'"
      ]
     },
     "execution_count": 36,
     "metadata": {},
     "output_type": "execute_result"
    }
   ],
   "source": [
    "mess = 'thank you'\n",
    "''.join(list(mess))"
   ]
  },
  {
   "cell_type": "code",
   "execution_count": 37,
   "metadata": {},
   "outputs": [],
   "source": [
    "names = ['Bùi Diệp   Anh', 'Bùi Phương   Anh', 'Bùi Tuấn   Anh', 'Ngô Tuấn   Anh', 'Nguyễn Châu   Anh', 'Nguyễn Đức   Anh', 'Đinh Gia   Bảo', 'Hoàng Nguyên   Bảo', 'Lê Vũ Thiên   Cầm', 'Đặng Thị Linh   Chi', 'Nguyễn Đức   Chiến', 'Trần Duy   Chiến', 'Nguyễn Vũ   Cường', 'Đỗ Phương Dung', 'Bùi Hải   Đăng', 'Lê Mạnh   Đức', 'Nguyễn Vân   Giang', 'Nguyễn Hồng   Hải', 'Đặng Danh   Hào', 'Phùng Thế   Hiển ', 'Lê Trọng   Hiệp', 'Mai Nguyễn Huy   Hoàng', 'Nguyễn Nhật   Hồng', 'Đào Trọng   Hưng', 'Lương Quang   Huy', 'Đặng Minh   Khuê', 'Nguyễn Thị Minh   Khuê ', 'Lê Trung   Kiên', 'Trịnh Duy   Kiên', 'Trần Thế   Kiệt', 'Bùi Tuấn   Lâm', 'Vũ Thị   Lê', 'Bùi Diệu   Linh ', 'Chu Thùy   Linh', 'Đinh Diệu   Linh', 'Hoàng Mai   Linh', 'Lê Ngọc   Linh ', 'Mai Khánh   Linh ', 'Nguyễn Hoàng Khánh   Linh', 'Lê Ngọc   Mai ', 'Phí Đình   Mạnh', 'Lều Ngọc   Minh', 'Nguyên Lê Anh   Minh', 'Trần Lê   Minh', 'Đỗ Sơn   Nam ', 'Phạm Tâm   Ngân', 'Lương Thị Hồng   Ngọc', 'Lê Hồng   Nhung', 'Lê Duy   Phương', 'Phạm Đức   Quân ', 'Bùi Bảo   Quang ', 'Võ Đăng   Quang', 'Nguyễn Thi Hải   Quyên', 'Nguyễn Thị Như   Quỳnh', 'Phạm Thị   Thảo', 'Viên Đình   Thông', 'Lê Thị Thanh   Thủy', 'Phùng Thu   Trang ', 'Trần Quỳnh   Trang', 'Tạ Quốc   Trung', 'Nguyễn Xuân   Trường', 'Hoàng Duy   Tùng', 'Phạm Quốc   Việt']"
   ]
  },
  {
   "cell_type": "code",
   "execution_count": 40,
   "metadata": {},
   "outputs": [
    {
     "data": {
      "text/plain": [
       "3"
      ]
     },
     "execution_count": 40,
     "metadata": {},
     "output_type": "execute_result"
    }
   ],
   "source": [
    "len(names[0].split())"
   ]
  },
  {
   "cell_type": "code",
   "execution_count": 45,
   "metadata": {},
   "outputs": [],
   "source": [
    "length_name = []\n",
    "for name in names:\n",
    "    length_name.append(len(name.split()))\n",
    "max_len = sorted(length_name)[-1]"
   ]
  },
  {
   "cell_type": "code",
   "execution_count": 46,
   "metadata": {},
   "outputs": [
    {
     "data": {
      "text/plain": [
       "10"
      ]
     },
     "execution_count": 46,
     "metadata": {},
     "output_type": "execute_result"
    }
   ],
   "source": [
    "length_name.count(max_len)"
   ]
  },
  {
   "cell_type": "code",
   "execution_count": 47,
   "metadata": {},
   "outputs": [
    {
     "name": "stdout",
     "output_type": "stream",
     "text": [
      "['Bùi Diệp   Anh', 'Bùi Phương   Anh', 'Bùi Tuấn   Anh', 'Ngô Tuấn   Anh', 'Nguyễn Châu   Anh', 'Nguyễn Đức   Anh', 'Đinh Gia   Bảo', 'Hoàng Nguyên   Bảo', 'Lê Vũ Thiên   Cầm', 'Đặng Thị Linh   Chi', 'Nguyễn Đức   Chiến', 'Trần Duy   Chiến', 'Nguyễn Vũ   Cường', 'Đỗ Phương Dung', 'Bùi Hải   Đăng', 'Lê Mạnh   Đức', 'Nguyễn Vân   Giang', 'Nguyễn Hồng   Hải', 'Đặng Danh   Hào', 'Phùng Thế   Hiển ', 'Lê Trọng   Hiệp', 'Mai Nguyễn Huy   Hoàng', 'Nguyễn Nhật   Hồng', 'Đào Trọng   Hưng', 'Lương Quang   Huy', 'Đặng Minh   Khuê', 'Nguyễn Thị Minh   Khuê ', 'Lê Trung   Kiên', 'Trịnh Duy   Kiên', 'Trần Thế   Kiệt', 'Bùi Tuấn   Lâm', 'Vũ Thị   Lê', 'Bùi Diệu   Linh ', 'Chu Thùy   Linh', 'Đinh Diệu   Linh', 'Hoàng Mai   Linh', 'Lê Ngọc   Linh ', 'Mai Khánh   Linh ', 'Nguyễn Hoàng Khánh   Linh', 'Lê Ngọc   Mai ', 'Phí Đình   Mạnh', 'Lều Ngọc   Minh', 'Nguyên Lê Anh   Minh', 'Trần Lê   Minh', 'Đỗ Sơn   Nam ', 'Phạm Tâm   Ngân', 'Lương Thị Hồng   Ngọc', 'Lê Hồng   Nhung', 'Lê Duy   Phương', 'Phạm Đức   Quân ', 'Bùi Bảo   Quang ', 'Võ Đăng   Quang', 'Nguyễn Thi Hải   Quyên', 'Nguyễn Thị Như   Quỳnh', 'Phạm Thị   Thảo', 'Viên Đình   Thông', 'Lê Thị Thanh   Thủy', 'Phùng Thu   Trang ', 'Trần Quỳnh   Trang', 'Tạ Quốc   Trung', 'Nguyễn Xuân   Trường', 'Hoàng Duy   Tùng', 'Phạm Quốc   Việt']\n"
     ]
    }
   ],
   "source": [
    "print(names)"
   ]
  },
  {
   "cell_type": "code",
   "execution_count": 48,
   "metadata": {},
   "outputs": [],
   "source": [
    "short_names = []\n",
    "for name in names:\n",
    "    short_names.append(name.split()[-1])\n"
   ]
  },
  {
   "cell_type": "code",
   "execution_count": 53,
   "metadata": {},
   "outputs": [
    {
     "data": {
      "text/plain": [
       "['Phương',\n",
       " 'Trường',\n",
       " 'Chiến',\n",
       " 'Chiến',\n",
       " 'Cường',\n",
       " 'Giang',\n",
       " 'Hoàng',\n",
       " 'Nhung',\n",
       " 'Quang',\n",
       " 'Quang',\n",
       " 'Quyên',\n",
       " 'Quỳnh',\n",
       " 'Thông',\n",
       " 'Trang',\n",
       " 'Trang',\n",
       " 'Trung',\n",
       " 'Dung',\n",
       " 'Đăng',\n",
       " 'Hiển',\n",
       " 'Hiệp',\n",
       " 'Hồng',\n",
       " 'Hưng',\n",
       " 'Khuê',\n",
       " 'Khuê',\n",
       " 'Kiên',\n",
       " 'Kiên',\n",
       " 'Kiệt',\n",
       " 'Linh',\n",
       " 'Linh',\n",
       " 'Linh',\n",
       " 'Linh',\n",
       " 'Linh',\n",
       " 'Linh',\n",
       " 'Linh',\n",
       " 'Mạnh',\n",
       " 'Minh',\n",
       " 'Minh',\n",
       " 'Minh',\n",
       " 'Ngân',\n",
       " 'Ngọc',\n",
       " 'Quân',\n",
       " 'Thảo',\n",
       " 'Thủy',\n",
       " 'Tùng',\n",
       " 'Việt',\n",
       " 'Anh',\n",
       " 'Anh',\n",
       " 'Anh',\n",
       " 'Anh',\n",
       " 'Anh',\n",
       " 'Anh',\n",
       " 'Bảo',\n",
       " 'Bảo',\n",
       " 'Cầm',\n",
       " 'Chi',\n",
       " 'Đức',\n",
       " 'Hải',\n",
       " 'Hào',\n",
       " 'Huy',\n",
       " 'Lâm',\n",
       " 'Mai',\n",
       " 'Nam',\n",
       " 'Lê']"
      ]
     },
     "execution_count": 53,
     "metadata": {},
     "output_type": "execute_result"
    }
   ],
   "source": [
    "sorted(short_names,key=lambda x: -len(x))"
   ]
  },
  {
   "cell_type": "code",
   "execution_count": 55,
   "metadata": {},
   "outputs": [
    {
     "data": {
      "text/plain": [
       "[2, 3, 4, 5, 6, 7]"
      ]
     },
     "execution_count": 55,
     "metadata": {},
     "output_type": "execute_result"
    }
   ],
   "source": [
    "list(range(2,8))"
   ]
  },
  {
   "cell_type": "code",
   "execution_count": 56,
   "metadata": {},
   "outputs": [
    {
     "name": "stdout",
     "output_type": "stream",
     "text": [
      "[0, 1, 4, 9, 16, 25, 36, 49, 64, 81]\n"
     ]
    }
   ],
   "source": [
    "square_10 = []\n",
    "for i in range(10):\n",
    "    square_10.append(i**2)\n",
    "print(square_10)"
   ]
  },
  {
   "cell_type": "code",
   "execution_count": 57,
   "metadata": {},
   "outputs": [
    {
     "name": "stdout",
     "output_type": "stream",
     "text": [
      "[0, 343, 2744, 9261, 21952, 42875, 74088, 117649, 175616, 250047, 343000, 456533, 592704, 753571, 941192, 1157625, 1404928, 1685159, 2000376, 2352637, 2744000, 3176523, 3652264, 4173281, 4741632, 5359375, 6028568, 6751269, 7529536, 8365427, 9261000, 10218313, 11239424, 12326391, 13481272, 14706125, 16003008, 17373979, 18821096, 20346417, 21952000, 23639903, 25412184, 27270901, 29218112, 31255875, 33386248, 35611289, 37933056, 40353607, 42875000, 45499293, 48228544, 51064811, 54010152, 57066625, 60236288, 63521199, 66923416, 70444997, 74088000, 77854483, 81746504, 85766121, 89915392, 94196375, 98611128, 103161709, 107850176, 112678587, 117649000, 122763473, 128024064, 133432831, 138991832, 144703125, 150568768, 156590819, 162771336, 169112377, 175616000, 182284263, 189119224, 196122941, 203297472, 210644875, 218167208, 225866529, 233744896, 241804367, 250047000, 258474853, 267089984, 275894451, 284890312, 294079625, 303464448, 313046839, 322828856, 332812557, 343000000, 353393243, 363994344, 374805361, 385828352, 397065375, 408518488, 420189749, 432081216, 444194947, 456533000, 469097433, 481890304, 494913671, 508169592, 521660125, 535387328, 549353259, 563559976, 578009537, 592704000, 607645423, 622835864, 638277381, 653972032, 669921875, 686128968, 702595369, 719323136, 736314327, 753571000, 771095213, 788889024, 806954491, 825293672, 843908625, 862801408, 881974079, 901428696, 921167317, 941192000, 961504803, 982107784]\n"
     ]
    }
   ],
   "source": [
    "cubic_1000=[]\n",
    "for i in range(0,1000,7):\n",
    "    cubic_1000.append(i**3)\n",
    "print(cubic_1000)"
   ]
  },
  {
   "cell_type": "code",
   "execution_count": 58,
   "metadata": {},
   "outputs": [
    {
     "data": {
      "text/plain": [
       "[0, 1, 4, 9, 16, 25, 36, 49, 64, 81]"
      ]
     },
     "execution_count": 58,
     "metadata": {},
     "output_type": "execute_result"
    }
   ],
   "source": [
    "[i**2 for i in range(10)]"
   ]
  },
  {
   "cell_type": "code",
   "execution_count": 59,
   "metadata": {},
   "outputs": [
    {
     "data": {
      "text/plain": [
       "[0,\n",
       " 343,\n",
       " 2744,\n",
       " 9261,\n",
       " 21952,\n",
       " 42875,\n",
       " 74088,\n",
       " 117649,\n",
       " 175616,\n",
       " 250047,\n",
       " 343000,\n",
       " 456533,\n",
       " 592704,\n",
       " 753571,\n",
       " 941192]"
      ]
     },
     "execution_count": 59,
     "metadata": {},
     "output_type": "execute_result"
    }
   ],
   "source": [
    "[i**3 for i in range(0,100,7)]"
   ]
  },
  {
   "cell_type": "code",
   "execution_count": 64,
   "metadata": {},
   "outputs": [
    {
     "data": {
      "text/plain": [
       "['Phương',\n",
       " 'Trường',\n",
       " 'Chiến',\n",
       " 'Chiến',\n",
       " 'Cường',\n",
       " 'Giang',\n",
       " 'Hoàng',\n",
       " 'Nhung',\n",
       " 'Quang',\n",
       " 'Quang']"
      ]
     },
     "execution_count": 64,
     "metadata": {},
     "output_type": "execute_result"
    }
   ],
   "source": [
    "sorted([name.split()[-1] for name in names], \n",
    "       key= lambda x: len(x),\n",
    "       reverse=True)[0:10]"
   ]
  },
  {
   "cell_type": "code",
   "execution_count": 69,
   "metadata": {},
   "outputs": [
    {
     "name": "stdout",
     "output_type": "stream",
     "text": [
      "The Zen of Python, by Tim Peters\n",
      "\n",
      "Beautiful is better than ugly.\n",
      "Explicit is better than implicit.\n",
      "Simple is better than complex.\n",
      "Complex is better than complicated.\n",
      "Flat is better than nested.\n",
      "Sparse is better than dense.\n",
      "Readability counts.\n",
      "Special cases aren't special enough to break the rules.\n",
      "Although practicality beats purity.\n",
      "Errors should never pass silently.\n",
      "Unless explicitly silenced.\n",
      "In the face of ambiguity, refuse the temptation to guess.\n",
      "There should be one-- and preferably only one --obvious way to do it.\n",
      "Although that way may not be obvious at first unless you're Dutch.\n",
      "Now is better than never.\n",
      "Although never is often better than *right* now.\n",
      "If the implementation is hard to explain, it's a bad idea.\n",
      "If the implementation is easy to explain, it may be a good idea.\n",
      "Namespaces are one honking great idea -- let's do more of those!\n"
     ]
    }
   ],
   "source": [
    "import this "
   ]
  },
  {
   "cell_type": "code",
   "execution_count": 70,
   "metadata": {},
   "outputs": [],
   "source": [
    "text = '''The Zen of Python, by Tim Peters\n",
    "\n",
    "Beautiful is better than ugly.\n",
    "Explicit is better than implicit.\n",
    "Simple is better than complex.\n",
    "Complex is better than complicated.\n",
    "Flat is better than nested.\n",
    "Sparse is better than dense.\n",
    "Readability counts.\n",
    "Special cases aren't special enough to break the rules.\n",
    "Although practicality beats purity.\n",
    "Errors should never pass silently.\n",
    "Unless explicitly silenced.\n",
    "In the face of ambiguity, refuse the temptation to guess.\n",
    "There should be one-- and preferably only one --obvious way to do it.\n",
    "Although that way may not be obvious at first unless you're Dutch.\n",
    "Now is better than never.\n",
    "Although never is often better than *right* now.\n",
    "If the implementation is hard to explain, it's a bad idea.\n",
    "If the implementation is easy to explain, it may be a good idea.\n",
    "Namespaces are one honking great idea -- let's do more of those!'''"
   ]
  },
  {
   "cell_type": "code",
   "execution_count": 71,
   "metadata": {},
   "outputs": [
    {
     "data": {
      "text/plain": [
       "\"The Zen of Python, by Tim Peters\\n\\nBeautiful is better than ugly.\\nExplicit is better than implicit.\\nSimple is better than complex.\\nComplex is better than complicated.\\nFlat is better than nested.\\nSparse is better than dense.\\nReadability counts.\\nSpecial cases aren't special enough to break the rules.\\nAlthough practicality beats purity.\\nErrors should never pass silently.\\nUnless explicitly silenced.\\nIn the face of ambiguity, refuse the temptation to guess.\\nThere should be one-- and preferably only one --obvious way to do it.\\nAlthough that way may not be obvious at first unless you're Dutch.\\nNow is better than never.\\nAlthough never is often better than *right* now.\\nIf the implementation is hard to explain, it's a bad idea.\\nIf the implementation is easy to explain, it may be a good idea.\\nNamespaces are one honking great idea -- let's do more of those!\""
      ]
     },
     "execution_count": 71,
     "metadata": {},
     "output_type": "execute_result"
    }
   ],
   "source": [
    "text "
   ]
  },
  {
   "cell_type": "code",
   "execution_count": 77,
   "metadata": {},
   "outputs": [
    {
     "data": {
      "text/plain": [
       "['There should be one-- and preferably only one --obvious way to do it',\n",
       " 'If the implementation is easy to explain, it may be a good idea',\n",
       " 'The Zen of Python, by Tim Peters\\n\\nBeautiful is better than ugly',\n",
       " \"Although that way may not be obvious at first unless you're Dutch\",\n",
       " \"Namespaces are one honking great idea -- let's do more of those!\"]"
      ]
     },
     "execution_count": 77,
     "metadata": {},
     "output_type": "execute_result"
    }
   ],
   "source": [
    "sorted(text.split('.\\n'),\n",
    "       key = lambda x: len(x.split()),\n",
    "       reverse=True)[:5]"
   ]
  },
  {
   "cell_type": "code",
   "execution_count": null,
   "metadata": {},
   "outputs": [],
   "source": []
  }
 ],
 "metadata": {
  "kernelspec": {
   "display_name": "env-teaching",
   "language": "python",
   "name": "python3"
  },
  "language_info": {
   "codemirror_mode": {
    "name": "ipython",
    "version": 3
   },
   "file_extension": ".py",
   "mimetype": "text/x-python",
   "name": "python",
   "nbconvert_exporter": "python",
   "pygments_lexer": "ipython3",
   "version": "3.11.7"
  }
 },
 "nbformat": 4,
 "nbformat_minor": 2
}
