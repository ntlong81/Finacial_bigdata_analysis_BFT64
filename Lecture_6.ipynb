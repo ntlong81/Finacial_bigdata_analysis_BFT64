{
 "cells": [
  {
   "cell_type": "markdown",
   "metadata": {},
   "source": [
    "## Lecture 6"
   ]
  },
  {
   "cell_type": "code",
   "execution_count": 1,
   "metadata": {},
   "outputs": [],
   "source": [
    "def is_prime(n):\n",
    "    if n<=1:\n",
    "        return False\n",
    "    else:\n",
    "        for d in range(2,int(n**0.5)+1):\n",
    "            if n%d==0:\n",
    "                return False   \n",
    "    return True "
   ]
  },
  {
   "cell_type": "code",
   "execution_count": 2,
   "metadata": {},
   "outputs": [
    {
     "data": {
      "text/plain": [
       "True"
      ]
     },
     "execution_count": 2,
     "metadata": {},
     "output_type": "execute_result"
    }
   ],
   "source": [
    "is_prime(29)"
   ]
  },
  {
   "cell_type": "code",
   "execution_count": 3,
   "metadata": {},
   "outputs": [],
   "source": [
    "def sum_1(*numbers):\n",
    "    return sum(numbers)"
   ]
  },
  {
   "cell_type": "code",
   "execution_count": 4,
   "metadata": {},
   "outputs": [
    {
     "data": {
      "text/plain": [
       "1"
      ]
     },
     "execution_count": 4,
     "metadata": {},
     "output_type": "execute_result"
    }
   ],
   "source": [
    "sum_1(1)"
   ]
  },
  {
   "cell_type": "code",
   "execution_count": 5,
   "metadata": {},
   "outputs": [
    {
     "data": {
      "text/plain": [
       "4"
      ]
     },
     "execution_count": 5,
     "metadata": {},
     "output_type": "execute_result"
    }
   ],
   "source": [
    "sum_1(1,1,1,1)"
   ]
  },
  {
   "cell_type": "code",
   "execution_count": 6,
   "metadata": {},
   "outputs": [],
   "source": [
    "def build_profile(first, last,**user_info):\n",
    "    user_info['first_name'] = first\n",
    "    user_info['last_name'] = last \n",
    "    return user_info"
   ]
  },
  {
   "cell_type": "code",
   "execution_count": 7,
   "metadata": {},
   "outputs": [
    {
     "name": "stdout",
     "output_type": "stream",
     "text": [
      "{'city': 'Hanoi', 'country': 'Vietname', 'age': 44, 'first_name': 'Long', 'last_name': 'Nguyen'}\n"
     ]
    }
   ],
   "source": [
    "user_1 = build_profile('Long', \"Nguyen\", city = \"Hanoi\", country = \"Vietname\", age = 44)\n",
    "print(user_1)"
   ]
  },
  {
   "cell_type": "code",
   "execution_count": 8,
   "metadata": {},
   "outputs": [
    {
     "data": {
      "text/plain": [
       "{'city': 'Hanoi',\n",
       " 'country': 'Vietname',\n",
       " 'age': 44,\n",
       " 'first_name': 'Long',\n",
       " 'last_name': 'nguyen'}"
      ]
     },
     "execution_count": 8,
     "metadata": {},
     "output_type": "execute_result"
    }
   ],
   "source": [
    "my_profile = {\"city\": \"Hanoi\", \"country\":\"Vietname\", \"age\":44}\n",
    "build_profile(\"Long\", \"nguyen\",**my_profile)"
   ]
  },
  {
   "cell_type": "code",
   "execution_count": 9,
   "metadata": {},
   "outputs": [],
   "source": [
    "def filter_primes(*numbers):\n",
    "    result = []\n",
    "    for n in numbers:\n",
    "        if is_prime(n):\n",
    "            result.append(n)\n",
    "    return result"
   ]
  },
  {
   "cell_type": "code",
   "execution_count": 10,
   "metadata": {},
   "outputs": [
    {
     "data": {
      "text/plain": [
       "[2, 3, 2, 3, 2, 5, 7, 29]"
      ]
     },
     "execution_count": 10,
     "metadata": {},
     "output_type": "execute_result"
    }
   ],
   "source": [
    "filter_primes(1,2,9,3,2,3,2,5,7,8,9,29,34)"
   ]
  },
  {
   "cell_type": "markdown",
   "metadata": {},
   "source": [
    "### File"
   ]
  },
  {
   "cell_type": "code",
   "execution_count": 11,
   "metadata": {},
   "outputs": [],
   "source": [
    "path_abs = \"D:\\CODE\\Bigdata_analysis_BFT64\\Finacial_bigdata_analysis\\Data\\input.txt\"\n",
    "path_rel = \"Data\\input.txt\""
   ]
  },
  {
   "cell_type": "code",
   "execution_count": 12,
   "metadata": {},
   "outputs": [
    {
     "name": "stdout",
     "output_type": "stream",
     "text": [
      "To help you understand why prompt engineering\n",
      "is so important, I'm going to give you\n",
      "an initial exam\n"
     ]
    }
   ],
   "source": [
    "with open(path_abs) as file:\n",
    "    content = file.read()\n",
    "print(content[:100])"
   ]
  },
  {
   "cell_type": "code",
   "execution_count": 13,
   "metadata": {},
   "outputs": [
    {
     "name": "stdout",
     "output_type": "stream",
     "text": [
      "To help you understand why prompt engineering\n",
      "is so important, I'm going to give you\n",
      "an initial exam\n"
     ]
    }
   ],
   "source": [
    "with open(path_rel) as file:\n",
    "    content1 = file.read()\n",
    "print(content1[:100])"
   ]
  },
  {
   "cell_type": "code",
   "execution_count": 14,
   "metadata": {},
   "outputs": [],
   "source": [
    "with open('Data/new_file.txt','w') as file:\n",
    "    file.write(\"Hello BFT64\")"
   ]
  },
  {
   "cell_type": "code",
   "execution_count": 15,
   "metadata": {},
   "outputs": [
    {
     "name": "stdout",
     "output_type": "stream",
     "text": [
      "The Zen of Python, by Tim Peters\n",
      "\n",
      "Beautiful is better than ugly.\n",
      "Explicit is better than implicit.\n",
      "Simple is better than complex.\n",
      "Complex is better than complicated.\n",
      "Flat is better than nested.\n",
      "Sparse is better than dense.\n",
      "Readability counts.\n",
      "Special cases aren't special enough to break the rules.\n",
      "Although practicality beats purity.\n",
      "Errors should never pass silently.\n",
      "Unless explicitly silenced.\n",
      "In the face of ambiguity, refuse the temptation to guess.\n",
      "There should be one-- and preferably only one --obvious way to do it.\n",
      "Although that way may not be obvious at first unless you're Dutch.\n",
      "Now is better than never.\n",
      "Although never is often better than *right* now.\n",
      "If the implementation is hard to explain, it's a bad idea.\n",
      "If the implementation is easy to explain, it may be a good idea.\n",
      "Namespaces are one honking great idea -- let's do more of those!\n"
     ]
    }
   ],
   "source": [
    "import this"
   ]
  },
  {
   "cell_type": "code",
   "execution_count": 16,
   "metadata": {},
   "outputs": [
    {
     "data": {
      "text/plain": [
       "1"
      ]
     },
     "execution_count": 16,
     "metadata": {},
     "output_type": "execute_result"
    }
   ],
   "source": [
    "import random\n",
    "random.choice([1,2,3])"
   ]
  },
  {
   "cell_type": "code",
   "execution_count": 17,
   "metadata": {},
   "outputs": [],
   "source": [
    "import re "
   ]
  },
  {
   "cell_type": "code",
   "execution_count": 18,
   "metadata": {},
   "outputs": [
    {
     "name": "stdout",
     "output_type": "stream",
     "text": [
      "   A  B\n",
      "0  1  4\n",
      "1  2  5\n",
      "2  3  6\n"
     ]
    }
   ],
   "source": [
    "import pandas as pd \n",
    "print(pd.DataFrame({'A':[1,2,3],\"B\":[4,5,6]}))"
   ]
  },
  {
   "cell_type": "code",
   "execution_count": 19,
   "metadata": {},
   "outputs": [
    {
     "name": "stdout",
     "output_type": "stream",
     "text": [
      "Well come to my module\n"
     ]
    }
   ],
   "source": [
    "import my_module_1 as md1"
   ]
  },
  {
   "cell_type": "code",
   "execution_count": 20,
   "metadata": {},
   "outputs": [],
   "source": [
    "text_norm = md1.normalize(content)"
   ]
  },
  {
   "cell_type": "code",
   "execution_count": 21,
   "metadata": {},
   "outputs": [
    {
     "name": "stdout",
     "output_type": "stream",
     "text": [
      "{'to': 65, 'help': 5, 'you': 21, 'understand': 2, 'why': 1, 'prompt': 1, 'engineering': 1, 'is': 13, 'so': 2, 'important': 2, \"i'm\": 9, 'going': 10, 'give': 3, 'an': 8, 'initial': 2, 'example': 5, 'that': 32, 'shows': 1, 'where': 3, 'we': 7, 'tap': 4, 'into': 7, 'really': 11, 'complex': 2, 'capabilities': 3, 'of': 24, 'chatgpt': 12, 'but': 15, 'can': 11, 'also': 1, 'do': 10, 'this': 25, 'with': 14, 'other': 2, 'large': 4, 'language': 11, 'models': 3, 'the': 49, 'way': 12, 'these': 6, 'by': 3, 'using': 3, 'a': 26, 'pattern': 10, 'use': 4, 'when': 2, \"we're\": 2, 'writing': 3, 'prompts': 3, 'get': 3, 'interesting': 2, 'abilities': 1, 'now': 6, 'if': 6, 'know': 12, 'patterns': 2, 'and': 32, \"we'll\": 1, 'talk': 2, 'about': 7, 'them': 3, 'in': 16, 'detail': 2, 'course': 2, \"you'll\": 4, 'be': 8, 'more': 3, 'effective': 1, 'able': 2, 'things': 11, 'people': 2, \"won't\": 1, 'as': 6, 'easily': 1, \"it's\": 11, 'something': 7, 'called': 2, 'persona': 6, 'not': 9, 'go': 5, 'at': 5, 'point': 2, 'basically': 1, 'see': 4, 'all': 4, 'over': 1, 'place': 1, 'lots': 3, 'different': 2, 'examples': 1, 'out': 4, 'there': 2, 'on': 10, 'internet': 1, 'it': 27, 'basic': 1, 'idea': 1, \"you're\": 3, 'ask': 7, 'model': 1, 'case': 2, 'act': 5, 'like': 10, 'particular': 1, 'what': 11, 'does': 2, 'mean': 1, 'means': 1, 'person': 1, 'or': 7, 'some': 8, 'inanimate': 1, 'object': 1, 'animal': 1, 'system': 1, \"there's\": 2, 'kinds': 1, 'ways': 2, 'close': 1, 'me': 9, 'one': 4, 'i': 31, 'nothing': 2, 'domain': 1, 'useful': 1, 'imagine': 3, 'needed': 1, 'phone': 1, 'expert': 2, 'problem': 4, 'who': 1, 'would': 9, 'call': 1, \"don't\": 6, 'exactly': 1, 'they': 4, 'tell': 5, 'how': 7, 'analyze': 1, 'your': 1, 'wanted': 1, 'could': 2, 'my': 10, 'wife': 6, 'speech': 12, 'pathologist': 6, 'have': 5, 'her': 8, 'look': 3, 'output': 4, 'good': 2, 'was': 11, 'being': 3, 'their': 2, 'job': 4, 'imagined': 1, 'son': 2, 'three': 4, 'he': 1, 'saying': 3, 'properly': 2, 'went': 1, 'said': 12, 'year': 3, 'old': 3, 'will': 1, 'write': 2, 'assessment': 3, 'for': 5, 'child': 7, '\"i': 2, 'meed': 4, 'woy': 3, '\"': 1, 'might': 2, 'just': 2, 'parent': 1, 'hearing': 1, 'incorrectly': 1, \"child's\": 6, 'pronouncing': 1, 'correctly': 1, 'right': 5, 'even': 4, 'capture': 1, 'express': 2, \"what's\": 1, 'words': 2, 'from': 1, 'perspective': 1, 'question': 1, 'describe': 1, 'him': 1, 'tried': 1, 'think': 4, 'sounded': 1, 'time': 4, 'did': 2, 'say': 6, 'well': 1, 'notice': 1, 'first': 1, 'off': 1, 'its': 1, 'looks': 2, 'report': 1, 'says': 7, 'subject': 1, 'sample': 4, 'woy\"': 1, 'has': 3, 'quotation': 1, 'marks': 1, 'based': 2, 'provided': 1, 'appears': 2, 'may': 4, 'experiencing': 1, 'phonological': 3, 'articulation': 3, 'errors': 6, 'which': 3, 'are': 4, 'common': 1, 'children': 1, 'around': 3, 'age': 2, 'known': 2, 'tapping': 1, 'capability': 1, 'error': 1, 'utterance': 1, 'consonant': 6, 'production': 3, 'possibly': 1, 'difficulty': 3, 'syllable': 4, 'structure': 5, 'seems': 1, 'having': 3, 'sounds': 3, 'specifically': 2, 'n': 2, 'l': 2, 'instead': 3, 'need': 3, 'toy': 2, 'then': 4, 'parentheses': 1, 'assumption': 1, 'assuming': 1, 'intended': 2, 'were': 2, 'because': 4, 'remember': 2, 'told': 1, \"wasn't\": 2, 'very': 3, 'actually': 1, 'despite': 1, 'still': 1, 'figuring': 2, \"that's\": 2, 'probably': 2, 'intending': 1, 'telling': 2, \"they're\": 2, 'trouble': 1, 'goes': 2, 'word': 1, 'indicate': 1, 'correct': 1, 'possible': 1, 'play': 1, 'produced': 1, 'suggests': 1, 'substitution': 1, 'cluster': 3, 'pl': 1, 'single': 1, 'w': 1, 'simplification': 1, 'process': 1, 'reduction': 2, 'used': 1, 'getting': 1, 'rich': 1, \"wouldn't\": 1, 'want': 3, 'unpopular': 1, 'produce': 2, 'doing': 2, \"somebody's\": 1, 'always': 1, 'popular': 1, 'morning': 2, 'happy': 1, 'she': 10, 'trying': 3, 'ready': 2, 'work': 1, 'here': 1, 'am': 1, 'producing': 1, \"i'd\": 1, 'parents': 1, 'worry': 1, \"children's\": 1, 'continuing': 1, 'evolve': 1, 'paraphrasing': 1, 'much': 2, 'eloquently': 1, 'giving': 2, 'overblown': 1, 'analysis': 1, 'yeah': 1, 'too': 2, 'end': 1, 'considering': 1, 'sound': 1, 'developmentally': 1, 'appropriate': 1, 'resolve': 1, 'own': 1, 'walking': 1, 'door': 1, 'sit': 1, 'listen': 1, 'take': 1, 'no': 1, 'vast': 1, 'powerful': 2, 'absolutely': 1, 'gives': 1, 'us': 1, 'ability': 1, 'focus': 2, 'maybe': 4, 'spend': 1, 'our': 4, 'loves': 3, 'working': 2, 'kids': 3, 'interacting': 1, 'reports': 2, 'sure': 1, 'speak': 1, 'guess': 1, 'most': 1, 'favorite': 1, 'part': 1, 'allows': 1, 'cares': 1, 'real': 1, 'world': 1, 'form': 2, 'thought': 1, 'needs': 1, 'hope': 1, 'little': 1, 'bit': 1, 'create': 1, 'ideas': 1, 'thoughts': 1, 'through': 1}\n"
     ]
    }
   ],
   "source": [
    "print(md1.get_fre_word(text_norm))"
   ]
  },
  {
   "cell_type": "code",
   "execution_count": 22,
   "metadata": {},
   "outputs": [
    {
     "data": {
      "text/plain": [
       "24248203840243802438"
      ]
     },
     "execution_count": 22,
     "metadata": {},
     "output_type": "execute_result"
    }
   ],
   "source": [
    "md1.big_digit"
   ]
  },
  {
   "cell_type": "code",
   "execution_count": 27,
   "metadata": {},
   "outputs": [],
   "source": [
    "import sys\n",
    "sys.path.insert(0,'Data')"
   ]
  },
  {
   "cell_type": "code",
   "execution_count": 28,
   "metadata": {},
   "outputs": [
    {
     "name": "stdout",
     "output_type": "stream",
     "text": [
      "Well come to my module 2\n"
     ]
    }
   ],
   "source": [
    "import my_module_2"
   ]
  },
  {
   "cell_type": "code",
   "execution_count": 29,
   "metadata": {},
   "outputs": [],
   "source": [
    "from my_module_2 import big_digit"
   ]
  },
  {
   "cell_type": "code",
   "execution_count": 30,
   "metadata": {},
   "outputs": [
    {
     "data": {
      "text/plain": [
       "24248203840243802438"
      ]
     },
     "execution_count": 30,
     "metadata": {},
     "output_type": "execute_result"
    }
   ],
   "source": [
    "big_digit"
   ]
  },
  {
   "cell_type": "code",
   "execution_count": 31,
   "metadata": {},
   "outputs": [],
   "source": [
    "from my_module_1 import normalize"
   ]
  },
  {
   "cell_type": "code",
   "execution_count": 32,
   "metadata": {},
   "outputs": [
    {
     "data": {
      "text/plain": [
       "'to help you understand why prompt engineering\\nis so important i\\'m going to give you\\nan initial example that shows where we tap into really complex\\ncapabilities of chatgpt but you can also do this with other large language models the way we tap into these capabilities is\\nby using a pattern a pattern that we can use\\nwhen we\\'re writing prompts to get into these really\\ninteresting abilities of the large language models now if you know these\\npatterns and we\\'ll talk about them in detail\\nin this course you\\'ll be more effective\\nin writing prompts you\\'ll be able to do things that other people won\\'t be\\nable to do as easily now i\\'m going to\\ngive you an example it\\'s going to use something\\ncalled the persona pattern now i\\'m not going to\\ngo into detail about the persona pattern\\nat this point but basically it\\'s a pattern that we see all over the place you\\'ll see lots of\\ndifferent examples of this pattern out there on the internet where\\npeople talk about using it to do lots and lots\\nof different things but the basic idea\\nis you\\'re going to ask the large language\\nmodel in this case chatgpt you\\'re going to ask it to act\\nlike a particular persona now what does that\\nmean it means like you\\'re going\\nto ask it to act like a person or some\\ninanimate object or an animal or some system there\\'s all kinds of ways\\nthat you can use this it\\'s really interesting but we\\'re going to use\\nit in this example to tap into a persona\\nthat is close to me but one that i know\\nnothing about the domain one of the really useful things about the persona pattern as you can imagine if\\nyou needed to go phone an expert to get help\\non some problem you know who you would call but you don\\'t know\\nexactly what they would tell you or how they\\nwould analyze your problem and so i wanted something in the way i know an expert that i could\\ngo to in this case my wife is a speech\\nlanguage pathologist i can have her look at the output and tell\\nme how good it was but i know nothing about being a speech language pathologist\\nor how to do their job i imagined that when\\nmy son was three he was not saying\\nthings properly i went to chatgpt and i said act as a speech language\\npathologist i\\'m going to tell you\\nwhat a three year old said and you will write\\nan assessment for me the child said \\n\"i meed way woy \" now you can imagine\\nthis might just me being a parent hearing\\nit incorrectly the child\\'s not pronouncing\\nthings correctly i don\\'t know the right\\nway to even capture this to even express what\\'s\\nbeing said in words the right way to do all of this this is a complex problem\\nfrom my perspective i don\\'t know how to express\\nall of this in language even to ask the\\nquestion properly but i know i would go to a speech language pathologist and i would describe\\nthis to him i tried to think of something\\nthat sounded like something my son might have said\\nat that point in time what did chatgpt say well you notice first off its output looks like a report it says subject assessment of a three year old speech\\nsample child\\'s speech sample \"i meed way woy\" has it in quotation marks and\\nit says assessment based on the provided\\nspeech sample it appears the child\\nmay be experiencing some phonological and\\narticulation errors which are common in\\nchildren around this age i don\\'t know what phonological or articulation errors are i would not have known to ask\\nchatgpt for these things but based on this pattern that i\\'m using this\\npersona pattern i\\'m tapping into\\nthis capability for chatgpt to look at this and know what the right\\nthings are to tell me it says there\\'s phonological\\nand articulation error it says the child\\'s utterance\\nappears to have errors and consonant production and possibly some difficulty\\nwith syllable structure it says consonant errors it seems that the child is having difficulty with\\nthe production of some consonant sounds\\nspecifically the n and l sounds the child said meed instead of need and woy instead of toy then it has in parentheses\\nit\\'s assumption it says assuming the\\nintended words were need and toy because you can remember\\nmy speech sample was i meed way woy which my wife told me it wasn\\'t\\na very good example may not be something that a\\nchild would actually say despite that it\\'s\\nstill figuring out if that\\'s really\\nwhat the child said this is probably what they\\nwere intending to say and it\\'s figuring that out and then it\\'s telling me they\\'re\\nhaving consonant errors they\\'re specifically having\\ntrouble with n and l sounds then it goes on to say\\nsyllable structure the child\\'s production\\nof the word way may indicate some difficulty with the correct syllable structure it is possible that the\\nchild intended to say play but produced way instead which suggests a substitution of the initial consonant cluster\\npl with a single consonant w this could be an example of a simplification process\\ncalled cluster reduction i would not have known\\nhow to ask chatgpt to see if there was problem with syllable structure or\\ncluster reduction but i used this pattern\\nof saying act as and i said act as a speech language\\npathologist and now i\\'m getting rich output that i wouldn\\'t even know\\nhow to ask for then it goes on to say\\nbecause by the way if you want to do something really unpopular\\nas chatgpt to produce an output that looks\\nlike it\\'s doing somebody\\'s job and that\\'s always a way to be very popular i did this with my wife one morning and my wife was not very happy\\nbecause she was trying to get ready to go to\\nwork and here i am saying chatgpt is producing things that look like what you produce one of her things that\\nshe said to me was if that was a three year old i\\'d be telling the parents they probably don\\'t need to worry children\\'s speech\\nis continuing to evolve and i\\'m paraphrasing\\nwhat she said she said it much more\\neloquently but she was like it\\'s just giving you a way\\noverblown analysis of this i said yeah but chatgpt says\\nthat too at the end considering the child\\'s age it is important to remember that some speech sound errors are developmentally\\nappropriate and may resolve on their own with time of course by that time she\\nwas walking out the door because she wasn\\'t ready to sit around in the morning and listen to me tell her that chatgpt is doing what a speech\\nlanguage pathologist does do i think it\\'s going\\nto take her job no but do i think it has really vast and\\npowerful capabilities that we can tap into\\nwith the right patterns absolutely do i think\\nit gives us the ability to focus on the things that maybe we really want\\nto spend our time on my wife loves working with kids she loves interacting\\nwith them and trying to understand\\nhow to help them writing reports \\nmaybe i\\'m not sure i don\\'t want to speak\\ntoo much for my wife but i would guess it\\'s maybe not her most favorite\\npart of the job she really loves working with the kids and trying\\nto help the kids you can imagine something\\nlike this where it allows her to focus more on the things that she really cares about in the real world maybe it can help her to\\ngive form to her thought around the child\\'s needs\\nand write these reports i hope that you\\'ll see\\nthat with a little bit of the right structure\\nin our prompts we can create these\\nreally powerful ways of giving form to our ideas and our thoughts through large language\\nmodels like chatgpt '"
      ]
     },
     "execution_count": 32,
     "metadata": {},
     "output_type": "execute_result"
    }
   ],
   "source": [
    "normalize(content1)"
   ]
  },
  {
   "cell_type": "code",
   "execution_count": null,
   "metadata": {},
   "outputs": [],
   "source": []
  }
 ],
 "metadata": {
  "kernelspec": {
   "display_name": "env-teaching",
   "language": "python",
   "name": "python3"
  },
  "language_info": {
   "codemirror_mode": {
    "name": "ipython",
    "version": 3
   },
   "file_extension": ".py",
   "mimetype": "text/x-python",
   "name": "python",
   "nbconvert_exporter": "python",
   "pygments_lexer": "ipython3",
   "version": "3.11.7"
  }
 },
 "nbformat": 4,
 "nbformat_minor": 2
}
