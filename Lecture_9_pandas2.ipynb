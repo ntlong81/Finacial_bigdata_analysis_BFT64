{
 "cells": [
  {
   "cell_type": "markdown",
   "metadata": {},
   "source": [
    "## Pandas 2"
   ]
  },
  {
   "cell_type": "code",
   "execution_count": 2,
   "metadata": {},
   "outputs": [],
   "source": [
    "import numpy as np\n",
    "import pandas as pd"
   ]
  },
  {
   "cell_type": "code",
   "execution_count": 3,
   "metadata": {},
   "outputs": [],
   "source": [
    "df1 = pd.DataFrame([['a', 1], ['b', 2]],\n",
    "                   columns=['letter', 'number'])\n",
    "df2 = pd.DataFrame([['c', 3, 'cat'], ['d', 4, 'dog']],\n",
    "                   columns=['letter', 'number', 'animal'])\n"
   ]
  },
  {
   "cell_type": "code",
   "execution_count": 4,
   "metadata": {},
   "outputs": [
    {
     "name": "stdout",
     "output_type": "stream",
     "text": [
      "  letter  number\n",
      "0      a       1\n",
      "1      b       2\n"
     ]
    }
   ],
   "source": [
    "print(df1)"
   ]
  },
  {
   "cell_type": "code",
   "execution_count": 5,
   "metadata": {},
   "outputs": [
    {
     "name": "stdout",
     "output_type": "stream",
     "text": [
      "  letter  number animal\n",
      "0      c       3    cat\n",
      "1      d       4    dog\n"
     ]
    }
   ],
   "source": [
    "print(df2)"
   ]
  },
  {
   "cell_type": "code",
   "execution_count": 6,
   "metadata": {},
   "outputs": [
    {
     "data": {
      "application/vnd.microsoft.datawrangler.viewer.v0+json": {
       "columns": [
        {
         "name": "index",
         "rawType": "int64",
         "type": "integer"
        },
        {
         "name": "letter",
         "rawType": "object",
         "type": "string"
        },
        {
         "name": "number",
         "rawType": "int64",
         "type": "integer"
        },
        {
         "name": "animal",
         "rawType": "object",
         "type": "unknown"
        }
       ],
       "conversionMethod": "pd.DataFrame",
       "ref": "6e74fb8a-cb8d-4ae4-bee1-ea8d128909ef",
       "rows": [
        [
         "0",
         "a",
         "1",
         null
        ],
        [
         "1",
         "b",
         "2",
         null
        ],
        [
         "0",
         "c",
         "3",
         "cat"
        ],
        [
         "1",
         "d",
         "4",
         "dog"
        ]
       ],
       "shape": {
        "columns": 3,
        "rows": 4
       }
      },
      "text/html": [
       "<div>\n",
       "<style scoped>\n",
       "    .dataframe tbody tr th:only-of-type {\n",
       "        vertical-align: middle;\n",
       "    }\n",
       "\n",
       "    .dataframe tbody tr th {\n",
       "        vertical-align: top;\n",
       "    }\n",
       "\n",
       "    .dataframe thead th {\n",
       "        text-align: right;\n",
       "    }\n",
       "</style>\n",
       "<table border=\"1\" class=\"dataframe\">\n",
       "  <thead>\n",
       "    <tr style=\"text-align: right;\">\n",
       "      <th></th>\n",
       "      <th>letter</th>\n",
       "      <th>number</th>\n",
       "      <th>animal</th>\n",
       "    </tr>\n",
       "  </thead>\n",
       "  <tbody>\n",
       "    <tr>\n",
       "      <th>0</th>\n",
       "      <td>a</td>\n",
       "      <td>1</td>\n",
       "      <td>NaN</td>\n",
       "    </tr>\n",
       "    <tr>\n",
       "      <th>1</th>\n",
       "      <td>b</td>\n",
       "      <td>2</td>\n",
       "      <td>NaN</td>\n",
       "    </tr>\n",
       "    <tr>\n",
       "      <th>0</th>\n",
       "      <td>c</td>\n",
       "      <td>3</td>\n",
       "      <td>cat</td>\n",
       "    </tr>\n",
       "    <tr>\n",
       "      <th>1</th>\n",
       "      <td>d</td>\n",
       "      <td>4</td>\n",
       "      <td>dog</td>\n",
       "    </tr>\n",
       "  </tbody>\n",
       "</table>\n",
       "</div>"
      ],
      "text/plain": [
       "  letter  number animal\n",
       "0      a       1    NaN\n",
       "1      b       2    NaN\n",
       "0      c       3    cat\n",
       "1      d       4    dog"
      ]
     },
     "execution_count": 6,
     "metadata": {},
     "output_type": "execute_result"
    }
   ],
   "source": [
    "pd.concat([df1,df2])"
   ]
  },
  {
   "cell_type": "code",
   "execution_count": 8,
   "metadata": {},
   "outputs": [
    {
     "name": "stdout",
     "output_type": "stream",
     "text": [
      "  letter  number letter  number animal\n",
      "0      a       1      c       3    cat\n",
      "1      b       2      d       4    dog\n"
     ]
    }
   ],
   "source": [
    "print(pd.concat([df1,df2], axis=1))"
   ]
  },
  {
   "cell_type": "code",
   "execution_count": 10,
   "metadata": {},
   "outputs": [
    {
     "ename": "AttributeError",
     "evalue": "'DataFrame' object has no attribute 'append'",
     "output_type": "error",
     "traceback": [
      "\u001b[1;31m---------------------------------------------------------------------------\u001b[0m",
      "\u001b[1;31mAttributeError\u001b[0m                            Traceback (most recent call last)",
      "\u001b[1;32m~\\AppData\\Local\\Temp\\ipykernel_19040\\1368728975.py\u001b[0m in \u001b[0;36m?\u001b[1;34m()\u001b[0m\n\u001b[0;32m      1\u001b[0m df_x = pd.DataFrame([['a', 1], ['b', 2]],\n\u001b[0;32m      2\u001b[0m                    columns=['letter', 'number'])\n\u001b[0;32m      3\u001b[0m df_y = pd.DataFrame([['a', 1], ['b', 2]],\n\u001b[0;32m      4\u001b[0m                    columns=['letter', 'number'])\n\u001b[1;32m----> 5\u001b[1;33m \u001b[0mprint\u001b[0m\u001b[1;33m(\u001b[0m\u001b[0mdf_x\u001b[0m\u001b[1;33m.\u001b[0m\u001b[0mappend\u001b[0m\u001b[1;33m(\u001b[0m\u001b[0mdf_y\u001b[0m\u001b[1;33m)\u001b[0m\u001b[1;33m)\u001b[0m\u001b[1;33m\u001b[0m\u001b[1;33m\u001b[0m\u001b[0m\n\u001b[0m",
      "\u001b[1;32md:\\CODE\\env-teaching\\Lib\\site-packages\\pandas\\core\\generic.py\u001b[0m in \u001b[0;36m?\u001b[1;34m(self, name)\u001b[0m\n\u001b[0;32m   6295\u001b[0m             \u001b[1;32mand\u001b[0m \u001b[0mname\u001b[0m \u001b[1;32mnot\u001b[0m \u001b[1;32min\u001b[0m \u001b[0mself\u001b[0m\u001b[1;33m.\u001b[0m\u001b[0m_accessors\u001b[0m\u001b[1;33m\u001b[0m\u001b[1;33m\u001b[0m\u001b[0m\n\u001b[0;32m   6296\u001b[0m             \u001b[1;32mand\u001b[0m \u001b[0mself\u001b[0m\u001b[1;33m.\u001b[0m\u001b[0m_info_axis\u001b[0m\u001b[1;33m.\u001b[0m\u001b[0m_can_hold_identifiers_and_holds_name\u001b[0m\u001b[1;33m(\u001b[0m\u001b[0mname\u001b[0m\u001b[1;33m)\u001b[0m\u001b[1;33m\u001b[0m\u001b[1;33m\u001b[0m\u001b[0m\n\u001b[0;32m   6297\u001b[0m         ):\n\u001b[0;32m   6298\u001b[0m             \u001b[1;32mreturn\u001b[0m \u001b[0mself\u001b[0m\u001b[1;33m[\u001b[0m\u001b[0mname\u001b[0m\u001b[1;33m]\u001b[0m\u001b[1;33m\u001b[0m\u001b[1;33m\u001b[0m\u001b[0m\n\u001b[1;32m-> 6299\u001b[1;33m         \u001b[1;32mreturn\u001b[0m \u001b[0mobject\u001b[0m\u001b[1;33m.\u001b[0m\u001b[0m__getattribute__\u001b[0m\u001b[1;33m(\u001b[0m\u001b[0mself\u001b[0m\u001b[1;33m,\u001b[0m \u001b[0mname\u001b[0m\u001b[1;33m)\u001b[0m\u001b[1;33m\u001b[0m\u001b[1;33m\u001b[0m\u001b[0m\n\u001b[0m",
      "\u001b[1;31mAttributeError\u001b[0m: 'DataFrame' object has no attribute 'append'"
     ]
    }
   ],
   "source": [
    "df_x = pd.DataFrame([['a', 1], ['b', 2]],\n",
    "                   columns=['letter', 'number'])\n",
    "df_y = pd.DataFrame([['a', 1], ['b', 2]],\n",
    "                   columns=['letter', 'number'])\n",
    "print(df_x.append(df_y))"
   ]
  },
  {
   "cell_type": "code",
   "execution_count": 12,
   "metadata": {},
   "outputs": [],
   "source": [
    "url1 = 'https://raw.githubusercontent.com/jakevdp/data-USstates/master/state-population.csv'\n",
    "url2 = 'https://raw.githubusercontent.com/jakevdp/data-USstates/master/state-areas.csv'\n",
    "url3 = 'https://raw.githubusercontent.com/jakevdp/data-USstates/master/state-abbrevs.csv'\n",
    "\n",
    "pop = pd.read_csv(url1)\n",
    "areas = pd.read_csv(url2)\n",
    "abbrevs = pd.read_csv(url3)\n"
   ]
  },
  {
   "cell_type": "code",
   "execution_count": 13,
   "metadata": {},
   "outputs": [
    {
     "data": {
      "application/vnd.microsoft.datawrangler.viewer.v0+json": {
       "columns": [
        {
         "name": "index",
         "rawType": "int64",
         "type": "integer"
        },
        {
         "name": "state/region",
         "rawType": "object",
         "type": "string"
        },
        {
         "name": "ages",
         "rawType": "object",
         "type": "string"
        },
        {
         "name": "year",
         "rawType": "int64",
         "type": "integer"
        },
        {
         "name": "population",
         "rawType": "float64",
         "type": "float"
        }
       ],
       "conversionMethod": "pd.DataFrame",
       "ref": "05706612-01a0-4874-89aa-35d3279770ff",
       "rows": [
        [
         "0",
         "AL",
         "under18",
         "2012",
         "1117489.0"
        ],
        [
         "1",
         "AL",
         "total",
         "2012",
         "4817528.0"
        ],
        [
         "2",
         "AL",
         "under18",
         "2010",
         "1130966.0"
        ],
        [
         "3",
         "AL",
         "total",
         "2010",
         "4785570.0"
        ],
        [
         "4",
         "AL",
         "under18",
         "2011",
         "1125763.0"
        ]
       ],
       "shape": {
        "columns": 4,
        "rows": 5
       }
      },
      "text/html": [
       "<div>\n",
       "<style scoped>\n",
       "    .dataframe tbody tr th:only-of-type {\n",
       "        vertical-align: middle;\n",
       "    }\n",
       "\n",
       "    .dataframe tbody tr th {\n",
       "        vertical-align: top;\n",
       "    }\n",
       "\n",
       "    .dataframe thead th {\n",
       "        text-align: right;\n",
       "    }\n",
       "</style>\n",
       "<table border=\"1\" class=\"dataframe\">\n",
       "  <thead>\n",
       "    <tr style=\"text-align: right;\">\n",
       "      <th></th>\n",
       "      <th>state/region</th>\n",
       "      <th>ages</th>\n",
       "      <th>year</th>\n",
       "      <th>population</th>\n",
       "    </tr>\n",
       "  </thead>\n",
       "  <tbody>\n",
       "    <tr>\n",
       "      <th>0</th>\n",
       "      <td>AL</td>\n",
       "      <td>under18</td>\n",
       "      <td>2012</td>\n",
       "      <td>1117489.0</td>\n",
       "    </tr>\n",
       "    <tr>\n",
       "      <th>1</th>\n",
       "      <td>AL</td>\n",
       "      <td>total</td>\n",
       "      <td>2012</td>\n",
       "      <td>4817528.0</td>\n",
       "    </tr>\n",
       "    <tr>\n",
       "      <th>2</th>\n",
       "      <td>AL</td>\n",
       "      <td>under18</td>\n",
       "      <td>2010</td>\n",
       "      <td>1130966.0</td>\n",
       "    </tr>\n",
       "    <tr>\n",
       "      <th>3</th>\n",
       "      <td>AL</td>\n",
       "      <td>total</td>\n",
       "      <td>2010</td>\n",
       "      <td>4785570.0</td>\n",
       "    </tr>\n",
       "    <tr>\n",
       "      <th>4</th>\n",
       "      <td>AL</td>\n",
       "      <td>under18</td>\n",
       "      <td>2011</td>\n",
       "      <td>1125763.0</td>\n",
       "    </tr>\n",
       "  </tbody>\n",
       "</table>\n",
       "</div>"
      ],
      "text/plain": [
       "  state/region     ages  year  population\n",
       "0           AL  under18  2012   1117489.0\n",
       "1           AL    total  2012   4817528.0\n",
       "2           AL  under18  2010   1130966.0\n",
       "3           AL    total  2010   4785570.0\n",
       "4           AL  under18  2011   1125763.0"
      ]
     },
     "execution_count": 13,
     "metadata": {},
     "output_type": "execute_result"
    }
   ],
   "source": [
    "pop.head()"
   ]
  },
  {
   "cell_type": "code",
   "execution_count": 14,
   "metadata": {},
   "outputs": [
    {
     "data": {
      "application/vnd.microsoft.datawrangler.viewer.v0+json": {
       "columns": [
        {
         "name": "index",
         "rawType": "int64",
         "type": "integer"
        },
        {
         "name": "state",
         "rawType": "object",
         "type": "string"
        },
        {
         "name": "area (sq. mi)",
         "rawType": "int64",
         "type": "integer"
        }
       ],
       "conversionMethod": "pd.DataFrame",
       "ref": "70ebb46f-be67-4ad0-b47e-2bf9effea8b7",
       "rows": [
        [
         "0",
         "Alabama",
         "52423"
        ],
        [
         "1",
         "Alaska",
         "656425"
        ],
        [
         "2",
         "Arizona",
         "114006"
        ],
        [
         "3",
         "Arkansas",
         "53182"
        ],
        [
         "4",
         "California",
         "163707"
        ]
       ],
       "shape": {
        "columns": 2,
        "rows": 5
       }
      },
      "text/html": [
       "<div>\n",
       "<style scoped>\n",
       "    .dataframe tbody tr th:only-of-type {\n",
       "        vertical-align: middle;\n",
       "    }\n",
       "\n",
       "    .dataframe tbody tr th {\n",
       "        vertical-align: top;\n",
       "    }\n",
       "\n",
       "    .dataframe thead th {\n",
       "        text-align: right;\n",
       "    }\n",
       "</style>\n",
       "<table border=\"1\" class=\"dataframe\">\n",
       "  <thead>\n",
       "    <tr style=\"text-align: right;\">\n",
       "      <th></th>\n",
       "      <th>state</th>\n",
       "      <th>area (sq. mi)</th>\n",
       "    </tr>\n",
       "  </thead>\n",
       "  <tbody>\n",
       "    <tr>\n",
       "      <th>0</th>\n",
       "      <td>Alabama</td>\n",
       "      <td>52423</td>\n",
       "    </tr>\n",
       "    <tr>\n",
       "      <th>1</th>\n",
       "      <td>Alaska</td>\n",
       "      <td>656425</td>\n",
       "    </tr>\n",
       "    <tr>\n",
       "      <th>2</th>\n",
       "      <td>Arizona</td>\n",
       "      <td>114006</td>\n",
       "    </tr>\n",
       "    <tr>\n",
       "      <th>3</th>\n",
       "      <td>Arkansas</td>\n",
       "      <td>53182</td>\n",
       "    </tr>\n",
       "    <tr>\n",
       "      <th>4</th>\n",
       "      <td>California</td>\n",
       "      <td>163707</td>\n",
       "    </tr>\n",
       "  </tbody>\n",
       "</table>\n",
       "</div>"
      ],
      "text/plain": [
       "        state  area (sq. mi)\n",
       "0     Alabama          52423\n",
       "1      Alaska         656425\n",
       "2     Arizona         114006\n",
       "3    Arkansas          53182\n",
       "4  California         163707"
      ]
     },
     "execution_count": 14,
     "metadata": {},
     "output_type": "execute_result"
    }
   ],
   "source": [
    "areas.head()"
   ]
  },
  {
   "cell_type": "code",
   "execution_count": 15,
   "metadata": {},
   "outputs": [
    {
     "data": {
      "application/vnd.microsoft.datawrangler.viewer.v0+json": {
       "columns": [
        {
         "name": "index",
         "rawType": "int64",
         "type": "integer"
        },
        {
         "name": "state",
         "rawType": "object",
         "type": "string"
        },
        {
         "name": "abbreviation",
         "rawType": "object",
         "type": "string"
        }
       ],
       "conversionMethod": "pd.DataFrame",
       "ref": "757ae064-cdff-4e21-9223-8007e5683197",
       "rows": [
        [
         "0",
         "Alabama",
         "AL"
        ],
        [
         "1",
         "Alaska",
         "AK"
        ],
        [
         "2",
         "Arizona",
         "AZ"
        ],
        [
         "3",
         "Arkansas",
         "AR"
        ],
        [
         "4",
         "California",
         "CA"
        ]
       ],
       "shape": {
        "columns": 2,
        "rows": 5
       }
      },
      "text/html": [
       "<div>\n",
       "<style scoped>\n",
       "    .dataframe tbody tr th:only-of-type {\n",
       "        vertical-align: middle;\n",
       "    }\n",
       "\n",
       "    .dataframe tbody tr th {\n",
       "        vertical-align: top;\n",
       "    }\n",
       "\n",
       "    .dataframe thead th {\n",
       "        text-align: right;\n",
       "    }\n",
       "</style>\n",
       "<table border=\"1\" class=\"dataframe\">\n",
       "  <thead>\n",
       "    <tr style=\"text-align: right;\">\n",
       "      <th></th>\n",
       "      <th>state</th>\n",
       "      <th>abbreviation</th>\n",
       "    </tr>\n",
       "  </thead>\n",
       "  <tbody>\n",
       "    <tr>\n",
       "      <th>0</th>\n",
       "      <td>Alabama</td>\n",
       "      <td>AL</td>\n",
       "    </tr>\n",
       "    <tr>\n",
       "      <th>1</th>\n",
       "      <td>Alaska</td>\n",
       "      <td>AK</td>\n",
       "    </tr>\n",
       "    <tr>\n",
       "      <th>2</th>\n",
       "      <td>Arizona</td>\n",
       "      <td>AZ</td>\n",
       "    </tr>\n",
       "    <tr>\n",
       "      <th>3</th>\n",
       "      <td>Arkansas</td>\n",
       "      <td>AR</td>\n",
       "    </tr>\n",
       "    <tr>\n",
       "      <th>4</th>\n",
       "      <td>California</td>\n",
       "      <td>CA</td>\n",
       "    </tr>\n",
       "  </tbody>\n",
       "</table>\n",
       "</div>"
      ],
      "text/plain": [
       "        state abbreviation\n",
       "0     Alabama           AL\n",
       "1      Alaska           AK\n",
       "2     Arizona           AZ\n",
       "3    Arkansas           AR\n",
       "4  California           CA"
      ]
     },
     "execution_count": 15,
     "metadata": {},
     "output_type": "execute_result"
    }
   ],
   "source": [
    "abbrevs.head()"
   ]
  },
  {
   "cell_type": "code",
   "execution_count": 24,
   "metadata": {},
   "outputs": [
    {
     "data": {
      "application/vnd.microsoft.datawrangler.viewer.v0+json": {
       "columns": [
        {
         "name": "index",
         "rawType": "int64",
         "type": "integer"
        },
        {
         "name": "state",
         "rawType": "object",
         "type": "string"
        },
        {
         "name": "ages",
         "rawType": "object",
         "type": "string"
        },
        {
         "name": "year",
         "rawType": "int64",
         "type": "integer"
        },
        {
         "name": "population",
         "rawType": "float64",
         "type": "float"
        }
       ],
       "conversionMethod": "pd.DataFrame",
       "ref": "8bc82c4d-68d8-4e9f-a57e-c282a7f51f41",
       "rows": [
        [
         "0",
         "Alabama",
         "under18",
         "2012",
         "1117489.0"
        ],
        [
         "1",
         "Alabama",
         "total",
         "2012",
         "4817528.0"
        ],
        [
         "2",
         "Alabama",
         "under18",
         "2010",
         "1130966.0"
        ],
        [
         "3",
         "Alabama",
         "total",
         "2010",
         "4785570.0"
        ],
        [
         "4",
         "Alabama",
         "under18",
         "2011",
         "1125763.0"
        ],
        [
         "5",
         "Alabama",
         "total",
         "2011",
         "4801627.0"
        ],
        [
         "6",
         "Alabama",
         "total",
         "2009",
         "4757938.0"
        ],
        [
         "7",
         "Alabama",
         "under18",
         "2009",
         "1134192.0"
        ],
        [
         "8",
         "Alabama",
         "under18",
         "2013",
         "1111481.0"
        ],
        [
         "9",
         "Alabama",
         "total",
         "2013",
         "4833722.0"
        ],
        [
         "10",
         "Alabama",
         "total",
         "2007",
         "4672840.0"
        ],
        [
         "11",
         "Alabama",
         "under18",
         "2007",
         "1132296.0"
        ],
        [
         "12",
         "Alabama",
         "total",
         "2008",
         "4718206.0"
        ],
        [
         "13",
         "Alabama",
         "under18",
         "2008",
         "1134927.0"
        ],
        [
         "14",
         "Alabama",
         "total",
         "2005",
         "4569805.0"
        ],
        [
         "15",
         "Alabama",
         "under18",
         "2005",
         "1117229.0"
        ],
        [
         "16",
         "Alabama",
         "total",
         "2006",
         "4628981.0"
        ],
        [
         "17",
         "Alabama",
         "under18",
         "2006",
         "1126798.0"
        ],
        [
         "18",
         "Alabama",
         "total",
         "2004",
         "4530729.0"
        ],
        [
         "19",
         "Alabama",
         "under18",
         "2004",
         "1113662.0"
        ],
        [
         "20",
         "Alabama",
         "total",
         "2003",
         "4503491.0"
        ],
        [
         "21",
         "Alabama",
         "under18",
         "2003",
         "1113083.0"
        ],
        [
         "22",
         "Alabama",
         "total",
         "2001",
         "4467634.0"
        ],
        [
         "23",
         "Alabama",
         "under18",
         "2001",
         "1120409.0"
        ],
        [
         "24",
         "Alabama",
         "total",
         "2002",
         "4480089.0"
        ],
        [
         "25",
         "Alabama",
         "under18",
         "2002",
         "1116590.0"
        ],
        [
         "26",
         "Alabama",
         "under18",
         "1999",
         "1121287.0"
        ],
        [
         "27",
         "Alabama",
         "total",
         "1999",
         "4430141.0"
        ],
        [
         "28",
         "Alabama",
         "total",
         "2000",
         "4452173.0"
        ],
        [
         "29",
         "Alabama",
         "under18",
         "2000",
         "1122273.0"
        ],
        [
         "30",
         "Alabama",
         "total",
         "1998",
         "4404701.0"
        ],
        [
         "31",
         "Alabama",
         "under18",
         "1998",
         "1118252.0"
        ],
        [
         "32",
         "Alabama",
         "under18",
         "1997",
         "1122893.0"
        ],
        [
         "33",
         "Alabama",
         "total",
         "1997",
         "4367935.0"
        ],
        [
         "34",
         "Alabama",
         "total",
         "1996",
         "4331103.0"
        ],
        [
         "35",
         "Alabama",
         "total",
         "1995",
         "4296800.0"
        ],
        [
         "36",
         "Alabama",
         "under18",
         "1995",
         "1110553.0"
        ],
        [
         "37",
         "Alabama",
         "under18",
         "1996",
         "1112092.0"
        ],
        [
         "38",
         "Alabama",
         "total",
         "1994",
         "4260229.0"
        ],
        [
         "39",
         "Alabama",
         "total",
         "1993",
         "4214202.0"
        ],
        [
         "40",
         "Alabama",
         "under18",
         "1993",
         "1085606.0"
        ],
        [
         "41",
         "Alabama",
         "under18",
         "1994",
         "1097180.0"
        ],
        [
         "42",
         "Alabama",
         "under18",
         "1992",
         "1072873.0"
        ],
        [
         "43",
         "Alabama",
         "total",
         "1992",
         "4154014.0"
        ],
        [
         "44",
         "Alabama",
         "total",
         "1991",
         "4099156.0"
        ],
        [
         "45",
         "Alabama",
         "under18",
         "1991",
         "1060794.0"
        ],
        [
         "46",
         "Alabama",
         "under18",
         "1990",
         "1050041.0"
        ],
        [
         "47",
         "Alabama",
         "total",
         "1990",
         "4050055.0"
        ],
        [
         "48",
         "Alaska",
         "total",
         "1990",
         "553290.0"
        ],
        [
         "49",
         "Alaska",
         "under18",
         "1990",
         "177502.0"
        ]
       ],
       "shape": {
        "columns": 4,
        "rows": 2448
       }
      },
      "text/html": [
       "<div>\n",
       "<style scoped>\n",
       "    .dataframe tbody tr th:only-of-type {\n",
       "        vertical-align: middle;\n",
       "    }\n",
       "\n",
       "    .dataframe tbody tr th {\n",
       "        vertical-align: top;\n",
       "    }\n",
       "\n",
       "    .dataframe thead th {\n",
       "        text-align: right;\n",
       "    }\n",
       "</style>\n",
       "<table border=\"1\" class=\"dataframe\">\n",
       "  <thead>\n",
       "    <tr style=\"text-align: right;\">\n",
       "      <th></th>\n",
       "      <th>state</th>\n",
       "      <th>ages</th>\n",
       "      <th>year</th>\n",
       "      <th>population</th>\n",
       "    </tr>\n",
       "  </thead>\n",
       "  <tbody>\n",
       "    <tr>\n",
       "      <th>0</th>\n",
       "      <td>Alabama</td>\n",
       "      <td>under18</td>\n",
       "      <td>2012</td>\n",
       "      <td>1117489.0</td>\n",
       "    </tr>\n",
       "    <tr>\n",
       "      <th>1</th>\n",
       "      <td>Alabama</td>\n",
       "      <td>total</td>\n",
       "      <td>2012</td>\n",
       "      <td>4817528.0</td>\n",
       "    </tr>\n",
       "    <tr>\n",
       "      <th>2</th>\n",
       "      <td>Alabama</td>\n",
       "      <td>under18</td>\n",
       "      <td>2010</td>\n",
       "      <td>1130966.0</td>\n",
       "    </tr>\n",
       "    <tr>\n",
       "      <th>3</th>\n",
       "      <td>Alabama</td>\n",
       "      <td>total</td>\n",
       "      <td>2010</td>\n",
       "      <td>4785570.0</td>\n",
       "    </tr>\n",
       "    <tr>\n",
       "      <th>4</th>\n",
       "      <td>Alabama</td>\n",
       "      <td>under18</td>\n",
       "      <td>2011</td>\n",
       "      <td>1125763.0</td>\n",
       "    </tr>\n",
       "    <tr>\n",
       "      <th>...</th>\n",
       "      <td>...</td>\n",
       "      <td>...</td>\n",
       "      <td>...</td>\n",
       "      <td>...</td>\n",
       "    </tr>\n",
       "    <tr>\n",
       "      <th>2443</th>\n",
       "      <td>Wyoming</td>\n",
       "      <td>under18</td>\n",
       "      <td>1993</td>\n",
       "      <td>137458.0</td>\n",
       "    </tr>\n",
       "    <tr>\n",
       "      <th>2444</th>\n",
       "      <td>Wyoming</td>\n",
       "      <td>total</td>\n",
       "      <td>1991</td>\n",
       "      <td>459260.0</td>\n",
       "    </tr>\n",
       "    <tr>\n",
       "      <th>2445</th>\n",
       "      <td>Wyoming</td>\n",
       "      <td>under18</td>\n",
       "      <td>1991</td>\n",
       "      <td>136720.0</td>\n",
       "    </tr>\n",
       "    <tr>\n",
       "      <th>2446</th>\n",
       "      <td>Wyoming</td>\n",
       "      <td>under18</td>\n",
       "      <td>1990</td>\n",
       "      <td>136078.0</td>\n",
       "    </tr>\n",
       "    <tr>\n",
       "      <th>2447</th>\n",
       "      <td>Wyoming</td>\n",
       "      <td>total</td>\n",
       "      <td>1990</td>\n",
       "      <td>453690.0</td>\n",
       "    </tr>\n",
       "  </tbody>\n",
       "</table>\n",
       "<p>2448 rows × 4 columns</p>\n",
       "</div>"
      ],
      "text/plain": [
       "        state     ages  year  population\n",
       "0     Alabama  under18  2012   1117489.0\n",
       "1     Alabama    total  2012   4817528.0\n",
       "2     Alabama  under18  2010   1130966.0\n",
       "3     Alabama    total  2010   4785570.0\n",
       "4     Alabama  under18  2011   1125763.0\n",
       "...       ...      ...   ...         ...\n",
       "2443  Wyoming  under18  1993    137458.0\n",
       "2444  Wyoming    total  1991    459260.0\n",
       "2445  Wyoming  under18  1991    136720.0\n",
       "2446  Wyoming  under18  1990    136078.0\n",
       "2447  Wyoming    total  1990    453690.0\n",
       "\n",
       "[2448 rows x 4 columns]"
      ]
     },
     "execution_count": 24,
     "metadata": {},
     "output_type": "execute_result"
    }
   ],
   "source": [
    "df3 = pd.merge(abbrevs,pop,\n",
    "         left_on='abbreviation',\n",
    "         right_on=\"state/region\").drop(columns=['abbreviation','state/region'])\n",
    "df3 "
   ]
  },
  {
   "cell_type": "code",
   "execution_count": 26,
   "metadata": {},
   "outputs": [
    {
     "data": {
      "text/plain": [
       "state            0\n",
       "ages             0\n",
       "year             0\n",
       "population       0\n",
       "area (sq. mi)    0\n",
       "dtype: int64"
      ]
     },
     "execution_count": 26,
     "metadata": {},
     "output_type": "execute_result"
    }
   ],
   "source": [
    "df = pd.merge(df3,areas)\n",
    "df.isnull().sum()"
   ]
  },
  {
   "cell_type": "code",
   "execution_count": 27,
   "metadata": {},
   "outputs": [
    {
     "data": {
      "application/vnd.microsoft.datawrangler.viewer.v0+json": {
       "columns": [
        {
         "name": "index",
         "rawType": "int64",
         "type": "integer"
        },
        {
         "name": "state",
         "rawType": "object",
         "type": "string"
        },
        {
         "name": "ages",
         "rawType": "object",
         "type": "string"
        },
        {
         "name": "year",
         "rawType": "int64",
         "type": "integer"
        },
        {
         "name": "population",
         "rawType": "float64",
         "type": "float"
        },
        {
         "name": "area (sq. mi)",
         "rawType": "int64",
         "type": "integer"
        }
       ],
       "conversionMethod": "pd.DataFrame",
       "ref": "97990f77-b39e-4af5-b797-cd005e9be171",
       "rows": [
        [
         "0",
         "Alabama",
         "under18",
         "2012",
         "1117489.0",
         "52423"
        ],
        [
         "1",
         "Alabama",
         "total",
         "2012",
         "4817528.0",
         "52423"
        ],
        [
         "2",
         "Alabama",
         "under18",
         "2010",
         "1130966.0",
         "52423"
        ],
        [
         "3",
         "Alabama",
         "total",
         "2010",
         "4785570.0",
         "52423"
        ],
        [
         "4",
         "Alabama",
         "under18",
         "2011",
         "1125763.0",
         "52423"
        ],
        [
         "5",
         "Alabama",
         "total",
         "2011",
         "4801627.0",
         "52423"
        ],
        [
         "6",
         "Alabama",
         "total",
         "2009",
         "4757938.0",
         "52423"
        ],
        [
         "7",
         "Alabama",
         "under18",
         "2009",
         "1134192.0",
         "52423"
        ],
        [
         "8",
         "Alabama",
         "under18",
         "2013",
         "1111481.0",
         "52423"
        ],
        [
         "9",
         "Alabama",
         "total",
         "2013",
         "4833722.0",
         "52423"
        ],
        [
         "10",
         "Alabama",
         "total",
         "2007",
         "4672840.0",
         "52423"
        ],
        [
         "11",
         "Alabama",
         "under18",
         "2007",
         "1132296.0",
         "52423"
        ],
        [
         "12",
         "Alabama",
         "total",
         "2008",
         "4718206.0",
         "52423"
        ],
        [
         "13",
         "Alabama",
         "under18",
         "2008",
         "1134927.0",
         "52423"
        ],
        [
         "14",
         "Alabama",
         "total",
         "2005",
         "4569805.0",
         "52423"
        ],
        [
         "15",
         "Alabama",
         "under18",
         "2005",
         "1117229.0",
         "52423"
        ],
        [
         "16",
         "Alabama",
         "total",
         "2006",
         "4628981.0",
         "52423"
        ],
        [
         "17",
         "Alabama",
         "under18",
         "2006",
         "1126798.0",
         "52423"
        ],
        [
         "18",
         "Alabama",
         "total",
         "2004",
         "4530729.0",
         "52423"
        ],
        [
         "19",
         "Alabama",
         "under18",
         "2004",
         "1113662.0",
         "52423"
        ],
        [
         "20",
         "Alabama",
         "total",
         "2003",
         "4503491.0",
         "52423"
        ],
        [
         "21",
         "Alabama",
         "under18",
         "2003",
         "1113083.0",
         "52423"
        ],
        [
         "22",
         "Alabama",
         "total",
         "2001",
         "4467634.0",
         "52423"
        ],
        [
         "23",
         "Alabama",
         "under18",
         "2001",
         "1120409.0",
         "52423"
        ],
        [
         "24",
         "Alabama",
         "total",
         "2002",
         "4480089.0",
         "52423"
        ],
        [
         "25",
         "Alabama",
         "under18",
         "2002",
         "1116590.0",
         "52423"
        ],
        [
         "26",
         "Alabama",
         "under18",
         "1999",
         "1121287.0",
         "52423"
        ],
        [
         "27",
         "Alabama",
         "total",
         "1999",
         "4430141.0",
         "52423"
        ],
        [
         "28",
         "Alabama",
         "total",
         "2000",
         "4452173.0",
         "52423"
        ],
        [
         "29",
         "Alabama",
         "under18",
         "2000",
         "1122273.0",
         "52423"
        ],
        [
         "30",
         "Alabama",
         "total",
         "1998",
         "4404701.0",
         "52423"
        ],
        [
         "31",
         "Alabama",
         "under18",
         "1998",
         "1118252.0",
         "52423"
        ],
        [
         "32",
         "Alabama",
         "under18",
         "1997",
         "1122893.0",
         "52423"
        ],
        [
         "33",
         "Alabama",
         "total",
         "1997",
         "4367935.0",
         "52423"
        ],
        [
         "34",
         "Alabama",
         "total",
         "1996",
         "4331103.0",
         "52423"
        ],
        [
         "35",
         "Alabama",
         "total",
         "1995",
         "4296800.0",
         "52423"
        ],
        [
         "36",
         "Alabama",
         "under18",
         "1995",
         "1110553.0",
         "52423"
        ],
        [
         "37",
         "Alabama",
         "under18",
         "1996",
         "1112092.0",
         "52423"
        ],
        [
         "38",
         "Alabama",
         "total",
         "1994",
         "4260229.0",
         "52423"
        ],
        [
         "39",
         "Alabama",
         "total",
         "1993",
         "4214202.0",
         "52423"
        ],
        [
         "40",
         "Alabama",
         "under18",
         "1993",
         "1085606.0",
         "52423"
        ],
        [
         "41",
         "Alabama",
         "under18",
         "1994",
         "1097180.0",
         "52423"
        ],
        [
         "42",
         "Alabama",
         "under18",
         "1992",
         "1072873.0",
         "52423"
        ],
        [
         "43",
         "Alabama",
         "total",
         "1992",
         "4154014.0",
         "52423"
        ],
        [
         "44",
         "Alabama",
         "total",
         "1991",
         "4099156.0",
         "52423"
        ],
        [
         "45",
         "Alabama",
         "under18",
         "1991",
         "1060794.0",
         "52423"
        ],
        [
         "46",
         "Alabama",
         "under18",
         "1990",
         "1050041.0",
         "52423"
        ],
        [
         "47",
         "Alabama",
         "total",
         "1990",
         "4050055.0",
         "52423"
        ],
        [
         "48",
         "Alaska",
         "total",
         "1990",
         "553290.0",
         "656425"
        ],
        [
         "49",
         "Alaska",
         "under18",
         "1990",
         "177502.0",
         "656425"
        ]
       ],
       "shape": {
        "columns": 5,
        "rows": 2448
       }
      },
      "text/html": [
       "<div>\n",
       "<style scoped>\n",
       "    .dataframe tbody tr th:only-of-type {\n",
       "        vertical-align: middle;\n",
       "    }\n",
       "\n",
       "    .dataframe tbody tr th {\n",
       "        vertical-align: top;\n",
       "    }\n",
       "\n",
       "    .dataframe thead th {\n",
       "        text-align: right;\n",
       "    }\n",
       "</style>\n",
       "<table border=\"1\" class=\"dataframe\">\n",
       "  <thead>\n",
       "    <tr style=\"text-align: right;\">\n",
       "      <th></th>\n",
       "      <th>state</th>\n",
       "      <th>ages</th>\n",
       "      <th>year</th>\n",
       "      <th>population</th>\n",
       "      <th>area (sq. mi)</th>\n",
       "    </tr>\n",
       "  </thead>\n",
       "  <tbody>\n",
       "    <tr>\n",
       "      <th>0</th>\n",
       "      <td>Alabama</td>\n",
       "      <td>under18</td>\n",
       "      <td>2012</td>\n",
       "      <td>1117489.0</td>\n",
       "      <td>52423</td>\n",
       "    </tr>\n",
       "    <tr>\n",
       "      <th>1</th>\n",
       "      <td>Alabama</td>\n",
       "      <td>total</td>\n",
       "      <td>2012</td>\n",
       "      <td>4817528.0</td>\n",
       "      <td>52423</td>\n",
       "    </tr>\n",
       "    <tr>\n",
       "      <th>2</th>\n",
       "      <td>Alabama</td>\n",
       "      <td>under18</td>\n",
       "      <td>2010</td>\n",
       "      <td>1130966.0</td>\n",
       "      <td>52423</td>\n",
       "    </tr>\n",
       "    <tr>\n",
       "      <th>3</th>\n",
       "      <td>Alabama</td>\n",
       "      <td>total</td>\n",
       "      <td>2010</td>\n",
       "      <td>4785570.0</td>\n",
       "      <td>52423</td>\n",
       "    </tr>\n",
       "    <tr>\n",
       "      <th>4</th>\n",
       "      <td>Alabama</td>\n",
       "      <td>under18</td>\n",
       "      <td>2011</td>\n",
       "      <td>1125763.0</td>\n",
       "      <td>52423</td>\n",
       "    </tr>\n",
       "    <tr>\n",
       "      <th>...</th>\n",
       "      <td>...</td>\n",
       "      <td>...</td>\n",
       "      <td>...</td>\n",
       "      <td>...</td>\n",
       "      <td>...</td>\n",
       "    </tr>\n",
       "    <tr>\n",
       "      <th>2443</th>\n",
       "      <td>Wyoming</td>\n",
       "      <td>under18</td>\n",
       "      <td>1993</td>\n",
       "      <td>137458.0</td>\n",
       "      <td>97818</td>\n",
       "    </tr>\n",
       "    <tr>\n",
       "      <th>2444</th>\n",
       "      <td>Wyoming</td>\n",
       "      <td>total</td>\n",
       "      <td>1991</td>\n",
       "      <td>459260.0</td>\n",
       "      <td>97818</td>\n",
       "    </tr>\n",
       "    <tr>\n",
       "      <th>2445</th>\n",
       "      <td>Wyoming</td>\n",
       "      <td>under18</td>\n",
       "      <td>1991</td>\n",
       "      <td>136720.0</td>\n",
       "      <td>97818</td>\n",
       "    </tr>\n",
       "    <tr>\n",
       "      <th>2446</th>\n",
       "      <td>Wyoming</td>\n",
       "      <td>under18</td>\n",
       "      <td>1990</td>\n",
       "      <td>136078.0</td>\n",
       "      <td>97818</td>\n",
       "    </tr>\n",
       "    <tr>\n",
       "      <th>2447</th>\n",
       "      <td>Wyoming</td>\n",
       "      <td>total</td>\n",
       "      <td>1990</td>\n",
       "      <td>453690.0</td>\n",
       "      <td>97818</td>\n",
       "    </tr>\n",
       "  </tbody>\n",
       "</table>\n",
       "<p>2448 rows × 5 columns</p>\n",
       "</div>"
      ],
      "text/plain": [
       "        state     ages  year  population  area (sq. mi)\n",
       "0     Alabama  under18  2012   1117489.0          52423\n",
       "1     Alabama    total  2012   4817528.0          52423\n",
       "2     Alabama  under18  2010   1130966.0          52423\n",
       "3     Alabama    total  2010   4785570.0          52423\n",
       "4     Alabama  under18  2011   1125763.0          52423\n",
       "...       ...      ...   ...         ...            ...\n",
       "2443  Wyoming  under18  1993    137458.0          97818\n",
       "2444  Wyoming    total  1991    459260.0          97818\n",
       "2445  Wyoming  under18  1991    136720.0          97818\n",
       "2446  Wyoming  under18  1990    136078.0          97818\n",
       "2447  Wyoming    total  1990    453690.0          97818\n",
       "\n",
       "[2448 rows x 5 columns]"
      ]
     },
     "execution_count": 27,
     "metadata": {},
     "output_type": "execute_result"
    }
   ],
   "source": [
    "df "
   ]
  },
  {
   "cell_type": "code",
   "execution_count": 28,
   "metadata": {},
   "outputs": [
    {
     "data": {
      "application/vnd.microsoft.datawrangler.viewer.v0+json": {
       "columns": [
        {
         "name": "index",
         "rawType": "int64",
         "type": "integer"
        },
        {
         "name": "state",
         "rawType": "object",
         "type": "string"
        },
        {
         "name": "ages",
         "rawType": "object",
         "type": "string"
        },
        {
         "name": "year",
         "rawType": "int64",
         "type": "integer"
        },
        {
         "name": "population",
         "rawType": "float64",
         "type": "float"
        },
        {
         "name": "area (sq. mi)",
         "rawType": "int64",
         "type": "integer"
        }
       ],
       "conversionMethod": "pd.DataFrame",
       "ref": "d7de0bdb-c4d0-4462-9a4a-e2c056f1607b",
       "rows": [
        [
         "1",
         "Alabama",
         "total",
         "2012",
         "4817528.0",
         "52423"
        ],
        [
         "3",
         "Alabama",
         "total",
         "2010",
         "4785570.0",
         "52423"
        ],
        [
         "5",
         "Alabama",
         "total",
         "2011",
         "4801627.0",
         "52423"
        ],
        [
         "6",
         "Alabama",
         "total",
         "2009",
         "4757938.0",
         "52423"
        ],
        [
         "9",
         "Alabama",
         "total",
         "2013",
         "4833722.0",
         "52423"
        ],
        [
         "10",
         "Alabama",
         "total",
         "2007",
         "4672840.0",
         "52423"
        ],
        [
         "12",
         "Alabama",
         "total",
         "2008",
         "4718206.0",
         "52423"
        ],
        [
         "14",
         "Alabama",
         "total",
         "2005",
         "4569805.0",
         "52423"
        ],
        [
         "16",
         "Alabama",
         "total",
         "2006",
         "4628981.0",
         "52423"
        ],
        [
         "18",
         "Alabama",
         "total",
         "2004",
         "4530729.0",
         "52423"
        ],
        [
         "20",
         "Alabama",
         "total",
         "2003",
         "4503491.0",
         "52423"
        ],
        [
         "22",
         "Alabama",
         "total",
         "2001",
         "4467634.0",
         "52423"
        ],
        [
         "24",
         "Alabama",
         "total",
         "2002",
         "4480089.0",
         "52423"
        ],
        [
         "27",
         "Alabama",
         "total",
         "1999",
         "4430141.0",
         "52423"
        ],
        [
         "28",
         "Alabama",
         "total",
         "2000",
         "4452173.0",
         "52423"
        ],
        [
         "30",
         "Alabama",
         "total",
         "1998",
         "4404701.0",
         "52423"
        ],
        [
         "33",
         "Alabama",
         "total",
         "1997",
         "4367935.0",
         "52423"
        ],
        [
         "34",
         "Alabama",
         "total",
         "1996",
         "4331103.0",
         "52423"
        ],
        [
         "35",
         "Alabama",
         "total",
         "1995",
         "4296800.0",
         "52423"
        ],
        [
         "38",
         "Alabama",
         "total",
         "1994",
         "4260229.0",
         "52423"
        ],
        [
         "39",
         "Alabama",
         "total",
         "1993",
         "4214202.0",
         "52423"
        ],
        [
         "43",
         "Alabama",
         "total",
         "1992",
         "4154014.0",
         "52423"
        ],
        [
         "44",
         "Alabama",
         "total",
         "1991",
         "4099156.0",
         "52423"
        ],
        [
         "47",
         "Alabama",
         "total",
         "1990",
         "4050055.0",
         "52423"
        ],
        [
         "48",
         "Alaska",
         "total",
         "1990",
         "553290.0",
         "656425"
        ],
        [
         "50",
         "Alaska",
         "total",
         "1992",
         "588736.0",
         "656425"
        ],
        [
         "53",
         "Alaska",
         "total",
         "1994",
         "603308.0",
         "656425"
        ],
        [
         "55",
         "Alaska",
         "total",
         "1991",
         "570193.0",
         "656425"
        ],
        [
         "56",
         "Alaska",
         "total",
         "1993",
         "599434.0",
         "656425"
        ],
        [
         "58",
         "Alaska",
         "total",
         "1995",
         "604412.0",
         "656425"
        ],
        [
         "60",
         "Alaska",
         "total",
         "1996",
         "608569.0",
         "656425"
        ],
        [
         "64",
         "Alaska",
         "total",
         "1998",
         "619933.0",
         "656425"
        ],
        [
         "65",
         "Alaska",
         "total",
         "1997",
         "612968.0",
         "656425"
        ],
        [
         "67",
         "Alaska",
         "total",
         "1999",
         "624779.0",
         "656425"
        ],
        [
         "68",
         "Alaska",
         "total",
         "2000",
         "627963.0",
         "656425"
        ],
        [
         "70",
         "Alaska",
         "total",
         "2001",
         "633714.0",
         "656425"
        ],
        [
         "72",
         "Alaska",
         "total",
         "2002",
         "642337.0",
         "656425"
        ],
        [
         "74",
         "Alaska",
         "total",
         "2003",
         "648414.0",
         "656425"
        ],
        [
         "76",
         "Alaska",
         "total",
         "2004",
         "659286.0",
         "656425"
        ],
        [
         "78",
         "Alaska",
         "total",
         "2005",
         "666946.0",
         "656425"
        ],
        [
         "80",
         "Alaska",
         "total",
         "2006",
         "675302.0",
         "656425"
        ],
        [
         "82",
         "Alaska",
         "total",
         "2007",
         "680300.0",
         "656425"
        ],
        [
         "84",
         "Alaska",
         "total",
         "2008",
         "687455.0",
         "656425"
        ],
        [
         "87",
         "Alaska",
         "total",
         "2013",
         "735132.0",
         "656425"
        ],
        [
         "88",
         "Alaska",
         "total",
         "2009",
         "698895.0",
         "656425"
        ],
        [
         "91",
         "Alaska",
         "total",
         "2010",
         "713868.0",
         "656425"
        ],
        [
         "93",
         "Alaska",
         "total",
         "2011",
         "723375.0",
         "656425"
        ],
        [
         "95",
         "Alaska",
         "total",
         "2012",
         "730307.0",
         "656425"
        ],
        [
         "97",
         "Arizona",
         "total",
         "2012",
         "6551149.0",
         "114006"
        ],
        [
         "99",
         "Arizona",
         "total",
         "2011",
         "6468796.0",
         "114006"
        ]
       ],
       "shape": {
        "columns": 5,
        "rows": 1224
       }
      },
      "text/html": [
       "<div>\n",
       "<style scoped>\n",
       "    .dataframe tbody tr th:only-of-type {\n",
       "        vertical-align: middle;\n",
       "    }\n",
       "\n",
       "    .dataframe tbody tr th {\n",
       "        vertical-align: top;\n",
       "    }\n",
       "\n",
       "    .dataframe thead th {\n",
       "        text-align: right;\n",
       "    }\n",
       "</style>\n",
       "<table border=\"1\" class=\"dataframe\">\n",
       "  <thead>\n",
       "    <tr style=\"text-align: right;\">\n",
       "      <th></th>\n",
       "      <th>state</th>\n",
       "      <th>ages</th>\n",
       "      <th>year</th>\n",
       "      <th>population</th>\n",
       "      <th>area (sq. mi)</th>\n",
       "    </tr>\n",
       "  </thead>\n",
       "  <tbody>\n",
       "    <tr>\n",
       "      <th>1</th>\n",
       "      <td>Alabama</td>\n",
       "      <td>total</td>\n",
       "      <td>2012</td>\n",
       "      <td>4817528.0</td>\n",
       "      <td>52423</td>\n",
       "    </tr>\n",
       "    <tr>\n",
       "      <th>3</th>\n",
       "      <td>Alabama</td>\n",
       "      <td>total</td>\n",
       "      <td>2010</td>\n",
       "      <td>4785570.0</td>\n",
       "      <td>52423</td>\n",
       "    </tr>\n",
       "    <tr>\n",
       "      <th>5</th>\n",
       "      <td>Alabama</td>\n",
       "      <td>total</td>\n",
       "      <td>2011</td>\n",
       "      <td>4801627.0</td>\n",
       "      <td>52423</td>\n",
       "    </tr>\n",
       "    <tr>\n",
       "      <th>6</th>\n",
       "      <td>Alabama</td>\n",
       "      <td>total</td>\n",
       "      <td>2009</td>\n",
       "      <td>4757938.0</td>\n",
       "      <td>52423</td>\n",
       "    </tr>\n",
       "    <tr>\n",
       "      <th>9</th>\n",
       "      <td>Alabama</td>\n",
       "      <td>total</td>\n",
       "      <td>2013</td>\n",
       "      <td>4833722.0</td>\n",
       "      <td>52423</td>\n",
       "    </tr>\n",
       "    <tr>\n",
       "      <th>...</th>\n",
       "      <td>...</td>\n",
       "      <td>...</td>\n",
       "      <td>...</td>\n",
       "      <td>...</td>\n",
       "      <td>...</td>\n",
       "    </tr>\n",
       "    <tr>\n",
       "      <th>2439</th>\n",
       "      <td>Wyoming</td>\n",
       "      <td>total</td>\n",
       "      <td>1994</td>\n",
       "      <td>480283.0</td>\n",
       "      <td>97818</td>\n",
       "    </tr>\n",
       "    <tr>\n",
       "      <th>2441</th>\n",
       "      <td>Wyoming</td>\n",
       "      <td>total</td>\n",
       "      <td>1992</td>\n",
       "      <td>466251.0</td>\n",
       "      <td>97818</td>\n",
       "    </tr>\n",
       "    <tr>\n",
       "      <th>2442</th>\n",
       "      <td>Wyoming</td>\n",
       "      <td>total</td>\n",
       "      <td>1993</td>\n",
       "      <td>473081.0</td>\n",
       "      <td>97818</td>\n",
       "    </tr>\n",
       "    <tr>\n",
       "      <th>2444</th>\n",
       "      <td>Wyoming</td>\n",
       "      <td>total</td>\n",
       "      <td>1991</td>\n",
       "      <td>459260.0</td>\n",
       "      <td>97818</td>\n",
       "    </tr>\n",
       "    <tr>\n",
       "      <th>2447</th>\n",
       "      <td>Wyoming</td>\n",
       "      <td>total</td>\n",
       "      <td>1990</td>\n",
       "      <td>453690.0</td>\n",
       "      <td>97818</td>\n",
       "    </tr>\n",
       "  </tbody>\n",
       "</table>\n",
       "<p>1224 rows × 5 columns</p>\n",
       "</div>"
      ],
      "text/plain": [
       "        state   ages  year  population  area (sq. mi)\n",
       "1     Alabama  total  2012   4817528.0          52423\n",
       "3     Alabama  total  2010   4785570.0          52423\n",
       "5     Alabama  total  2011   4801627.0          52423\n",
       "6     Alabama  total  2009   4757938.0          52423\n",
       "9     Alabama  total  2013   4833722.0          52423\n",
       "...       ...    ...   ...         ...            ...\n",
       "2439  Wyoming  total  1994    480283.0          97818\n",
       "2441  Wyoming  total  1992    466251.0          97818\n",
       "2442  Wyoming  total  1993    473081.0          97818\n",
       "2444  Wyoming  total  1991    459260.0          97818\n",
       "2447  Wyoming  total  1990    453690.0          97818\n",
       "\n",
       "[1224 rows x 5 columns]"
      ]
     },
     "execution_count": 28,
     "metadata": {},
     "output_type": "execute_result"
    }
   ],
   "source": [
    "df_total = df[df.ages =='total']\n",
    "df_total"
   ]
  },
  {
   "cell_type": "code",
   "execution_count": 29,
   "metadata": {},
   "outputs": [
    {
     "name": "stderr",
     "output_type": "stream",
     "text": [
      "C:\\Users\\Admin\\AppData\\Local\\Temp\\ipykernel_19040\\1912815963.py:1: SettingWithCopyWarning: \n",
      "A value is trying to be set on a copy of a slice from a DataFrame.\n",
      "Try using .loc[row_indexer,col_indexer] = value instead\n",
      "\n",
      "See the caveats in the documentation: https://pandas.pydata.org/pandas-docs/stable/user_guide/indexing.html#returning-a-view-versus-a-copy\n",
      "  df_total['density'] = df_total['population']/df_total['area (sq. mi)']\n"
     ]
    }
   ],
   "source": [
    "df_total['density'] = df_total['population']/df_total['area (sq. mi)']"
   ]
  },
  {
   "cell_type": "code",
   "execution_count": 30,
   "metadata": {},
   "outputs": [
    {
     "data": {
      "application/vnd.microsoft.datawrangler.viewer.v0+json": {
       "columns": [
        {
         "name": "index",
         "rawType": "int64",
         "type": "integer"
        },
        {
         "name": "state",
         "rawType": "object",
         "type": "string"
        },
        {
         "name": "ages",
         "rawType": "object",
         "type": "string"
        },
        {
         "name": "year",
         "rawType": "int64",
         "type": "integer"
        },
        {
         "name": "population",
         "rawType": "float64",
         "type": "float"
        },
        {
         "name": "area (sq. mi)",
         "rawType": "int64",
         "type": "integer"
        },
        {
         "name": "density",
         "rawType": "float64",
         "type": "float"
        }
       ],
       "conversionMethod": "pd.DataFrame",
       "ref": "eca9031f-3d61-4b5a-b74f-c0d4b8bf38e1",
       "rows": [
        [
         "1",
         "Alabama",
         "total",
         "2012",
         "4817528.0",
         "52423",
         "91.89722068557694"
        ],
        [
         "3",
         "Alabama",
         "total",
         "2010",
         "4785570.0",
         "52423",
         "91.28760276977663"
        ],
        [
         "5",
         "Alabama",
         "total",
         "2011",
         "4801627.0",
         "52423",
         "91.59389962421075"
        ],
        [
         "6",
         "Alabama",
         "total",
         "2009",
         "4757938.0",
         "52423",
         "90.76050588482154"
        ],
        [
         "9",
         "Alabama",
         "total",
         "2013",
         "4833722.0",
         "52423",
         "92.2061308967438"
        ],
        [
         "10",
         "Alabama",
         "total",
         "2007",
         "4672840.0",
         "52423",
         "89.13721076626672"
        ],
        [
         "12",
         "Alabama",
         "total",
         "2008",
         "4718206.0",
         "52423",
         "90.00259428113614"
        ],
        [
         "14",
         "Alabama",
         "total",
         "2005",
         "4569805.0",
         "52423",
         "87.1717566716899"
        ],
        [
         "16",
         "Alabama",
         "total",
         "2006",
         "4628981.0",
         "52423",
         "88.30057417545734"
        ],
        [
         "18",
         "Alabama",
         "total",
         "2004",
         "4530729.0",
         "52423",
         "86.42635865936707"
        ],
        [
         "20",
         "Alabama",
         "total",
         "2003",
         "4503491.0",
         "52423",
         "85.90677755946817"
        ],
        [
         "22",
         "Alabama",
         "total",
         "2001",
         "4467634.0",
         "52423",
         "85.22278389256624"
        ],
        [
         "24",
         "Alabama",
         "total",
         "2002",
         "4480089.0",
         "52423",
         "85.46037044808577"
        ],
        [
         "27",
         "Alabama",
         "total",
         "1999",
         "4430141.0",
         "52423",
         "84.50758254964424"
        ],
        [
         "28",
         "Alabama",
         "total",
         "2000",
         "4452173.0",
         "52423",
         "84.92785609369933"
        ],
        [
         "30",
         "Alabama",
         "total",
         "1998",
         "4404701.0",
         "52423",
         "84.02229937241287"
        ],
        [
         "33",
         "Alabama",
         "total",
         "1997",
         "4367935.0",
         "52423",
         "83.32096598821128"
        ],
        [
         "34",
         "Alabama",
         "total",
         "1996",
         "4331103.0",
         "52423",
         "82.61837361463479"
        ],
        [
         "35",
         "Alabama",
         "total",
         "1995",
         "4296800.0",
         "52423",
         "81.96402342483262"
        ],
        [
         "38",
         "Alabama",
         "total",
         "1994",
         "4260229.0",
         "52423",
         "81.26640978196593"
        ],
        [
         "39",
         "Alabama",
         "total",
         "1993",
         "4214202.0",
         "52423",
         "80.38841729775099"
        ],
        [
         "43",
         "Alabama",
         "total",
         "1992",
         "4154014.0",
         "52423",
         "79.2402952902352"
        ],
        [
         "44",
         "Alabama",
         "total",
         "1991",
         "4099156.0",
         "52423",
         "78.1938462125403"
        ],
        [
         "47",
         "Alabama",
         "total",
         "1990",
         "4050055.0",
         "52423",
         "77.2572153444099"
        ],
        [
         "48",
         "Alaska",
         "total",
         "1990",
         "553290.0",
         "656425",
         "0.8428838024145942"
        ],
        [
         "50",
         "Alaska",
         "total",
         "1992",
         "588736.0",
         "656425",
         "0.8968823551814754"
        ],
        [
         "53",
         "Alaska",
         "total",
         "1994",
         "603308.0",
         "656425",
         "0.9190813878203907"
        ],
        [
         "55",
         "Alaska",
         "total",
         "1991",
         "570193.0",
         "656425",
         "0.8686338881060288"
        ],
        [
         "56",
         "Alaska",
         "total",
         "1993",
         "599434.0",
         "656425",
         "0.9131797235023041"
        ],
        [
         "58",
         "Alaska",
         "total",
         "1995",
         "604412.0",
         "656425",
         "0.9207632250447499"
        ],
        [
         "60",
         "Alaska",
         "total",
         "1996",
         "608569.0",
         "656425",
         "0.9270960124919069"
        ],
        [
         "64",
         "Alaska",
         "total",
         "1998",
         "619933.0",
         "656425",
         "0.9444079673991698"
        ],
        [
         "65",
         "Alaska",
         "total",
         "1997",
         "612968.0",
         "656425",
         "0.9337974635335339"
        ],
        [
         "67",
         "Alaska",
         "total",
         "1999",
         "624779.0",
         "656425",
         "0.9517903797082683"
        ],
        [
         "68",
         "Alaska",
         "total",
         "2000",
         "627963.0",
         "656425",
         "0.9566408957611303"
        ],
        [
         "70",
         "Alaska",
         "total",
         "2001",
         "633714.0",
         "656425",
         "0.9654019880412842"
        ],
        [
         "72",
         "Alaska",
         "total",
         "2002",
         "642337.0",
         "656425",
         "0.9785382945500247"
        ],
        [
         "74",
         "Alaska",
         "total",
         "2003",
         "648414.0",
         "656425",
         "0.9877960163004151"
        ],
        [
         "76",
         "Alaska",
         "total",
         "2004",
         "659286.0",
         "656425",
         "1.0043584567924744"
        ],
        [
         "78",
         "Alaska",
         "total",
         "2005",
         "666946.0",
         "656425",
         "1.0160277259397494"
        ],
        [
         "80",
         "Alaska",
         "total",
         "2006",
         "675302.0",
         "656425",
         "1.0287572837719465"
        ],
        [
         "82",
         "Alaska",
         "total",
         "2007",
         "680300.0",
         "656425",
         "1.036371253380051"
        ],
        [
         "84",
         "Alaska",
         "total",
         "2008",
         "687455.0",
         "656425",
         "1.0472712038694443"
        ],
        [
         "87",
         "Alaska",
         "total",
         "2013",
         "735132.0",
         "656425",
         "1.1199025021898923"
        ],
        [
         "88",
         "Alaska",
         "total",
         "2009",
         "698895.0",
         "656425",
         "1.0646989374262101"
        ],
        [
         "91",
         "Alaska",
         "total",
         "2010",
         "713868.0",
         "656425",
         "1.087508854781582"
        ],
        [
         "93",
         "Alaska",
         "total",
         "2011",
         "723375.0",
         "656425",
         "1.1019918497924364"
        ],
        [
         "95",
         "Alaska",
         "total",
         "2012",
         "730307.0",
         "656425",
         "1.1125520813497354"
        ],
        [
         "97",
         "Arizona",
         "total",
         "2012",
         "6551149.0",
         "114006",
         "57.46319491956564"
        ],
        [
         "99",
         "Arizona",
         "total",
         "2011",
         "6468796.0",
         "114006",
         "56.740838201498164"
        ]
       ],
       "shape": {
        "columns": 6,
        "rows": 1224
       }
      },
      "text/html": [
       "<div>\n",
       "<style scoped>\n",
       "    .dataframe tbody tr th:only-of-type {\n",
       "        vertical-align: middle;\n",
       "    }\n",
       "\n",
       "    .dataframe tbody tr th {\n",
       "        vertical-align: top;\n",
       "    }\n",
       "\n",
       "    .dataframe thead th {\n",
       "        text-align: right;\n",
       "    }\n",
       "</style>\n",
       "<table border=\"1\" class=\"dataframe\">\n",
       "  <thead>\n",
       "    <tr style=\"text-align: right;\">\n",
       "      <th></th>\n",
       "      <th>state</th>\n",
       "      <th>ages</th>\n",
       "      <th>year</th>\n",
       "      <th>population</th>\n",
       "      <th>area (sq. mi)</th>\n",
       "      <th>density</th>\n",
       "    </tr>\n",
       "  </thead>\n",
       "  <tbody>\n",
       "    <tr>\n",
       "      <th>1</th>\n",
       "      <td>Alabama</td>\n",
       "      <td>total</td>\n",
       "      <td>2012</td>\n",
       "      <td>4817528.0</td>\n",
       "      <td>52423</td>\n",
       "      <td>91.897221</td>\n",
       "    </tr>\n",
       "    <tr>\n",
       "      <th>3</th>\n",
       "      <td>Alabama</td>\n",
       "      <td>total</td>\n",
       "      <td>2010</td>\n",
       "      <td>4785570.0</td>\n",
       "      <td>52423</td>\n",
       "      <td>91.287603</td>\n",
       "    </tr>\n",
       "    <tr>\n",
       "      <th>5</th>\n",
       "      <td>Alabama</td>\n",
       "      <td>total</td>\n",
       "      <td>2011</td>\n",
       "      <td>4801627.0</td>\n",
       "      <td>52423</td>\n",
       "      <td>91.593900</td>\n",
       "    </tr>\n",
       "    <tr>\n",
       "      <th>6</th>\n",
       "      <td>Alabama</td>\n",
       "      <td>total</td>\n",
       "      <td>2009</td>\n",
       "      <td>4757938.0</td>\n",
       "      <td>52423</td>\n",
       "      <td>90.760506</td>\n",
       "    </tr>\n",
       "    <tr>\n",
       "      <th>9</th>\n",
       "      <td>Alabama</td>\n",
       "      <td>total</td>\n",
       "      <td>2013</td>\n",
       "      <td>4833722.0</td>\n",
       "      <td>52423</td>\n",
       "      <td>92.206131</td>\n",
       "    </tr>\n",
       "    <tr>\n",
       "      <th>...</th>\n",
       "      <td>...</td>\n",
       "      <td>...</td>\n",
       "      <td>...</td>\n",
       "      <td>...</td>\n",
       "      <td>...</td>\n",
       "      <td>...</td>\n",
       "    </tr>\n",
       "    <tr>\n",
       "      <th>2439</th>\n",
       "      <td>Wyoming</td>\n",
       "      <td>total</td>\n",
       "      <td>1994</td>\n",
       "      <td>480283.0</td>\n",
       "      <td>97818</td>\n",
       "      <td>4.909965</td>\n",
       "    </tr>\n",
       "    <tr>\n",
       "      <th>2441</th>\n",
       "      <td>Wyoming</td>\n",
       "      <td>total</td>\n",
       "      <td>1992</td>\n",
       "      <td>466251.0</td>\n",
       "      <td>97818</td>\n",
       "      <td>4.766515</td>\n",
       "    </tr>\n",
       "    <tr>\n",
       "      <th>2442</th>\n",
       "      <td>Wyoming</td>\n",
       "      <td>total</td>\n",
       "      <td>1993</td>\n",
       "      <td>473081.0</td>\n",
       "      <td>97818</td>\n",
       "      <td>4.836339</td>\n",
       "    </tr>\n",
       "    <tr>\n",
       "      <th>2444</th>\n",
       "      <td>Wyoming</td>\n",
       "      <td>total</td>\n",
       "      <td>1991</td>\n",
       "      <td>459260.0</td>\n",
       "      <td>97818</td>\n",
       "      <td>4.695046</td>\n",
       "    </tr>\n",
       "    <tr>\n",
       "      <th>2447</th>\n",
       "      <td>Wyoming</td>\n",
       "      <td>total</td>\n",
       "      <td>1990</td>\n",
       "      <td>453690.0</td>\n",
       "      <td>97818</td>\n",
       "      <td>4.638103</td>\n",
       "    </tr>\n",
       "  </tbody>\n",
       "</table>\n",
       "<p>1224 rows × 6 columns</p>\n",
       "</div>"
      ],
      "text/plain": [
       "        state   ages  year  population  area (sq. mi)    density\n",
       "1     Alabama  total  2012   4817528.0          52423  91.897221\n",
       "3     Alabama  total  2010   4785570.0          52423  91.287603\n",
       "5     Alabama  total  2011   4801627.0          52423  91.593900\n",
       "6     Alabama  total  2009   4757938.0          52423  90.760506\n",
       "9     Alabama  total  2013   4833722.0          52423  92.206131\n",
       "...       ...    ...   ...         ...            ...        ...\n",
       "2439  Wyoming  total  1994    480283.0          97818   4.909965\n",
       "2441  Wyoming  total  1992    466251.0          97818   4.766515\n",
       "2442  Wyoming  total  1993    473081.0          97818   4.836339\n",
       "2444  Wyoming  total  1991    459260.0          97818   4.695046\n",
       "2447  Wyoming  total  1990    453690.0          97818   4.638103\n",
       "\n",
       "[1224 rows x 6 columns]"
      ]
     },
     "execution_count": 30,
     "metadata": {},
     "output_type": "execute_result"
    }
   ],
   "source": [
    "df_total"
   ]
  },
  {
   "cell_type": "code",
   "execution_count": 35,
   "metadata": {},
   "outputs": [
    {
     "data": {
      "application/vnd.microsoft.datawrangler.viewer.v0+json": {
       "columns": [
        {
         "name": "index",
         "rawType": "int64",
         "type": "integer"
        },
        {
         "name": "state",
         "rawType": "object",
         "type": "string"
        },
        {
         "name": "ages",
         "rawType": "object",
         "type": "string"
        },
        {
         "name": "year",
         "rawType": "int64",
         "type": "integer"
        },
        {
         "name": "population",
         "rawType": "float64",
         "type": "float"
        },
        {
         "name": "area (sq. mi)",
         "rawType": "int64",
         "type": "integer"
        },
        {
         "name": "density",
         "rawType": "float64",
         "type": "float"
        }
       ],
       "conversionMethod": "pd.DataFrame",
       "ref": "9e25df3a-b10c-474a-82dc-99bfc36e60c8",
       "rows": [
        [
         "389",
         "District of Columbia",
         "total",
         "2010",
         "605125.0",
         "68",
         "8898.89705882353"
        ],
        [
         "1157",
         "New Jersey",
         "total",
         "2010",
         "8802707.0",
         "8722",
         "1009.2532675991745"
        ],
        [
         "1914",
         "Rhode Island",
         "total",
         "2010",
         "1052669.0",
         "1545",
         "681.3391585760518"
        ],
        [
         "293",
         "Connecticut",
         "total",
         "2010",
         "3579210.0",
         "5544",
         "645.6006493506494"
        ],
        [
         "1626",
         "Massachusetts",
         "total",
         "2010",
         "6563263.0",
         "10555",
         "621.8155376598768"
        ],
        [
         "1541",
         "Maryland",
         "total",
         "2010",
         "5787193.0",
         "12407",
         "466.44579672765377"
        ],
        [
         "379",
         "Delaware",
         "total",
         "2010",
         "899711.0",
         "1954",
         "460.4457523029683"
        ],
        [
         "1253",
         "New York",
         "total",
         "2010",
         "19398228.0",
         "54475",
         "356.09413492427717"
        ],
        [
         "475",
         "Florida",
         "total",
         "2010",
         "18846054.0",
         "65758",
         "286.59712886644974"
        ],
        [
         "1829",
         "Pennsylvania",
         "total",
         "2010",
         "12710472.0",
         "46058",
         "275.9666507447132"
        ],
        [
         "1434",
         "Ohio",
         "total",
         "2010",
         "11545435.0",
         "44828",
         "257.5496341572232"
        ],
        [
         "197",
         "California",
         "total",
         "2010",
         "37333601.0",
         "163707",
         "228.051341726377"
        ],
        [
         "666",
         "Illinois",
         "total",
         "2010",
         "12839695.0",
         "57918",
         "221.68747194309196"
        ],
        [
         "2213",
         "Virginia",
         "total",
         "2010",
         "8024417.0",
         "42769",
         "187.62227314176155"
        ],
        [
         "677",
         "Indiana",
         "total",
         "2010",
         "6489965.0",
         "36420",
         "178.19783086216364"
        ],
        [
         "1338",
         "North Carolina",
         "total",
         "2010",
         "9559533.0",
         "53821",
         "177.61715687185298"
        ],
        [
         "485",
         "Georgia",
         "total",
         "2010",
         "9713248.0",
         "59441",
         "163.40990225601857"
        ],
        [
         "2021",
         "Tennessee",
         "total",
         "2010",
         "6356683.0",
         "42146",
         "150.82529777440325"
        ],
        [
         "1925",
         "South Carolina",
         "total",
         "2010",
         "4636361.0",
         "32007",
         "144.85459430749523"
        ],
        [
         "1146",
         "New Hampshire",
         "total",
         "2010",
         "1316614.0",
         "9351",
         "140.7992728050476"
        ],
        [
         "570",
         "Hawaii",
         "total",
         "2010",
         "1363731.0",
         "10932",
         "124.7467069154775"
        ],
        [
         "858",
         "Kentucky",
         "total",
         "2010",
         "4347698.0",
         "40411",
         "107.58699364034545"
        ],
        [
         "1637",
         "Michigan",
         "total",
         "2010",
         "9876149.0",
         "96810",
         "102.01579382295218"
        ],
        [
         "2298",
         "Washington",
         "total",
         "2010",
         "6742256.0",
         "71303",
         "94.55781664165603"
        ],
        [
         "2106",
         "Texas",
         "total",
         "2010",
         "25245178.0",
         "268601",
         "93.98765455080212"
        ],
        [
         "3",
         "Alabama",
         "total",
         "2010",
         "4785570.0",
         "52423",
         "91.28760276977663"
        ],
        [
         "869",
         "Louisiana",
         "total",
         "2010",
         "4545392.0",
         "51843",
         "87.67609899118493"
        ],
        [
         "2394",
         "Wisconsin",
         "total",
         "2010",
         "5689060.0",
         "65503",
         "86.85189991298108"
        ],
        [
         "1818",
         "Missouri",
         "total",
         "2010",
         "5996063.0",
         "69709",
         "86.01562208610079"
        ],
        [
         "2309",
         "West Virginia",
         "total",
         "2010",
         "1854146.0",
         "24231",
         "76.51958235318394"
        ],
        [
         "2202",
         "Vermont",
         "total",
         "2010",
         "625793.0",
         "9615",
         "65.08507540301612"
        ],
        [
         "1733",
         "Mississippi",
         "total",
         "2010",
         "2970047.0",
         "48434",
         "61.321530329933516"
        ],
        [
         "1722",
         "Minnesota",
         "total",
         "2010",
         "5310337.0",
         "86943",
         "61.078373187030586"
        ],
        [
         "101",
         "Arizona",
         "total",
         "2010",
         "6408790.0",
         "114006",
         "56.214497482588634"
        ],
        [
         "189",
         "Arkansas",
         "total",
         "2010",
         "2922280.0",
         "53182",
         "54.94866684216464"
        ],
        [
         "762",
         "Iowa",
         "total",
         "2010",
         "3050314.0",
         "56276",
         "54.20275072855213"
        ],
        [
         "1445",
         "Oklahoma",
         "total",
         "2010",
         "3759263.0",
         "69903",
         "53.77827847159635"
        ],
        [
         "283",
         "Colorado",
         "total",
         "2010",
         "5048196.0",
         "104100",
         "48.49371757925072"
        ],
        [
         "1530",
         "Oregon",
         "total",
         "2010",
         "3837208.0",
         "98386",
         "39.00156526335048"
        ],
        [
         "954",
         "Maine",
         "total",
         "2010",
         "1327366.0",
         "35387",
         "37.50998954418289"
        ],
        [
         "773",
         "Kansas",
         "total",
         "2010",
         "2858910.0",
         "82282",
         "34.745266279380665"
        ],
        [
         "2117",
         "Utah",
         "total",
         "2010",
         "2774424.0",
         "84904",
         "32.677188353905585"
        ],
        [
         "1061",
         "Nevada",
         "total",
         "2010",
         "2703230.0",
         "110567",
         "24.44879575280147"
        ],
        [
         "1050",
         "Nebraska",
         "total",
         "2010",
         "1829838.0",
         "77358",
         "23.65415341658264"
        ],
        [
         "581",
         "Idaho",
         "total",
         "2010",
         "1570718.0",
         "83574",
         "18.79433795199464"
        ],
        [
         "1242",
         "New Mexico",
         "total",
         "2010",
         "2064982.0",
         "121593",
         "16.982737493112268"
        ],
        [
         "2010",
         "South Dakota",
         "total",
         "2010",
         "816211.0",
         "77121",
         "10.58351162458993"
        ],
        [
         "1349",
         "North Dakota",
         "total",
         "2010",
         "674344.0",
         "70704",
         "9.537565059968319"
        ],
        [
         "965",
         "Montana",
         "total",
         "2010",
         "990527.0",
         "147046",
         "6.736170994110687"
        ],
        [
         "2405",
         "Wyoming",
         "total",
         "2010",
         "564222.0",
         "97818",
         "5.768079494571551"
        ]
       ],
       "shape": {
        "columns": 6,
        "rows": 51
       }
      },
      "text/html": [
       "<div>\n",
       "<style scoped>\n",
       "    .dataframe tbody tr th:only-of-type {\n",
       "        vertical-align: middle;\n",
       "    }\n",
       "\n",
       "    .dataframe tbody tr th {\n",
       "        vertical-align: top;\n",
       "    }\n",
       "\n",
       "    .dataframe thead th {\n",
       "        text-align: right;\n",
       "    }\n",
       "</style>\n",
       "<table border=\"1\" class=\"dataframe\">\n",
       "  <thead>\n",
       "    <tr style=\"text-align: right;\">\n",
       "      <th></th>\n",
       "      <th>state</th>\n",
       "      <th>ages</th>\n",
       "      <th>year</th>\n",
       "      <th>population</th>\n",
       "      <th>area (sq. mi)</th>\n",
       "      <th>density</th>\n",
       "    </tr>\n",
       "  </thead>\n",
       "  <tbody>\n",
       "    <tr>\n",
       "      <th>389</th>\n",
       "      <td>District of Columbia</td>\n",
       "      <td>total</td>\n",
       "      <td>2010</td>\n",
       "      <td>605125.0</td>\n",
       "      <td>68</td>\n",
       "      <td>8898.897059</td>\n",
       "    </tr>\n",
       "    <tr>\n",
       "      <th>1157</th>\n",
       "      <td>New Jersey</td>\n",
       "      <td>total</td>\n",
       "      <td>2010</td>\n",
       "      <td>8802707.0</td>\n",
       "      <td>8722</td>\n",
       "      <td>1009.253268</td>\n",
       "    </tr>\n",
       "    <tr>\n",
       "      <th>1914</th>\n",
       "      <td>Rhode Island</td>\n",
       "      <td>total</td>\n",
       "      <td>2010</td>\n",
       "      <td>1052669.0</td>\n",
       "      <td>1545</td>\n",
       "      <td>681.339159</td>\n",
       "    </tr>\n",
       "    <tr>\n",
       "      <th>293</th>\n",
       "      <td>Connecticut</td>\n",
       "      <td>total</td>\n",
       "      <td>2010</td>\n",
       "      <td>3579210.0</td>\n",
       "      <td>5544</td>\n",
       "      <td>645.600649</td>\n",
       "    </tr>\n",
       "    <tr>\n",
       "      <th>1626</th>\n",
       "      <td>Massachusetts</td>\n",
       "      <td>total</td>\n",
       "      <td>2010</td>\n",
       "      <td>6563263.0</td>\n",
       "      <td>10555</td>\n",
       "      <td>621.815538</td>\n",
       "    </tr>\n",
       "    <tr>\n",
       "      <th>1541</th>\n",
       "      <td>Maryland</td>\n",
       "      <td>total</td>\n",
       "      <td>2010</td>\n",
       "      <td>5787193.0</td>\n",
       "      <td>12407</td>\n",
       "      <td>466.445797</td>\n",
       "    </tr>\n",
       "    <tr>\n",
       "      <th>379</th>\n",
       "      <td>Delaware</td>\n",
       "      <td>total</td>\n",
       "      <td>2010</td>\n",
       "      <td>899711.0</td>\n",
       "      <td>1954</td>\n",
       "      <td>460.445752</td>\n",
       "    </tr>\n",
       "    <tr>\n",
       "      <th>1253</th>\n",
       "      <td>New York</td>\n",
       "      <td>total</td>\n",
       "      <td>2010</td>\n",
       "      <td>19398228.0</td>\n",
       "      <td>54475</td>\n",
       "      <td>356.094135</td>\n",
       "    </tr>\n",
       "    <tr>\n",
       "      <th>475</th>\n",
       "      <td>Florida</td>\n",
       "      <td>total</td>\n",
       "      <td>2010</td>\n",
       "      <td>18846054.0</td>\n",
       "      <td>65758</td>\n",
       "      <td>286.597129</td>\n",
       "    </tr>\n",
       "    <tr>\n",
       "      <th>1829</th>\n",
       "      <td>Pennsylvania</td>\n",
       "      <td>total</td>\n",
       "      <td>2010</td>\n",
       "      <td>12710472.0</td>\n",
       "      <td>46058</td>\n",
       "      <td>275.966651</td>\n",
       "    </tr>\n",
       "    <tr>\n",
       "      <th>1434</th>\n",
       "      <td>Ohio</td>\n",
       "      <td>total</td>\n",
       "      <td>2010</td>\n",
       "      <td>11545435.0</td>\n",
       "      <td>44828</td>\n",
       "      <td>257.549634</td>\n",
       "    </tr>\n",
       "    <tr>\n",
       "      <th>197</th>\n",
       "      <td>California</td>\n",
       "      <td>total</td>\n",
       "      <td>2010</td>\n",
       "      <td>37333601.0</td>\n",
       "      <td>163707</td>\n",
       "      <td>228.051342</td>\n",
       "    </tr>\n",
       "    <tr>\n",
       "      <th>666</th>\n",
       "      <td>Illinois</td>\n",
       "      <td>total</td>\n",
       "      <td>2010</td>\n",
       "      <td>12839695.0</td>\n",
       "      <td>57918</td>\n",
       "      <td>221.687472</td>\n",
       "    </tr>\n",
       "    <tr>\n",
       "      <th>2213</th>\n",
       "      <td>Virginia</td>\n",
       "      <td>total</td>\n",
       "      <td>2010</td>\n",
       "      <td>8024417.0</td>\n",
       "      <td>42769</td>\n",
       "      <td>187.622273</td>\n",
       "    </tr>\n",
       "    <tr>\n",
       "      <th>677</th>\n",
       "      <td>Indiana</td>\n",
       "      <td>total</td>\n",
       "      <td>2010</td>\n",
       "      <td>6489965.0</td>\n",
       "      <td>36420</td>\n",
       "      <td>178.197831</td>\n",
       "    </tr>\n",
       "    <tr>\n",
       "      <th>1338</th>\n",
       "      <td>North Carolina</td>\n",
       "      <td>total</td>\n",
       "      <td>2010</td>\n",
       "      <td>9559533.0</td>\n",
       "      <td>53821</td>\n",
       "      <td>177.617157</td>\n",
       "    </tr>\n",
       "    <tr>\n",
       "      <th>485</th>\n",
       "      <td>Georgia</td>\n",
       "      <td>total</td>\n",
       "      <td>2010</td>\n",
       "      <td>9713248.0</td>\n",
       "      <td>59441</td>\n",
       "      <td>163.409902</td>\n",
       "    </tr>\n",
       "    <tr>\n",
       "      <th>2021</th>\n",
       "      <td>Tennessee</td>\n",
       "      <td>total</td>\n",
       "      <td>2010</td>\n",
       "      <td>6356683.0</td>\n",
       "      <td>42146</td>\n",
       "      <td>150.825298</td>\n",
       "    </tr>\n",
       "    <tr>\n",
       "      <th>1925</th>\n",
       "      <td>South Carolina</td>\n",
       "      <td>total</td>\n",
       "      <td>2010</td>\n",
       "      <td>4636361.0</td>\n",
       "      <td>32007</td>\n",
       "      <td>144.854594</td>\n",
       "    </tr>\n",
       "    <tr>\n",
       "      <th>1146</th>\n",
       "      <td>New Hampshire</td>\n",
       "      <td>total</td>\n",
       "      <td>2010</td>\n",
       "      <td>1316614.0</td>\n",
       "      <td>9351</td>\n",
       "      <td>140.799273</td>\n",
       "    </tr>\n",
       "    <tr>\n",
       "      <th>570</th>\n",
       "      <td>Hawaii</td>\n",
       "      <td>total</td>\n",
       "      <td>2010</td>\n",
       "      <td>1363731.0</td>\n",
       "      <td>10932</td>\n",
       "      <td>124.746707</td>\n",
       "    </tr>\n",
       "    <tr>\n",
       "      <th>858</th>\n",
       "      <td>Kentucky</td>\n",
       "      <td>total</td>\n",
       "      <td>2010</td>\n",
       "      <td>4347698.0</td>\n",
       "      <td>40411</td>\n",
       "      <td>107.586994</td>\n",
       "    </tr>\n",
       "    <tr>\n",
       "      <th>1637</th>\n",
       "      <td>Michigan</td>\n",
       "      <td>total</td>\n",
       "      <td>2010</td>\n",
       "      <td>9876149.0</td>\n",
       "      <td>96810</td>\n",
       "      <td>102.015794</td>\n",
       "    </tr>\n",
       "    <tr>\n",
       "      <th>2298</th>\n",
       "      <td>Washington</td>\n",
       "      <td>total</td>\n",
       "      <td>2010</td>\n",
       "      <td>6742256.0</td>\n",
       "      <td>71303</td>\n",
       "      <td>94.557817</td>\n",
       "    </tr>\n",
       "    <tr>\n",
       "      <th>2106</th>\n",
       "      <td>Texas</td>\n",
       "      <td>total</td>\n",
       "      <td>2010</td>\n",
       "      <td>25245178.0</td>\n",
       "      <td>268601</td>\n",
       "      <td>93.987655</td>\n",
       "    </tr>\n",
       "    <tr>\n",
       "      <th>3</th>\n",
       "      <td>Alabama</td>\n",
       "      <td>total</td>\n",
       "      <td>2010</td>\n",
       "      <td>4785570.0</td>\n",
       "      <td>52423</td>\n",
       "      <td>91.287603</td>\n",
       "    </tr>\n",
       "    <tr>\n",
       "      <th>869</th>\n",
       "      <td>Louisiana</td>\n",
       "      <td>total</td>\n",
       "      <td>2010</td>\n",
       "      <td>4545392.0</td>\n",
       "      <td>51843</td>\n",
       "      <td>87.676099</td>\n",
       "    </tr>\n",
       "    <tr>\n",
       "      <th>2394</th>\n",
       "      <td>Wisconsin</td>\n",
       "      <td>total</td>\n",
       "      <td>2010</td>\n",
       "      <td>5689060.0</td>\n",
       "      <td>65503</td>\n",
       "      <td>86.851900</td>\n",
       "    </tr>\n",
       "    <tr>\n",
       "      <th>1818</th>\n",
       "      <td>Missouri</td>\n",
       "      <td>total</td>\n",
       "      <td>2010</td>\n",
       "      <td>5996063.0</td>\n",
       "      <td>69709</td>\n",
       "      <td>86.015622</td>\n",
       "    </tr>\n",
       "    <tr>\n",
       "      <th>2309</th>\n",
       "      <td>West Virginia</td>\n",
       "      <td>total</td>\n",
       "      <td>2010</td>\n",
       "      <td>1854146.0</td>\n",
       "      <td>24231</td>\n",
       "      <td>76.519582</td>\n",
       "    </tr>\n",
       "    <tr>\n",
       "      <th>2202</th>\n",
       "      <td>Vermont</td>\n",
       "      <td>total</td>\n",
       "      <td>2010</td>\n",
       "      <td>625793.0</td>\n",
       "      <td>9615</td>\n",
       "      <td>65.085075</td>\n",
       "    </tr>\n",
       "    <tr>\n",
       "      <th>1733</th>\n",
       "      <td>Mississippi</td>\n",
       "      <td>total</td>\n",
       "      <td>2010</td>\n",
       "      <td>2970047.0</td>\n",
       "      <td>48434</td>\n",
       "      <td>61.321530</td>\n",
       "    </tr>\n",
       "    <tr>\n",
       "      <th>1722</th>\n",
       "      <td>Minnesota</td>\n",
       "      <td>total</td>\n",
       "      <td>2010</td>\n",
       "      <td>5310337.0</td>\n",
       "      <td>86943</td>\n",
       "      <td>61.078373</td>\n",
       "    </tr>\n",
       "    <tr>\n",
       "      <th>101</th>\n",
       "      <td>Arizona</td>\n",
       "      <td>total</td>\n",
       "      <td>2010</td>\n",
       "      <td>6408790.0</td>\n",
       "      <td>114006</td>\n",
       "      <td>56.214497</td>\n",
       "    </tr>\n",
       "    <tr>\n",
       "      <th>189</th>\n",
       "      <td>Arkansas</td>\n",
       "      <td>total</td>\n",
       "      <td>2010</td>\n",
       "      <td>2922280.0</td>\n",
       "      <td>53182</td>\n",
       "      <td>54.948667</td>\n",
       "    </tr>\n",
       "    <tr>\n",
       "      <th>762</th>\n",
       "      <td>Iowa</td>\n",
       "      <td>total</td>\n",
       "      <td>2010</td>\n",
       "      <td>3050314.0</td>\n",
       "      <td>56276</td>\n",
       "      <td>54.202751</td>\n",
       "    </tr>\n",
       "    <tr>\n",
       "      <th>1445</th>\n",
       "      <td>Oklahoma</td>\n",
       "      <td>total</td>\n",
       "      <td>2010</td>\n",
       "      <td>3759263.0</td>\n",
       "      <td>69903</td>\n",
       "      <td>53.778278</td>\n",
       "    </tr>\n",
       "    <tr>\n",
       "      <th>283</th>\n",
       "      <td>Colorado</td>\n",
       "      <td>total</td>\n",
       "      <td>2010</td>\n",
       "      <td>5048196.0</td>\n",
       "      <td>104100</td>\n",
       "      <td>48.493718</td>\n",
       "    </tr>\n",
       "    <tr>\n",
       "      <th>1530</th>\n",
       "      <td>Oregon</td>\n",
       "      <td>total</td>\n",
       "      <td>2010</td>\n",
       "      <td>3837208.0</td>\n",
       "      <td>98386</td>\n",
       "      <td>39.001565</td>\n",
       "    </tr>\n",
       "    <tr>\n",
       "      <th>954</th>\n",
       "      <td>Maine</td>\n",
       "      <td>total</td>\n",
       "      <td>2010</td>\n",
       "      <td>1327366.0</td>\n",
       "      <td>35387</td>\n",
       "      <td>37.509990</td>\n",
       "    </tr>\n",
       "    <tr>\n",
       "      <th>773</th>\n",
       "      <td>Kansas</td>\n",
       "      <td>total</td>\n",
       "      <td>2010</td>\n",
       "      <td>2858910.0</td>\n",
       "      <td>82282</td>\n",
       "      <td>34.745266</td>\n",
       "    </tr>\n",
       "    <tr>\n",
       "      <th>2117</th>\n",
       "      <td>Utah</td>\n",
       "      <td>total</td>\n",
       "      <td>2010</td>\n",
       "      <td>2774424.0</td>\n",
       "      <td>84904</td>\n",
       "      <td>32.677188</td>\n",
       "    </tr>\n",
       "    <tr>\n",
       "      <th>1061</th>\n",
       "      <td>Nevada</td>\n",
       "      <td>total</td>\n",
       "      <td>2010</td>\n",
       "      <td>2703230.0</td>\n",
       "      <td>110567</td>\n",
       "      <td>24.448796</td>\n",
       "    </tr>\n",
       "    <tr>\n",
       "      <th>1050</th>\n",
       "      <td>Nebraska</td>\n",
       "      <td>total</td>\n",
       "      <td>2010</td>\n",
       "      <td>1829838.0</td>\n",
       "      <td>77358</td>\n",
       "      <td>23.654153</td>\n",
       "    </tr>\n",
       "    <tr>\n",
       "      <th>581</th>\n",
       "      <td>Idaho</td>\n",
       "      <td>total</td>\n",
       "      <td>2010</td>\n",
       "      <td>1570718.0</td>\n",
       "      <td>83574</td>\n",
       "      <td>18.794338</td>\n",
       "    </tr>\n",
       "    <tr>\n",
       "      <th>1242</th>\n",
       "      <td>New Mexico</td>\n",
       "      <td>total</td>\n",
       "      <td>2010</td>\n",
       "      <td>2064982.0</td>\n",
       "      <td>121593</td>\n",
       "      <td>16.982737</td>\n",
       "    </tr>\n",
       "    <tr>\n",
       "      <th>2010</th>\n",
       "      <td>South Dakota</td>\n",
       "      <td>total</td>\n",
       "      <td>2010</td>\n",
       "      <td>816211.0</td>\n",
       "      <td>77121</td>\n",
       "      <td>10.583512</td>\n",
       "    </tr>\n",
       "    <tr>\n",
       "      <th>1349</th>\n",
       "      <td>North Dakota</td>\n",
       "      <td>total</td>\n",
       "      <td>2010</td>\n",
       "      <td>674344.0</td>\n",
       "      <td>70704</td>\n",
       "      <td>9.537565</td>\n",
       "    </tr>\n",
       "    <tr>\n",
       "      <th>965</th>\n",
       "      <td>Montana</td>\n",
       "      <td>total</td>\n",
       "      <td>2010</td>\n",
       "      <td>990527.0</td>\n",
       "      <td>147046</td>\n",
       "      <td>6.736171</td>\n",
       "    </tr>\n",
       "    <tr>\n",
       "      <th>2405</th>\n",
       "      <td>Wyoming</td>\n",
       "      <td>total</td>\n",
       "      <td>2010</td>\n",
       "      <td>564222.0</td>\n",
       "      <td>97818</td>\n",
       "      <td>5.768079</td>\n",
       "    </tr>\n",
       "    <tr>\n",
       "      <th>91</th>\n",
       "      <td>Alaska</td>\n",
       "      <td>total</td>\n",
       "      <td>2010</td>\n",
       "      <td>713868.0</td>\n",
       "      <td>656425</td>\n",
       "      <td>1.087509</td>\n",
       "    </tr>\n",
       "  </tbody>\n",
       "</table>\n",
       "</div>"
      ],
      "text/plain": [
       "                     state   ages  year  population  area (sq. mi)  \\\n",
       "389   District of Columbia  total  2010    605125.0             68   \n",
       "1157            New Jersey  total  2010   8802707.0           8722   \n",
       "1914          Rhode Island  total  2010   1052669.0           1545   \n",
       "293            Connecticut  total  2010   3579210.0           5544   \n",
       "1626         Massachusetts  total  2010   6563263.0          10555   \n",
       "1541              Maryland  total  2010   5787193.0          12407   \n",
       "379               Delaware  total  2010    899711.0           1954   \n",
       "1253              New York  total  2010  19398228.0          54475   \n",
       "475                Florida  total  2010  18846054.0          65758   \n",
       "1829          Pennsylvania  total  2010  12710472.0          46058   \n",
       "1434                  Ohio  total  2010  11545435.0          44828   \n",
       "197             California  total  2010  37333601.0         163707   \n",
       "666               Illinois  total  2010  12839695.0          57918   \n",
       "2213              Virginia  total  2010   8024417.0          42769   \n",
       "677                Indiana  total  2010   6489965.0          36420   \n",
       "1338        North Carolina  total  2010   9559533.0          53821   \n",
       "485                Georgia  total  2010   9713248.0          59441   \n",
       "2021             Tennessee  total  2010   6356683.0          42146   \n",
       "1925        South Carolina  total  2010   4636361.0          32007   \n",
       "1146         New Hampshire  total  2010   1316614.0           9351   \n",
       "570                 Hawaii  total  2010   1363731.0          10932   \n",
       "858               Kentucky  total  2010   4347698.0          40411   \n",
       "1637              Michigan  total  2010   9876149.0          96810   \n",
       "2298            Washington  total  2010   6742256.0          71303   \n",
       "2106                 Texas  total  2010  25245178.0         268601   \n",
       "3                  Alabama  total  2010   4785570.0          52423   \n",
       "869              Louisiana  total  2010   4545392.0          51843   \n",
       "2394             Wisconsin  total  2010   5689060.0          65503   \n",
       "1818              Missouri  total  2010   5996063.0          69709   \n",
       "2309         West Virginia  total  2010   1854146.0          24231   \n",
       "2202               Vermont  total  2010    625793.0           9615   \n",
       "1733           Mississippi  total  2010   2970047.0          48434   \n",
       "1722             Minnesota  total  2010   5310337.0          86943   \n",
       "101                Arizona  total  2010   6408790.0         114006   \n",
       "189               Arkansas  total  2010   2922280.0          53182   \n",
       "762                   Iowa  total  2010   3050314.0          56276   \n",
       "1445              Oklahoma  total  2010   3759263.0          69903   \n",
       "283               Colorado  total  2010   5048196.0         104100   \n",
       "1530                Oregon  total  2010   3837208.0          98386   \n",
       "954                  Maine  total  2010   1327366.0          35387   \n",
       "773                 Kansas  total  2010   2858910.0          82282   \n",
       "2117                  Utah  total  2010   2774424.0          84904   \n",
       "1061                Nevada  total  2010   2703230.0         110567   \n",
       "1050              Nebraska  total  2010   1829838.0          77358   \n",
       "581                  Idaho  total  2010   1570718.0          83574   \n",
       "1242            New Mexico  total  2010   2064982.0         121593   \n",
       "2010          South Dakota  total  2010    816211.0          77121   \n",
       "1349          North Dakota  total  2010    674344.0          70704   \n",
       "965                Montana  total  2010    990527.0         147046   \n",
       "2405               Wyoming  total  2010    564222.0          97818   \n",
       "91                  Alaska  total  2010    713868.0         656425   \n",
       "\n",
       "          density  \n",
       "389   8898.897059  \n",
       "1157  1009.253268  \n",
       "1914   681.339159  \n",
       "293    645.600649  \n",
       "1626   621.815538  \n",
       "1541   466.445797  \n",
       "379    460.445752  \n",
       "1253   356.094135  \n",
       "475    286.597129  \n",
       "1829   275.966651  \n",
       "1434   257.549634  \n",
       "197    228.051342  \n",
       "666    221.687472  \n",
       "2213   187.622273  \n",
       "677    178.197831  \n",
       "1338   177.617157  \n",
       "485    163.409902  \n",
       "2021   150.825298  \n",
       "1925   144.854594  \n",
       "1146   140.799273  \n",
       "570    124.746707  \n",
       "858    107.586994  \n",
       "1637   102.015794  \n",
       "2298    94.557817  \n",
       "2106    93.987655  \n",
       "3       91.287603  \n",
       "869     87.676099  \n",
       "2394    86.851900  \n",
       "1818    86.015622  \n",
       "2309    76.519582  \n",
       "2202    65.085075  \n",
       "1733    61.321530  \n",
       "1722    61.078373  \n",
       "101     56.214497  \n",
       "189     54.948667  \n",
       "762     54.202751  \n",
       "1445    53.778278  \n",
       "283     48.493718  \n",
       "1530    39.001565  \n",
       "954     37.509990  \n",
       "773     34.745266  \n",
       "2117    32.677188  \n",
       "1061    24.448796  \n",
       "1050    23.654153  \n",
       "581     18.794338  \n",
       "1242    16.982737  \n",
       "2010    10.583512  \n",
       "1349     9.537565  \n",
       "965      6.736171  \n",
       "2405     5.768079  \n",
       "91       1.087509  "
      ]
     },
     "execution_count": 35,
     "metadata": {},
     "output_type": "execute_result"
    }
   ],
   "source": [
    "df_total[df_total['year']==2010].sort_values(by='density',\n",
    "                     ascending=False, \n",
    "                     inplace=False)"
   ]
  },
  {
   "cell_type": "code",
   "execution_count": 36,
   "metadata": {},
   "outputs": [
    {
     "data": {
      "application/vnd.microsoft.datawrangler.viewer.v0+json": {
       "columns": [
        {
         "name": "index",
         "rawType": "int64",
         "type": "integer"
        },
        {
         "name": "method",
         "rawType": "object",
         "type": "string"
        },
        {
         "name": "number",
         "rawType": "int64",
         "type": "integer"
        },
        {
         "name": "orbital_period",
         "rawType": "float64",
         "type": "float"
        },
        {
         "name": "mass",
         "rawType": "float64",
         "type": "float"
        },
        {
         "name": "distance",
         "rawType": "float64",
         "type": "float"
        },
        {
         "name": "year",
         "rawType": "int64",
         "type": "integer"
        }
       ],
       "conversionMethod": "pd.DataFrame",
       "ref": "bdebf236-8130-4238-a572-bb8c7765bac2",
       "rows": [
        [
         "0",
         "Radial Velocity",
         "1",
         "269.3",
         "7.1",
         "77.4",
         "2006"
        ],
        [
         "1",
         "Radial Velocity",
         "1",
         "874.774",
         "2.21",
         "56.95",
         "2008"
        ],
        [
         "2",
         "Radial Velocity",
         "1",
         "763.0",
         "2.6",
         "19.84",
         "2011"
        ],
        [
         "3",
         "Radial Velocity",
         "1",
         "326.03",
         "19.4",
         "110.62",
         "2007"
        ],
        [
         "4",
         "Radial Velocity",
         "1",
         "516.22",
         "10.5",
         "119.47",
         "2009"
        ]
       ],
       "shape": {
        "columns": 6,
        "rows": 5
       }
      },
      "text/html": [
       "<div>\n",
       "<style scoped>\n",
       "    .dataframe tbody tr th:only-of-type {\n",
       "        vertical-align: middle;\n",
       "    }\n",
       "\n",
       "    .dataframe tbody tr th {\n",
       "        vertical-align: top;\n",
       "    }\n",
       "\n",
       "    .dataframe thead th {\n",
       "        text-align: right;\n",
       "    }\n",
       "</style>\n",
       "<table border=\"1\" class=\"dataframe\">\n",
       "  <thead>\n",
       "    <tr style=\"text-align: right;\">\n",
       "      <th></th>\n",
       "      <th>method</th>\n",
       "      <th>number</th>\n",
       "      <th>orbital_period</th>\n",
       "      <th>mass</th>\n",
       "      <th>distance</th>\n",
       "      <th>year</th>\n",
       "    </tr>\n",
       "  </thead>\n",
       "  <tbody>\n",
       "    <tr>\n",
       "      <th>0</th>\n",
       "      <td>Radial Velocity</td>\n",
       "      <td>1</td>\n",
       "      <td>269.300</td>\n",
       "      <td>7.10</td>\n",
       "      <td>77.40</td>\n",
       "      <td>2006</td>\n",
       "    </tr>\n",
       "    <tr>\n",
       "      <th>1</th>\n",
       "      <td>Radial Velocity</td>\n",
       "      <td>1</td>\n",
       "      <td>874.774</td>\n",
       "      <td>2.21</td>\n",
       "      <td>56.95</td>\n",
       "      <td>2008</td>\n",
       "    </tr>\n",
       "    <tr>\n",
       "      <th>2</th>\n",
       "      <td>Radial Velocity</td>\n",
       "      <td>1</td>\n",
       "      <td>763.000</td>\n",
       "      <td>2.60</td>\n",
       "      <td>19.84</td>\n",
       "      <td>2011</td>\n",
       "    </tr>\n",
       "    <tr>\n",
       "      <th>3</th>\n",
       "      <td>Radial Velocity</td>\n",
       "      <td>1</td>\n",
       "      <td>326.030</td>\n",
       "      <td>19.40</td>\n",
       "      <td>110.62</td>\n",
       "      <td>2007</td>\n",
       "    </tr>\n",
       "    <tr>\n",
       "      <th>4</th>\n",
       "      <td>Radial Velocity</td>\n",
       "      <td>1</td>\n",
       "      <td>516.220</td>\n",
       "      <td>10.50</td>\n",
       "      <td>119.47</td>\n",
       "      <td>2009</td>\n",
       "    </tr>\n",
       "  </tbody>\n",
       "</table>\n",
       "</div>"
      ],
      "text/plain": [
       "            method  number  orbital_period   mass  distance  year\n",
       "0  Radial Velocity       1         269.300   7.10     77.40  2006\n",
       "1  Radial Velocity       1         874.774   2.21     56.95  2008\n",
       "2  Radial Velocity       1         763.000   2.60     19.84  2011\n",
       "3  Radial Velocity       1         326.030  19.40    110.62  2007\n",
       "4  Radial Velocity       1         516.220  10.50    119.47  2009"
      ]
     },
     "execution_count": 36,
     "metadata": {},
     "output_type": "execute_result"
    }
   ],
   "source": [
    "import seaborn as sns\n",
    "planets = sns.load_dataset('planets')\n",
    "planets.head()"
   ]
  },
  {
   "cell_type": "code",
   "execution_count": 40,
   "metadata": {},
   "outputs": [
    {
     "data": {
      "text/plain": [
       "np.int64(1848)"
      ]
     },
     "execution_count": 40,
     "metadata": {},
     "output_type": "execute_result"
    }
   ],
   "source": [
    "planets.number.sum()"
   ]
  },
  {
   "cell_type": "code",
   "execution_count": 43,
   "metadata": {},
   "outputs": [
    {
     "data": {
      "text/plain": [
       "np.int64(440)"
      ]
     },
     "execution_count": 43,
     "metadata": {},
     "output_type": "execute_result"
    }
   ],
   "source": [
    "planets[planets.number>1].number.count()"
   ]
  },
  {
   "cell_type": "code",
   "execution_count": 42,
   "metadata": {},
   "outputs": [
    {
     "data": {
      "text/plain": [
       "(1035, 6)"
      ]
     },
     "execution_count": 42,
     "metadata": {},
     "output_type": "execute_result"
    }
   ],
   "source": [
    "planets.shape"
   ]
  },
  {
   "cell_type": "code",
   "execution_count": 45,
   "metadata": {},
   "outputs": [
    {
     "data": {
      "text/plain": [
       "method              0\n",
       "number              0\n",
       "orbital_period     43\n",
       "mass              522\n",
       "distance          227\n",
       "year                0\n",
       "dtype: int64"
      ]
     },
     "execution_count": 45,
     "metadata": {},
     "output_type": "execute_result"
    }
   ],
   "source": [
    "planets.isnull().sum()"
   ]
  },
  {
   "cell_type": "code",
   "execution_count": 46,
   "metadata": {},
   "outputs": [
    {
     "data": {
      "text/plain": [
       "np.float64(2002.9175960947582)"
      ]
     },
     "execution_count": 46,
     "metadata": {},
     "output_type": "execute_result"
    }
   ],
   "source": [
    "planets.orbital_period.mean()"
   ]
  },
  {
   "cell_type": "code",
   "execution_count": 50,
   "metadata": {},
   "outputs": [
    {
     "data": {
      "text/plain": [
       "(10,)"
      ]
     },
     "execution_count": 50,
     "metadata": {},
     "output_type": "execute_result"
    }
   ],
   "source": [
    "planets.method.unique().shape"
   ]
  },
  {
   "cell_type": "code",
   "execution_count": 54,
   "metadata": {},
   "outputs": [
    {
     "data": {
      "application/vnd.microsoft.datawrangler.viewer.v0+json": {
       "columns": [
        {
         "name": "index",
         "rawType": "int64",
         "type": "integer"
        },
        {
         "name": "Method",
         "rawType": "object",
         "type": "string"
        },
        {
         "name": "Number",
         "rawType": "int64",
         "type": "integer"
        }
       ],
       "conversionMethod": "pd.DataFrame",
       "ref": "50d1c492-465b-46ef-a848-025a8d3afd07",
       "rows": [
        [
         "0",
         "Radial Velocity",
         "952"
        ],
        [
         "1",
         "Imaging",
         "50"
        ],
        [
         "2",
         "Eclipse Timing Variations",
         "15"
        ],
        [
         "3",
         "Transit",
         "776"
        ],
        [
         "4",
         "Astrometry",
         "2"
        ],
        [
         "5",
         "Transit Timing Variations",
         "9"
        ],
        [
         "6",
         "Orbital Brightness Modulation",
         "5"
        ],
        [
         "7",
         "Microlensing",
         "27"
        ],
        [
         "8",
         "Pulsar Timing",
         "11"
        ],
        [
         "9",
         "Pulsation Timing Variations",
         "1"
        ]
       ],
       "shape": {
        "columns": 2,
        "rows": 10
       }
      },
      "text/html": [
       "<div>\n",
       "<style scoped>\n",
       "    .dataframe tbody tr th:only-of-type {\n",
       "        vertical-align: middle;\n",
       "    }\n",
       "\n",
       "    .dataframe tbody tr th {\n",
       "        vertical-align: top;\n",
       "    }\n",
       "\n",
       "    .dataframe thead th {\n",
       "        text-align: right;\n",
       "    }\n",
       "</style>\n",
       "<table border=\"1\" class=\"dataframe\">\n",
       "  <thead>\n",
       "    <tr style=\"text-align: right;\">\n",
       "      <th></th>\n",
       "      <th>Method</th>\n",
       "      <th>Number</th>\n",
       "    </tr>\n",
       "  </thead>\n",
       "  <tbody>\n",
       "    <tr>\n",
       "      <th>0</th>\n",
       "      <td>Radial Velocity</td>\n",
       "      <td>952</td>\n",
       "    </tr>\n",
       "    <tr>\n",
       "      <th>1</th>\n",
       "      <td>Imaging</td>\n",
       "      <td>50</td>\n",
       "    </tr>\n",
       "    <tr>\n",
       "      <th>2</th>\n",
       "      <td>Eclipse Timing Variations</td>\n",
       "      <td>15</td>\n",
       "    </tr>\n",
       "    <tr>\n",
       "      <th>3</th>\n",
       "      <td>Transit</td>\n",
       "      <td>776</td>\n",
       "    </tr>\n",
       "    <tr>\n",
       "      <th>4</th>\n",
       "      <td>Astrometry</td>\n",
       "      <td>2</td>\n",
       "    </tr>\n",
       "    <tr>\n",
       "      <th>5</th>\n",
       "      <td>Transit Timing Variations</td>\n",
       "      <td>9</td>\n",
       "    </tr>\n",
       "    <tr>\n",
       "      <th>6</th>\n",
       "      <td>Orbital Brightness Modulation</td>\n",
       "      <td>5</td>\n",
       "    </tr>\n",
       "    <tr>\n",
       "      <th>7</th>\n",
       "      <td>Microlensing</td>\n",
       "      <td>27</td>\n",
       "    </tr>\n",
       "    <tr>\n",
       "      <th>8</th>\n",
       "      <td>Pulsar Timing</td>\n",
       "      <td>11</td>\n",
       "    </tr>\n",
       "    <tr>\n",
       "      <th>9</th>\n",
       "      <td>Pulsation Timing Variations</td>\n",
       "      <td>1</td>\n",
       "    </tr>\n",
       "  </tbody>\n",
       "</table>\n",
       "</div>"
      ],
      "text/plain": [
       "                          Method  Number\n",
       "0                Radial Velocity     952\n",
       "1                        Imaging      50\n",
       "2      Eclipse Timing Variations      15\n",
       "3                        Transit     776\n",
       "4                     Astrometry       2\n",
       "5      Transit Timing Variations       9\n",
       "6  Orbital Brightness Modulation       5\n",
       "7                   Microlensing      27\n",
       "8                  Pulsar Timing      11\n",
       "9    Pulsation Timing Variations       1"
      ]
     },
     "execution_count": 54,
     "metadata": {},
     "output_type": "execute_result"
    }
   ],
   "source": [
    "dict_1 = {'Method':[], 'Number':[]}\n",
    "for method in planets.method.unique():\n",
    "    dict_1[\"Method\"].append(method)\n",
    "    s = planets[planets.method ==  method].number.sum()\n",
    "    dict_1['Number'].append(s)\n",
    "pd.DataFrame(dict_1)"
   ]
  },
  {
   "cell_type": "code",
   "execution_count": 56,
   "metadata": {},
   "outputs": [
    {
     "data": {
      "text/plain": [
       "array([2006, 2008, 2011, 2007, 2009, 2002, 1996, 2010, 2001, 1995, 2004,\n",
       "       2012, 2013, 2005, 2000, 2003, 1997, 1999, 2014, 1998, 1989, 1992,\n",
       "       1994])"
      ]
     },
     "execution_count": 56,
     "metadata": {},
     "output_type": "execute_result"
    }
   ],
   "source": [
    "planets.year.unique()"
   ]
  },
  {
   "cell_type": "code",
   "execution_count": 58,
   "metadata": {},
   "outputs": [
    {
     "data": {
      "application/vnd.microsoft.datawrangler.viewer.v0+json": {
       "columns": [
        {
         "name": "method",
         "rawType": "object",
         "type": "string"
        },
        {
         "name": "number",
         "rawType": "int64",
         "type": "integer"
        }
       ],
       "conversionMethod": "pd.DataFrame",
       "ref": "f5b0a777-7b69-40bf-ac6b-2795bce1734d",
       "rows": [
        [
         "Astrometry",
         "2"
        ],
        [
         "Eclipse Timing Variations",
         "15"
        ],
        [
         "Imaging",
         "50"
        ],
        [
         "Microlensing",
         "27"
        ],
        [
         "Orbital Brightness Modulation",
         "5"
        ],
        [
         "Pulsar Timing",
         "11"
        ],
        [
         "Pulsation Timing Variations",
         "1"
        ],
        [
         "Radial Velocity",
         "952"
        ],
        [
         "Transit",
         "776"
        ],
        [
         "Transit Timing Variations",
         "9"
        ]
       ],
       "shape": {
        "columns": 1,
        "rows": 10
       }
      },
      "text/html": [
       "<div>\n",
       "<style scoped>\n",
       "    .dataframe tbody tr th:only-of-type {\n",
       "        vertical-align: middle;\n",
       "    }\n",
       "\n",
       "    .dataframe tbody tr th {\n",
       "        vertical-align: top;\n",
       "    }\n",
       "\n",
       "    .dataframe thead th {\n",
       "        text-align: right;\n",
       "    }\n",
       "</style>\n",
       "<table border=\"1\" class=\"dataframe\">\n",
       "  <thead>\n",
       "    <tr style=\"text-align: right;\">\n",
       "      <th></th>\n",
       "      <th>number</th>\n",
       "    </tr>\n",
       "    <tr>\n",
       "      <th>method</th>\n",
       "      <th></th>\n",
       "    </tr>\n",
       "  </thead>\n",
       "  <tbody>\n",
       "    <tr>\n",
       "      <th>Astrometry</th>\n",
       "      <td>2</td>\n",
       "    </tr>\n",
       "    <tr>\n",
       "      <th>Eclipse Timing Variations</th>\n",
       "      <td>15</td>\n",
       "    </tr>\n",
       "    <tr>\n",
       "      <th>Imaging</th>\n",
       "      <td>50</td>\n",
       "    </tr>\n",
       "    <tr>\n",
       "      <th>Microlensing</th>\n",
       "      <td>27</td>\n",
       "    </tr>\n",
       "    <tr>\n",
       "      <th>Orbital Brightness Modulation</th>\n",
       "      <td>5</td>\n",
       "    </tr>\n",
       "    <tr>\n",
       "      <th>Pulsar Timing</th>\n",
       "      <td>11</td>\n",
       "    </tr>\n",
       "    <tr>\n",
       "      <th>Pulsation Timing Variations</th>\n",
       "      <td>1</td>\n",
       "    </tr>\n",
       "    <tr>\n",
       "      <th>Radial Velocity</th>\n",
       "      <td>952</td>\n",
       "    </tr>\n",
       "    <tr>\n",
       "      <th>Transit</th>\n",
       "      <td>776</td>\n",
       "    </tr>\n",
       "    <tr>\n",
       "      <th>Transit Timing Variations</th>\n",
       "      <td>9</td>\n",
       "    </tr>\n",
       "  </tbody>\n",
       "</table>\n",
       "</div>"
      ],
      "text/plain": [
       "                               number\n",
       "method                               \n",
       "Astrometry                          2\n",
       "Eclipse Timing Variations          15\n",
       "Imaging                            50\n",
       "Microlensing                       27\n",
       "Orbital Brightness Modulation       5\n",
       "Pulsar Timing                      11\n",
       "Pulsation Timing Variations         1\n",
       "Radial Velocity                   952\n",
       "Transit                           776\n",
       "Transit Timing Variations           9"
      ]
     },
     "execution_count": 58,
     "metadata": {},
     "output_type": "execute_result"
    }
   ],
   "source": [
    "planets[['method','number']].groupby('method').sum()"
   ]
  },
  {
   "cell_type": "code",
   "execution_count": 59,
   "metadata": {},
   "outputs": [
    {
     "data": {
      "application/vnd.microsoft.datawrangler.viewer.v0+json": {
       "columns": [
        {
         "name": "method",
         "rawType": "object",
         "type": "string"
        },
        {
         "name": "number",
         "rawType": "float64",
         "type": "float"
        }
       ],
       "conversionMethod": "pd.DataFrame",
       "ref": "c7f1a824-6223-4cae-bc94-eeabe0a5aca2",
       "rows": [
        [
         "Astrometry",
         "1.0"
        ],
        [
         "Eclipse Timing Variations",
         "1.6666666666666667"
        ],
        [
         "Imaging",
         "1.3157894736842106"
        ],
        [
         "Microlensing",
         "1.173913043478261"
        ],
        [
         "Orbital Brightness Modulation",
         "1.6666666666666667"
        ],
        [
         "Pulsar Timing",
         "2.2"
        ],
        [
         "Pulsation Timing Variations",
         "1.0"
        ],
        [
         "Radial Velocity",
         "1.7215189873417722"
        ],
        [
         "Transit",
         "1.9546599496221662"
        ],
        [
         "Transit Timing Variations",
         "2.25"
        ]
       ],
       "shape": {
        "columns": 1,
        "rows": 10
       }
      },
      "text/html": [
       "<div>\n",
       "<style scoped>\n",
       "    .dataframe tbody tr th:only-of-type {\n",
       "        vertical-align: middle;\n",
       "    }\n",
       "\n",
       "    .dataframe tbody tr th {\n",
       "        vertical-align: top;\n",
       "    }\n",
       "\n",
       "    .dataframe thead th {\n",
       "        text-align: right;\n",
       "    }\n",
       "</style>\n",
       "<table border=\"1\" class=\"dataframe\">\n",
       "  <thead>\n",
       "    <tr style=\"text-align: right;\">\n",
       "      <th></th>\n",
       "      <th>number</th>\n",
       "    </tr>\n",
       "    <tr>\n",
       "      <th>method</th>\n",
       "      <th></th>\n",
       "    </tr>\n",
       "  </thead>\n",
       "  <tbody>\n",
       "    <tr>\n",
       "      <th>Astrometry</th>\n",
       "      <td>1.000000</td>\n",
       "    </tr>\n",
       "    <tr>\n",
       "      <th>Eclipse Timing Variations</th>\n",
       "      <td>1.666667</td>\n",
       "    </tr>\n",
       "    <tr>\n",
       "      <th>Imaging</th>\n",
       "      <td>1.315789</td>\n",
       "    </tr>\n",
       "    <tr>\n",
       "      <th>Microlensing</th>\n",
       "      <td>1.173913</td>\n",
       "    </tr>\n",
       "    <tr>\n",
       "      <th>Orbital Brightness Modulation</th>\n",
       "      <td>1.666667</td>\n",
       "    </tr>\n",
       "    <tr>\n",
       "      <th>Pulsar Timing</th>\n",
       "      <td>2.200000</td>\n",
       "    </tr>\n",
       "    <tr>\n",
       "      <th>Pulsation Timing Variations</th>\n",
       "      <td>1.000000</td>\n",
       "    </tr>\n",
       "    <tr>\n",
       "      <th>Radial Velocity</th>\n",
       "      <td>1.721519</td>\n",
       "    </tr>\n",
       "    <tr>\n",
       "      <th>Transit</th>\n",
       "      <td>1.954660</td>\n",
       "    </tr>\n",
       "    <tr>\n",
       "      <th>Transit Timing Variations</th>\n",
       "      <td>2.250000</td>\n",
       "    </tr>\n",
       "  </tbody>\n",
       "</table>\n",
       "</div>"
      ],
      "text/plain": [
       "                                 number\n",
       "method                                 \n",
       "Astrometry                     1.000000\n",
       "Eclipse Timing Variations      1.666667\n",
       "Imaging                        1.315789\n",
       "Microlensing                   1.173913\n",
       "Orbital Brightness Modulation  1.666667\n",
       "Pulsar Timing                  2.200000\n",
       "Pulsation Timing Variations    1.000000\n",
       "Radial Velocity                1.721519\n",
       "Transit                        1.954660\n",
       "Transit Timing Variations      2.250000"
      ]
     },
     "execution_count": 59,
     "metadata": {},
     "output_type": "execute_result"
    }
   ],
   "source": [
    "planets[['method','number']].groupby('method').mean()"
   ]
  },
  {
   "cell_type": "code",
   "execution_count": 60,
   "metadata": {},
   "outputs": [
    {
     "data": {
      "application/vnd.microsoft.datawrangler.viewer.v0+json": {
       "columns": [
        {
         "name": "method",
         "rawType": "object",
         "type": "string"
        },
        {
         "name": "number",
         "rawType": "int64",
         "type": "integer"
        }
       ],
       "conversionMethod": "pd.DataFrame",
       "ref": "9e1ff80d-3cf0-4d14-927d-61c95785ed44",
       "rows": [
        [
         "Astrometry",
         "2"
        ],
        [
         "Eclipse Timing Variations",
         "9"
        ],
        [
         "Imaging",
         "38"
        ],
        [
         "Microlensing",
         "23"
        ],
        [
         "Orbital Brightness Modulation",
         "3"
        ],
        [
         "Pulsar Timing",
         "5"
        ],
        [
         "Pulsation Timing Variations",
         "1"
        ],
        [
         "Radial Velocity",
         "553"
        ],
        [
         "Transit",
         "397"
        ],
        [
         "Transit Timing Variations",
         "4"
        ]
       ],
       "shape": {
        "columns": 1,
        "rows": 10
       }
      },
      "text/html": [
       "<div>\n",
       "<style scoped>\n",
       "    .dataframe tbody tr th:only-of-type {\n",
       "        vertical-align: middle;\n",
       "    }\n",
       "\n",
       "    .dataframe tbody tr th {\n",
       "        vertical-align: top;\n",
       "    }\n",
       "\n",
       "    .dataframe thead th {\n",
       "        text-align: right;\n",
       "    }\n",
       "</style>\n",
       "<table border=\"1\" class=\"dataframe\">\n",
       "  <thead>\n",
       "    <tr style=\"text-align: right;\">\n",
       "      <th></th>\n",
       "      <th>number</th>\n",
       "    </tr>\n",
       "    <tr>\n",
       "      <th>method</th>\n",
       "      <th></th>\n",
       "    </tr>\n",
       "  </thead>\n",
       "  <tbody>\n",
       "    <tr>\n",
       "      <th>Astrometry</th>\n",
       "      <td>2</td>\n",
       "    </tr>\n",
       "    <tr>\n",
       "      <th>Eclipse Timing Variations</th>\n",
       "      <td>9</td>\n",
       "    </tr>\n",
       "    <tr>\n",
       "      <th>Imaging</th>\n",
       "      <td>38</td>\n",
       "    </tr>\n",
       "    <tr>\n",
       "      <th>Microlensing</th>\n",
       "      <td>23</td>\n",
       "    </tr>\n",
       "    <tr>\n",
       "      <th>Orbital Brightness Modulation</th>\n",
       "      <td>3</td>\n",
       "    </tr>\n",
       "    <tr>\n",
       "      <th>Pulsar Timing</th>\n",
       "      <td>5</td>\n",
       "    </tr>\n",
       "    <tr>\n",
       "      <th>Pulsation Timing Variations</th>\n",
       "      <td>1</td>\n",
       "    </tr>\n",
       "    <tr>\n",
       "      <th>Radial Velocity</th>\n",
       "      <td>553</td>\n",
       "    </tr>\n",
       "    <tr>\n",
       "      <th>Transit</th>\n",
       "      <td>397</td>\n",
       "    </tr>\n",
       "    <tr>\n",
       "      <th>Transit Timing Variations</th>\n",
       "      <td>4</td>\n",
       "    </tr>\n",
       "  </tbody>\n",
       "</table>\n",
       "</div>"
      ],
      "text/plain": [
       "                               number\n",
       "method                               \n",
       "Astrometry                          2\n",
       "Eclipse Timing Variations           9\n",
       "Imaging                            38\n",
       "Microlensing                       23\n",
       "Orbital Brightness Modulation       3\n",
       "Pulsar Timing                       5\n",
       "Pulsation Timing Variations         1\n",
       "Radial Velocity                   553\n",
       "Transit                           397\n",
       "Transit Timing Variations           4"
      ]
     },
     "execution_count": 60,
     "metadata": {},
     "output_type": "execute_result"
    }
   ],
   "source": [
    "planets[['method','number']].groupby('method').count()"
   ]
  },
  {
   "cell_type": "code",
   "execution_count": 61,
   "metadata": {},
   "outputs": [
    {
     "data": {
      "application/vnd.microsoft.datawrangler.viewer.v0+json": {
       "columns": [
        {
         "name": "index",
         "rawType": "int64",
         "type": "integer"
        },
        {
         "name": "key",
         "rawType": "object",
         "type": "string"
        },
        {
         "name": "data1",
         "rawType": "int64",
         "type": "integer"
        },
        {
         "name": "data2",
         "rawType": "int64",
         "type": "integer"
        }
       ],
       "conversionMethod": "pd.DataFrame",
       "ref": "d1d9f972-ed4f-43c5-8b8f-142bec77ecb2",
       "rows": [
        [
         "0",
         "A",
         "0",
         "6"
        ],
        [
         "1",
         "B",
         "1",
         "7"
        ],
        [
         "2",
         "C",
         "2",
         "8"
        ],
        [
         "3",
         "A",
         "3",
         "9"
        ],
        [
         "4",
         "B",
         "4",
         "10"
        ],
        [
         "5",
         "C",
         "5",
         "11"
        ]
       ],
       "shape": {
        "columns": 3,
        "rows": 6
       }
      },
      "text/html": [
       "<div>\n",
       "<style scoped>\n",
       "    .dataframe tbody tr th:only-of-type {\n",
       "        vertical-align: middle;\n",
       "    }\n",
       "\n",
       "    .dataframe tbody tr th {\n",
       "        vertical-align: top;\n",
       "    }\n",
       "\n",
       "    .dataframe thead th {\n",
       "        text-align: right;\n",
       "    }\n",
       "</style>\n",
       "<table border=\"1\" class=\"dataframe\">\n",
       "  <thead>\n",
       "    <tr style=\"text-align: right;\">\n",
       "      <th></th>\n",
       "      <th>key</th>\n",
       "      <th>data1</th>\n",
       "      <th>data2</th>\n",
       "    </tr>\n",
       "  </thead>\n",
       "  <tbody>\n",
       "    <tr>\n",
       "      <th>0</th>\n",
       "      <td>A</td>\n",
       "      <td>0</td>\n",
       "      <td>6</td>\n",
       "    </tr>\n",
       "    <tr>\n",
       "      <th>1</th>\n",
       "      <td>B</td>\n",
       "      <td>1</td>\n",
       "      <td>7</td>\n",
       "    </tr>\n",
       "    <tr>\n",
       "      <th>2</th>\n",
       "      <td>C</td>\n",
       "      <td>2</td>\n",
       "      <td>8</td>\n",
       "    </tr>\n",
       "    <tr>\n",
       "      <th>3</th>\n",
       "      <td>A</td>\n",
       "      <td>3</td>\n",
       "      <td>9</td>\n",
       "    </tr>\n",
       "    <tr>\n",
       "      <th>4</th>\n",
       "      <td>B</td>\n",
       "      <td>4</td>\n",
       "      <td>10</td>\n",
       "    </tr>\n",
       "    <tr>\n",
       "      <th>5</th>\n",
       "      <td>C</td>\n",
       "      <td>5</td>\n",
       "      <td>11</td>\n",
       "    </tr>\n",
       "  </tbody>\n",
       "</table>\n",
       "</div>"
      ],
      "text/plain": [
       "  key  data1  data2\n",
       "0   A      0      6\n",
       "1   B      1      7\n",
       "2   C      2      8\n",
       "3   A      3      9\n",
       "4   B      4     10\n",
       "5   C      5     11"
      ]
     },
     "execution_count": 61,
     "metadata": {},
     "output_type": "execute_result"
    }
   ],
   "source": [
    "df = pd.DataFrame({'key': list(\"ABCABC\"),\n",
    "                   \"data1\":range(6),\n",
    "                   'data2':range(6,12)},\n",
    "                   columns=['key','data1','data2'])\n",
    "df \n"
   ]
  },
  {
   "cell_type": "code",
   "execution_count": 62,
   "metadata": {},
   "outputs": [],
   "source": [
    "myfunc = lambda x: x.sum()//2"
   ]
  },
  {
   "cell_type": "code",
   "execution_count": 64,
   "metadata": {},
   "outputs": [
    {
     "data": {
      "text/plain": [
       "np.int64(3)"
      ]
     },
     "execution_count": 64,
     "metadata": {},
     "output_type": "execute_result"
    }
   ],
   "source": [
    "myfunc(np.array([1,2,3]))"
   ]
  },
  {
   "cell_type": "code",
   "execution_count": 67,
   "metadata": {},
   "outputs": [
    {
     "data": {
      "application/vnd.microsoft.datawrangler.viewer.v0+json": {
       "columns": [
        {
         "name": "key",
         "rawType": "object",
         "type": "string"
        },
        {
         "name": "('data1', 'sum')",
         "rawType": "int64",
         "type": "integer"
        },
        {
         "name": "('data1', 'min')",
         "rawType": "int64",
         "type": "integer"
        },
        {
         "name": "('data1', '<lambda_0>')",
         "rawType": "int64",
         "type": "integer"
        }
       ],
       "conversionMethod": "pd.DataFrame",
       "ref": "0c5f6118-401a-4318-b76a-8176d6ad878e",
       "rows": [
        [
         "A",
         "3",
         "0",
         "1"
        ],
        [
         "B",
         "5",
         "1",
         "2"
        ],
        [
         "C",
         "7",
         "2",
         "3"
        ]
       ],
       "shape": {
        "columns": 3,
        "rows": 3
       }
      },
      "text/html": [
       "<div>\n",
       "<style scoped>\n",
       "    .dataframe tbody tr th:only-of-type {\n",
       "        vertical-align: middle;\n",
       "    }\n",
       "\n",
       "    .dataframe tbody tr th {\n",
       "        vertical-align: top;\n",
       "    }\n",
       "\n",
       "    .dataframe thead tr th {\n",
       "        text-align: left;\n",
       "    }\n",
       "\n",
       "    .dataframe thead tr:last-of-type th {\n",
       "        text-align: right;\n",
       "    }\n",
       "</style>\n",
       "<table border=\"1\" class=\"dataframe\">\n",
       "  <thead>\n",
       "    <tr>\n",
       "      <th></th>\n",
       "      <th colspan=\"3\" halign=\"left\">data1</th>\n",
       "    </tr>\n",
       "    <tr>\n",
       "      <th></th>\n",
       "      <th>sum</th>\n",
       "      <th>min</th>\n",
       "      <th>&lt;lambda_0&gt;</th>\n",
       "    </tr>\n",
       "    <tr>\n",
       "      <th>key</th>\n",
       "      <th></th>\n",
       "      <th></th>\n",
       "      <th></th>\n",
       "    </tr>\n",
       "  </thead>\n",
       "  <tbody>\n",
       "    <tr>\n",
       "      <th>A</th>\n",
       "      <td>3</td>\n",
       "      <td>0</td>\n",
       "      <td>1</td>\n",
       "    </tr>\n",
       "    <tr>\n",
       "      <th>B</th>\n",
       "      <td>5</td>\n",
       "      <td>1</td>\n",
       "      <td>2</td>\n",
       "    </tr>\n",
       "    <tr>\n",
       "      <th>C</th>\n",
       "      <td>7</td>\n",
       "      <td>2</td>\n",
       "      <td>3</td>\n",
       "    </tr>\n",
       "  </tbody>\n",
       "</table>\n",
       "</div>"
      ],
      "text/plain": [
       "    data1               \n",
       "      sum min <lambda_0>\n",
       "key                     \n",
       "A       3   0          1\n",
       "B       5   1          2\n",
       "C       7   2          3"
      ]
     },
     "execution_count": 67,
     "metadata": {},
     "output_type": "execute_result"
    }
   ],
   "source": [
    "df[['key','data1']].groupby('key').aggregate(['sum','min',myfunc])"
   ]
  },
  {
   "cell_type": "code",
   "execution_count": 68,
   "metadata": {},
   "outputs": [
    {
     "data": {
      "application/vnd.microsoft.datawrangler.viewer.v0+json": {
       "columns": [
        {
         "name": "index",
         "rawType": "int64",
         "type": "integer"
        },
        {
         "name": "key",
         "rawType": "object",
         "type": "string"
        },
        {
         "name": "data1",
         "rawType": "int64",
         "type": "integer"
        }
       ],
       "conversionMethod": "pd.DataFrame",
       "ref": "97970422-a6fa-4829-bce4-58af77cd47f4",
       "rows": [
        [
         "0",
         "A",
         "0"
        ],
        [
         "1",
         "B",
         "1"
        ],
        [
         "2",
         "C",
         "2"
        ],
        [
         "3",
         "A",
         "3"
        ],
        [
         "4",
         "B",
         "4"
        ],
        [
         "5",
         "C",
         "5"
        ]
       ],
       "shape": {
        "columns": 2,
        "rows": 6
       }
      },
      "text/html": [
       "<div>\n",
       "<style scoped>\n",
       "    .dataframe tbody tr th:only-of-type {\n",
       "        vertical-align: middle;\n",
       "    }\n",
       "\n",
       "    .dataframe tbody tr th {\n",
       "        vertical-align: top;\n",
       "    }\n",
       "\n",
       "    .dataframe thead th {\n",
       "        text-align: right;\n",
       "    }\n",
       "</style>\n",
       "<table border=\"1\" class=\"dataframe\">\n",
       "  <thead>\n",
       "    <tr style=\"text-align: right;\">\n",
       "      <th></th>\n",
       "      <th>key</th>\n",
       "      <th>data1</th>\n",
       "    </tr>\n",
       "  </thead>\n",
       "  <tbody>\n",
       "    <tr>\n",
       "      <th>0</th>\n",
       "      <td>A</td>\n",
       "      <td>0</td>\n",
       "    </tr>\n",
       "    <tr>\n",
       "      <th>1</th>\n",
       "      <td>B</td>\n",
       "      <td>1</td>\n",
       "    </tr>\n",
       "    <tr>\n",
       "      <th>2</th>\n",
       "      <td>C</td>\n",
       "      <td>2</td>\n",
       "    </tr>\n",
       "    <tr>\n",
       "      <th>3</th>\n",
       "      <td>A</td>\n",
       "      <td>3</td>\n",
       "    </tr>\n",
       "    <tr>\n",
       "      <th>4</th>\n",
       "      <td>B</td>\n",
       "      <td>4</td>\n",
       "    </tr>\n",
       "    <tr>\n",
       "      <th>5</th>\n",
       "      <td>C</td>\n",
       "      <td>5</td>\n",
       "    </tr>\n",
       "  </tbody>\n",
       "</table>\n",
       "</div>"
      ],
      "text/plain": [
       "  key  data1\n",
       "0   A      0\n",
       "1   B      1\n",
       "2   C      2\n",
       "3   A      3\n",
       "4   B      4\n",
       "5   C      5"
      ]
     },
     "execution_count": 68,
     "metadata": {},
     "output_type": "execute_result"
    }
   ],
   "source": [
    "df[['key','data1']]"
   ]
  },
  {
   "cell_type": "code",
   "execution_count": null,
   "metadata": {},
   "outputs": [],
   "source": []
  }
 ],
 "metadata": {
  "kernelspec": {
   "display_name": "env-teaching",
   "language": "python",
   "name": "python3"
  },
  "language_info": {
   "codemirror_mode": {
    "name": "ipython",
    "version": 3
   },
   "file_extension": ".py",
   "mimetype": "text/x-python",
   "name": "python",
   "nbconvert_exporter": "python",
   "pygments_lexer": "ipython3",
   "version": "3.11.7"
  }
 },
 "nbformat": 4,
 "nbformat_minor": 2
}
