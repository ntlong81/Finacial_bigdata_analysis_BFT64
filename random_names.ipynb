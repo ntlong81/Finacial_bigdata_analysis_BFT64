{
 "cells": [
  {
   "cell_type": "code",
   "execution_count": 1,
   "metadata": {},
   "outputs": [
    {
     "data": {
      "text/plain": [
       "'Bùi Diệp   Anh\\nBùi Phương   Anh\\nBùi Tuấn   Anh\\nNgô Tuấn   Anh\\nNguyễn Châu   Anh\\nNguyễn Đức   Anh\\nĐinh Gia   Bảo\\nHoàng Nguyên   Bảo\\nLê Vũ Thiên   Cầm\\nĐặng Thị Linh   Chi\\nNguyễn Đức   Chiến\\nTrần Duy   Chiến\\nNguyễn Vũ   Cường\\nĐỗ Phương Dung\\nBùi Hải   Đăng\\nLê Mạnh   Đức\\nNguyễn Vân   Giang\\nNguyễn Hồng   Hải\\nĐặng Danh   Hào\\nPhùng Thế   Hiển \\nLê Trọng   Hiệp\\nMai Nguyễn Huy   Hoàng\\nNguyễn Nhật   Hồng\\nĐào Trọng   Hưng\\nLương Quang   Huy\\nĐặng Minh   Khuê\\nNguyễn Thị Minh   Khuê \\nLê Trung   Kiên\\nTrịnh Duy   Kiên\\nTrần Thế   Kiệt\\nBùi Tuấn   Lâm\\nVũ Thị   Lê\\nBùi Diệu   Linh \\nChu Thùy   Linh\\nĐinh Diệu   Linh\\nHoàng Mai   Linh\\nLê Ngọc   Linh \\nMai Khánh   Linh \\nNguyễn Hoàng Khánh   Linh\\nLê Ngọc   Mai \\nPhí Đình   Mạnh\\nLều Ngọc   Minh\\nNguyên Lê Anh   Minh\\nTrần Lê   Minh\\nĐỗ Sơn   Nam \\nPhạm Tâm   Ngân\\nLương Thị Hồng   Ngọc\\nLê Hồng   Nhung\\nLê Duy   Phương\\nPhạm Đức   Quân \\nBùi Bảo   Quang \\nVõ Đăng   Quang\\nNguyễn Thi Hải   Quyên\\nNguyễn Thị Như   Quỳnh\\nPhạm Thị   Thảo\\nViên Đình   Thông\\nLê Thị Thanh   Thủy\\nPhùng Thu   Trang \\nTrần Quỳnh   Trang\\nTạ Quốc   Trung\\nNguyễn Xuân   Trường\\nHoàng Duy   Tùng\\nPhạm Quốc   Việt\\n'"
      ]
     },
     "execution_count": 1,
     "metadata": {},
     "output_type": "execute_result"
    }
   ],
   "source": [
    "names_str =\"\"\"Bùi Diệp   Anh\n",
    "Bùi Phương   Anh\n",
    "Bùi Tuấn   Anh\n",
    "Ngô Tuấn   Anh\n",
    "Nguyễn Châu   Anh\n",
    "Nguyễn Đức   Anh\n",
    "Đinh Gia   Bảo\n",
    "Hoàng Nguyên   Bảo\n",
    "Lê Vũ Thiên   Cầm\n",
    "Đặng Thị Linh   Chi\n",
    "Nguyễn Đức   Chiến\n",
    "Trần Duy   Chiến\n",
    "Nguyễn Vũ   Cường\n",
    "Đỗ Phương Dung\n",
    "Bùi Hải   Đăng\n",
    "Lê Mạnh   Đức\n",
    "Nguyễn Vân   Giang\n",
    "Nguyễn Hồng   Hải\n",
    "Đặng Danh   Hào\n",
    "Phùng Thế   Hiển \n",
    "Lê Trọng   Hiệp\n",
    "Mai Nguyễn Huy   Hoàng\n",
    "Nguyễn Nhật   Hồng\n",
    "Đào Trọng   Hưng\n",
    "Lương Quang   Huy\n",
    "Đặng Minh   Khuê\n",
    "Nguyễn Thị Minh   Khuê \n",
    "Lê Trung   Kiên\n",
    "Trịnh Duy   Kiên\n",
    "Trần Thế   Kiệt\n",
    "Bùi Tuấn   Lâm\n",
    "Vũ Thị   Lê\n",
    "Bùi Diệu   Linh \n",
    "Chu Thùy   Linh\n",
    "Đinh Diệu   Linh\n",
    "Hoàng Mai   Linh\n",
    "Lê Ngọc   Linh \n",
    "Mai Khánh   Linh \n",
    "Nguyễn Hoàng Khánh   Linh\n",
    "Lê Ngọc   Mai \n",
    "Phí Đình   Mạnh\n",
    "Lều Ngọc   Minh\n",
    "Nguyên Lê Anh   Minh\n",
    "Trần Lê   Minh\n",
    "Đỗ Sơn   Nam \n",
    "Phạm Tâm   Ngân\n",
    "Lương Thị Hồng   Ngọc\n",
    "Lê Hồng   Nhung\n",
    "Lê Duy   Phương\n",
    "Phạm Đức   Quân \n",
    "Bùi Bảo   Quang \n",
    "Võ Đăng   Quang\n",
    "Nguyễn Thi Hải   Quyên\n",
    "Nguyễn Thị Như   Quỳnh\n",
    "Phạm Thị   Thảo\n",
    "Viên Đình   Thông\n",
    "Lê Thị Thanh   Thủy\n",
    "Phùng Thu   Trang \n",
    "Trần Quỳnh   Trang\n",
    "Tạ Quốc   Trung\n",
    "Nguyễn Xuân   Trường\n",
    "Hoàng Duy   Tùng\n",
    "Phạm Quốc   Việt\n",
    "\"\"\"\n",
    "names_str"
   ]
  },
  {
   "cell_type": "code",
   "execution_count": 2,
   "metadata": {},
   "outputs": [
    {
     "name": "stdout",
     "output_type": "stream",
     "text": [
      "['Bùi Diệp   Anh', 'Bùi Phương   Anh', 'Bùi Tuấn   Anh', 'Ngô Tuấn   Anh', 'Nguyễn Châu   Anh', 'Nguyễn Đức   Anh', 'Đinh Gia   Bảo', 'Hoàng Nguyên   Bảo', 'Lê Vũ Thiên   Cầm', 'Đặng Thị Linh   Chi', 'Nguyễn Đức   Chiến', 'Trần Duy   Chiến', 'Nguyễn Vũ   Cường', 'Đỗ Phương Dung', 'Bùi Hải   Đăng', 'Lê Mạnh   Đức', 'Nguyễn Vân   Giang', 'Nguyễn Hồng   Hải', 'Đặng Danh   Hào', 'Phùng Thế   Hiển ', 'Lê Trọng   Hiệp', 'Mai Nguyễn Huy   Hoàng', 'Nguyễn Nhật   Hồng', 'Đào Trọng   Hưng', 'Lương Quang   Huy', 'Đặng Minh   Khuê', 'Nguyễn Thị Minh   Khuê ', 'Lê Trung   Kiên', 'Trịnh Duy   Kiên', 'Trần Thế   Kiệt', 'Bùi Tuấn   Lâm', 'Vũ Thị   Lê', 'Bùi Diệu   Linh ', 'Chu Thùy   Linh', 'Đinh Diệu   Linh', 'Hoàng Mai   Linh', 'Lê Ngọc   Linh ', 'Mai Khánh   Linh ', 'Nguyễn Hoàng Khánh   Linh', 'Lê Ngọc   Mai ', 'Phí Đình   Mạnh', 'Lều Ngọc   Minh', 'Nguyên Lê Anh   Minh', 'Trần Lê   Minh', 'Đỗ Sơn   Nam ', 'Phạm Tâm   Ngân', 'Lương Thị Hồng   Ngọc', 'Lê Hồng   Nhung', 'Lê Duy   Phương', 'Phạm Đức   Quân ', 'Bùi Bảo   Quang ', 'Võ Đăng   Quang', 'Nguyễn Thi Hải   Quyên', 'Nguyễn Thị Như   Quỳnh', 'Phạm Thị   Thảo', 'Viên Đình   Thông', 'Lê Thị Thanh   Thủy', 'Phùng Thu   Trang ', 'Trần Quỳnh   Trang', 'Tạ Quốc   Trung', 'Nguyễn Xuân   Trường', 'Hoàng Duy   Tùng', 'Phạm Quốc   Việt']\n"
     ]
    }
   ],
   "source": [
    "names = names_str.splitlines()\n",
    "print(names)"
   ]
  },
  {
   "cell_type": "code",
   "execution_count": 7,
   "metadata": {},
   "outputs": [
    {
     "data": {
      "text/plain": [
       "'Lê Hồng   Nhung'"
      ]
     },
     "execution_count": 7,
     "metadata": {},
     "output_type": "execute_result"
    }
   ],
   "source": [
    "import random\n",
    "random.choice(names)"
   ]
  },
  {
   "cell_type": "code",
   "execution_count": null,
   "metadata": {},
   "outputs": [],
   "source": []
  }
 ],
 "metadata": {
  "kernelspec": {
   "display_name": "env-teaching",
   "language": "python",
   "name": "python3"
  },
  "language_info": {
   "codemirror_mode": {
    "name": "ipython",
    "version": 3
   },
   "file_extension": ".py",
   "mimetype": "text/x-python",
   "name": "python",
   "nbconvert_exporter": "python",
   "pygments_lexer": "ipython3",
   "version": "3.11.7"
  }
 },
 "nbformat": 4,
 "nbformat_minor": 2
}
