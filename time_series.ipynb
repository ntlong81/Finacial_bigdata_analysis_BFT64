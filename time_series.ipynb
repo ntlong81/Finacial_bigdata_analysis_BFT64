{
 "cells": [
  {
   "cell_type": "markdown",
   "id": "fbe35ccc",
   "metadata": {},
   "source": [
    "\n",
    "# 📈 Time Series Analysis with Pandas, Matplotlib, and Seaborn\n",
    "\n",
    "---\n",
    "\n",
    "## 🔽 1. Download Data from Yahoo Finance\n",
    "\n",
    "### 🧠 Theory\n",
    "Yahoo Finance is a popular source for financial data. The `yfinance` library allows fast downloading of stock prices, including: Open, High, Low, Close, Volume, Adjusted Close.\n",
    "\n",
    "### 💻 Code\n",
    "```python\n",
    "import yfinance as yf\n",
    "aapl = yf.download('AAPL', start='2020-01-01')\n",
    "```\n"
   ]
  },
  {
   "cell_type": "code",
   "execution_count": 1,
   "id": "fc902afe",
   "metadata": {},
   "outputs": [],
   "source": [
    "#Copy code here and customize"
   ]
  },
  {
   "cell_type": "markdown",
   "id": "4611b4f1",
   "metadata": {},
   "source": [
    "\n",
    "---\n",
    "\n",
    "## 🧹 2. Time Series Handling with Pandas\n",
    "\n",
    "### 🧠 Theory\n",
    "Extracting **year, month, week, weekday** components helps in seasonal and trend analysis. Pandas provides strong support for handling `DatetimeIndex`.\n",
    "\n",
    "### 💻 Code\n",
    "```python\n",
    "import pandas as pd\n",
    "\n",
    "aapl.index = pd.to_datetime(aapl.index)\n",
    "aapl['year'] = aapl.index.year\n",
    "aapl['month'] = aapl.index.month\n",
    "aapl['week'] = aapl.index.isocalendar().week\n",
    "aapl['weekday'] = aapl.index.dayofweek\n",
    "```\n"
   ]
  },
  {
   "cell_type": "code",
   "execution_count": 2,
   "id": "22922145",
   "metadata": {},
   "outputs": [],
   "source": [
    "#Copy code here and customize"
   ]
  },
  {
   "cell_type": "markdown",
   "id": "6ba4349e",
   "metadata": {},
   "source": [
    "\n",
    "---\n",
    "\n",
    "## 📉 3. Basic Visualization\n",
    "\n",
    "### 🧠 Theory\n",
    "Line plots are commonly used to show time-based changes. Helps identify overall trends and sudden spikes.\n",
    "\n",
    "### 💻 Code\n",
    "```python\n",
    "import matplotlib.pyplot as plt\n",
    "\n",
    "aapl['Close'].plot(figsize=(14, 6))\n",
    "plt.title('AAPL Closing Price')\n",
    "plt.ylabel('USD')\n",
    "plt.xlabel('Date')\n",
    "plt.grid(True)\n",
    "plt.show()\n",
    "```\n"
   ]
  },
  {
   "cell_type": "code",
   "execution_count": 3,
   "id": "2c8117bd",
   "metadata": {},
   "outputs": [],
   "source": [
    "#Copy code here and customize"
   ]
  },
  {
   "cell_type": "markdown",
   "id": "fe025990",
   "metadata": {},
   "source": [
    "\n",
    "---\n",
    "\n",
    "## 🟩 4. Moving Average\n",
    "\n",
    "### 🧠 Theory\n",
    "Moving averages smooth the data, revealing long-term trends. Commonly used: MA 7, MA 30, MA 200.\n",
    "\n",
    "### 💻 Code\n",
    "```python\n",
    "aapl['MA_30'] = aapl['Close'].rolling(window=30).mean()\n",
    "\n",
    "aapl[['Close', 'MA_30']].plot(figsize=(14, 6))\n",
    "plt.title('AAPL Close Price and 30-Day Moving Average')\n",
    "plt.legend()\n",
    "plt.show()\n",
    "```\n"
   ]
  },
  {
   "cell_type": "code",
   "execution_count": 4,
   "id": "ef48bd27",
   "metadata": {},
   "outputs": [],
   "source": [
    "#Copy code here and customize"
   ]
  },
  {
   "cell_type": "markdown",
   "id": "d1dad1d1",
   "metadata": {},
   "source": [
    "\n",
    "---\n",
    "\n",
    "## 🟨 5. Resampling (Aggregating by Time Period)\n",
    "\n",
    "### 🧠 Theory\n",
    "Resampling aggregates data from daily → weekly → monthly. Helps in analyzing without noise from daily fluctuations.\n",
    "\n",
    "### 💻 Code\n",
    "```python\n",
    "monthly_avg = aapl['Close'].resample('M').mean()\n",
    "\n",
    "monthly_avg.plot(marker='o', figsize=(14, 6))\n",
    "plt.title('Monthly Average Closing Price (AAPL)')\n",
    "plt.grid(True)\n",
    "plt.show()\n",
    "```\n"
   ]
  },
  {
   "cell_type": "code",
   "execution_count": 5,
   "id": "e9ab4874",
   "metadata": {},
   "outputs": [],
   "source": [
    "#Copy code here and customize"
   ]
  },
  {
   "cell_type": "markdown",
   "id": "a3602a2a",
   "metadata": {},
   "source": [
    "\n",
    "---\n",
    "\n",
    "## 📊 6. Month-Year Heatmap\n",
    "\n",
    "### 🧠 Theory\n",
    "Heatmaps provide a visual overview of **average values** by month and year, making it easy to spot highs/lows.\n",
    "\n",
    "### 💻 Code\n",
    "```python\n",
    "import seaborn as sns\n",
    "\n",
    "aapl['Close_mean'] = aapl['Close']\n",
    "pivot = aapl.pivot_table(values='Close_mean', index='year', columns='month', aggfunc='mean')\n",
    "\n",
    "plt.figure(figsize=(12, 6))\n",
    "sns.heatmap(pivot, annot=True, fmt='.0f', cmap='YlGnBu')\n",
    "plt.title('Monthly Average Price Heatmap - AAPL')\n",
    "plt.xlabel('Month')\n",
    "plt.ylabel('Year')\n",
    "plt.show()\n",
    "```\n"
   ]
  },
  {
   "cell_type": "code",
   "execution_count": 6,
   "id": "5c8ecb4c",
   "metadata": {},
   "outputs": [],
   "source": [
    "#Copy code here and customize"
   ]
  },
  {
   "cell_type": "markdown",
   "id": "77182c4f",
   "metadata": {},
   "source": [
    "\n",
    "---\n",
    "\n",
    "## 📦 7. Monthly Boxplot\n",
    "\n",
    "### 🧠 Theory\n",
    "Boxplots show data distribution (median, quartiles, outliers). Useful to observe price volatility in each month.\n",
    "\n",
    "### 💻 Code\n",
    "```python\n",
    "sns.boxplot(x='month', y='Close', data=aapl)\n",
    "plt.title('Monthly Price Distribution (AAPL)')\n",
    "plt.xlabel('Month')\n",
    "plt.ylabel('Closing Price')\n",
    "plt.show()\n",
    "```\n"
   ]
  },
  {
   "cell_type": "code",
   "execution_count": 7,
   "id": "829052f8",
   "metadata": {},
   "outputs": [],
   "source": [
    "#Copy code here and customize"
   ]
  },
  {
   "cell_type": "markdown",
   "id": "8732cbdc",
   "metadata": {},
   "source": [
    "\n",
    "---\n",
    "\n",
    "## 📈 8. Decompose Trend & Seasonality\n",
    "\n",
    "### 🧠 Theory\n",
    "A time series = **Trend + Seasonality + Noise**.  \n",
    "Decomposing helps to understand which factors influence the data.\n",
    "\n",
    "### 💻 Code\n",
    "```python\n",
    "from statsmodels.tsa.seasonal import seasonal_decompose\n",
    "\n",
    "result = seasonal_decompose(aapl['Close'], model='additive', period=30)\n",
    "result.plot()\n",
    "plt.suptitle('Trend and Seasonality Decomposition - AAPL', fontsize=16)\n",
    "plt.show()\n",
    "```\n"
   ]
  },
  {
   "cell_type": "code",
   "execution_count": 8,
   "id": "4fc2baf1",
   "metadata": {},
   "outputs": [],
   "source": [
    "#Copy code here and customize"
   ]
  },
  {
   "cell_type": "markdown",
   "id": "5dc80ae8",
   "metadata": {},
   "source": [
    "\n",
    "---\n",
    "\n",
    "## ✅ Summary\n",
    "\n",
    "| Technique              | Main Purpose                                  |\n",
    "|------------------------|-----------------------------------------------|\n",
    "| Extract time features  | Seasonal, fiscal year analysis                |\n",
    "| Moving Average         | Smooth data, highlight long-term trends       |\n",
    "| Resampling             | Aggregate to larger cycles                    |\n",
    "| Heatmap/Boxplot        | Visualize distribution and volatility         |\n",
    "| Decomposition          | Understand structure of the time series       |\n"
   ]
  }
 ],
 "metadata": {
  "kernelspec": {
   "display_name": "base",
   "language": "python",
   "name": "python3"
  },
  "language_info": {
   "codemirror_mode": {
    "name": "ipython",
    "version": 3
   },
   "file_extension": ".py",
   "mimetype": "text/x-python",
   "name": "python",
   "nbconvert_exporter": "python",
   "pygments_lexer": "ipython3",
   "version": "3.11.7"
  }
 },
 "nbformat": 4,
 "nbformat_minor": 5
}
