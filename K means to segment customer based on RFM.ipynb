{
 "cells": [
  {
   "cell_type": "markdown",
   "metadata": {},
   "source": [
    "## K-means to segment customer based on RFM"
   ]
  },
  {
   "cell_type": "code",
   "execution_count": 2,
   "metadata": {},
   "outputs": [],
   "source": [
    "import numpy as np\n",
    "import pandas as pd\n",
    "import matplotlib.pyplot as plt"
   ]
  },
  {
   "cell_type": "markdown",
   "metadata": {},
   "source": [
    "### 1. **Thu thập và tiền xử lý dữ liệu**\n",
    "   - **Task 1.1:** Thu thập dữ liệu khách hàng.\n",
    "     - **Gợi ý:** Đọc dữ liệu từ file CSV.\n",
    "     ```python\n",
    "     import pandas as pd\n",
    "\n",
    "     df = pd.read_csv('OnlineRetail.csv')\n",
    "     ```\n"
   ]
  },
  {
   "cell_type": "code",
   "execution_count": 3,
   "metadata": {},
   "outputs": [
    {
     "name": "stdout",
     "output_type": "stream",
     "text": [
      "<class 'pandas.core.frame.DataFrame'>\n",
      "RangeIndex: 203422 entries, 0 to 203421\n",
      "Data columns (total 8 columns):\n",
      " #   Column       Non-Null Count   Dtype  \n",
      "---  ------       --------------   -----  \n",
      " 0   InvoiceNo    203422 non-null  object \n",
      " 1   StockCode    203422 non-null  object \n",
      " 2   Description  202623 non-null  object \n",
      " 3   Quantity     203422 non-null  int64  \n",
      " 4   InvoiceDate  203422 non-null  object \n",
      " 5   UnitPrice    203422 non-null  float64\n",
      " 6   CustomerID   150039 non-null  float64\n",
      " 7   Country      203422 non-null  object \n",
      "dtypes: float64(2), int64(1), object(5)\n",
      "memory usage: 12.4+ MB\n"
     ]
    }
   ],
   "source": [
    "path = \"D:\\OneDrive - National Economics University\\Day hoc\\Tiếng Anh\\Data prepare and visualization\\Projects\"\n",
    "df = pd.read_csv(path+'/OnlineRetail.csv')\n",
    "df.info()"
   ]
  },
  {
   "cell_type": "code",
   "execution_count": 4,
   "metadata": {},
   "outputs": [
    {
     "data": {
      "text/html": [
       "<div>\n",
       "<style scoped>\n",
       "    .dataframe tbody tr th:only-of-type {\n",
       "        vertical-align: middle;\n",
       "    }\n",
       "\n",
       "    .dataframe tbody tr th {\n",
       "        vertical-align: top;\n",
       "    }\n",
       "\n",
       "    .dataframe thead th {\n",
       "        text-align: right;\n",
       "    }\n",
       "</style>\n",
       "<table border=\"1\" class=\"dataframe\">\n",
       "  <thead>\n",
       "    <tr style=\"text-align: right;\">\n",
       "      <th></th>\n",
       "      <th>InvoiceNo</th>\n",
       "      <th>StockCode</th>\n",
       "      <th>Description</th>\n",
       "      <th>Quantity</th>\n",
       "      <th>InvoiceDate</th>\n",
       "      <th>UnitPrice</th>\n",
       "      <th>CustomerID</th>\n",
       "      <th>Country</th>\n",
       "    </tr>\n",
       "  </thead>\n",
       "  <tbody>\n",
       "    <tr>\n",
       "      <th>0</th>\n",
       "      <td>539993</td>\n",
       "      <td>22386</td>\n",
       "      <td>JUMBO BAG PINK POLKADOT</td>\n",
       "      <td>10</td>\n",
       "      <td>2011-01-04 10:00:00</td>\n",
       "      <td>1.95</td>\n",
       "      <td>13313.0</td>\n",
       "      <td>United Kingdom</td>\n",
       "    </tr>\n",
       "    <tr>\n",
       "      <th>1</th>\n",
       "      <td>539993</td>\n",
       "      <td>21499</td>\n",
       "      <td>BLUE POLKADOT WRAP</td>\n",
       "      <td>25</td>\n",
       "      <td>2011-01-04 10:00:00</td>\n",
       "      <td>0.42</td>\n",
       "      <td>13313.0</td>\n",
       "      <td>United Kingdom</td>\n",
       "    </tr>\n",
       "    <tr>\n",
       "      <th>2</th>\n",
       "      <td>539993</td>\n",
       "      <td>21498</td>\n",
       "      <td>RED RETROSPOT WRAP</td>\n",
       "      <td>25</td>\n",
       "      <td>2011-01-04 10:00:00</td>\n",
       "      <td>0.42</td>\n",
       "      <td>13313.0</td>\n",
       "      <td>United Kingdom</td>\n",
       "    </tr>\n",
       "    <tr>\n",
       "      <th>3</th>\n",
       "      <td>539993</td>\n",
       "      <td>22379</td>\n",
       "      <td>RECYCLING BAG RETROSPOT</td>\n",
       "      <td>5</td>\n",
       "      <td>2011-01-04 10:00:00</td>\n",
       "      <td>2.10</td>\n",
       "      <td>13313.0</td>\n",
       "      <td>United Kingdom</td>\n",
       "    </tr>\n",
       "    <tr>\n",
       "      <th>4</th>\n",
       "      <td>539993</td>\n",
       "      <td>20718</td>\n",
       "      <td>RED RETROSPOT SHOPPER BAG</td>\n",
       "      <td>10</td>\n",
       "      <td>2011-01-04 10:00:00</td>\n",
       "      <td>1.25</td>\n",
       "      <td>13313.0</td>\n",
       "      <td>United Kingdom</td>\n",
       "    </tr>\n",
       "  </tbody>\n",
       "</table>\n",
       "</div>"
      ],
      "text/plain": [
       "  InvoiceNo StockCode                Description  Quantity  \\\n",
       "0    539993     22386    JUMBO BAG PINK POLKADOT        10   \n",
       "1    539993     21499         BLUE POLKADOT WRAP        25   \n",
       "2    539993     21498        RED RETROSPOT WRAP         25   \n",
       "3    539993     22379   RECYCLING BAG RETROSPOT          5   \n",
       "4    539993     20718  RED RETROSPOT SHOPPER BAG        10   \n",
       "\n",
       "           InvoiceDate  UnitPrice  CustomerID         Country  \n",
       "0  2011-01-04 10:00:00       1.95     13313.0  United Kingdom  \n",
       "1  2011-01-04 10:00:00       0.42     13313.0  United Kingdom  \n",
       "2  2011-01-04 10:00:00       0.42     13313.0  United Kingdom  \n",
       "3  2011-01-04 10:00:00       2.10     13313.0  United Kingdom  \n",
       "4  2011-01-04 10:00:00       1.25     13313.0  United Kingdom  "
      ]
     },
     "execution_count": 4,
     "metadata": {},
     "output_type": "execute_result"
    }
   ],
   "source": [
    "df.head()"
   ]
  },
  {
   "cell_type": "markdown",
   "metadata": {},
   "source": [
    "   - **Task 1.2:** Làm sạch dữ liệu.\n",
    "     - **Gợi ý:** Xử lý các giá trị thiếu, loại bỏ các bản ghi không hợp lệ.\n",
    "     ```python\n",
    "     df.dropna(inplace=True)  # Loại bỏ các hàng có giá trị thiếu\n",
    "     df = df[df['Price'] > 0]  # Loại bỏ các giao dịch có giá trị không hợp lệ\n"
   ]
  },
  {
   "cell_type": "code",
   "execution_count": 5,
   "metadata": {},
   "outputs": [
    {
     "data": {
      "text/plain": [
       "Index(['InvoiceNo', 'StockCode', 'Description', 'Quantity', 'InvoiceDate',\n",
       "       'UnitPrice', 'CustomerID', 'Country'],\n",
       "      dtype='object')"
      ]
     },
     "execution_count": 5,
     "metadata": {},
     "output_type": "execute_result"
    }
   ],
   "source": [
    "df.columns"
   ]
  },
  {
   "cell_type": "code",
   "execution_count": 6,
   "metadata": {},
   "outputs": [],
   "source": [
    "features = ['CustomerID','InvoiceDate','Quantity','UnitPrice']"
   ]
  },
  {
   "cell_type": "code",
   "execution_count": 7,
   "metadata": {},
   "outputs": [
    {
     "name": "stdout",
     "output_type": "stream",
     "text": [
      "<class 'pandas.core.frame.DataFrame'>\n",
      "Index: 146478 entries, 0 to 203421\n",
      "Data columns (total 4 columns):\n",
      " #   Column       Non-Null Count   Dtype  \n",
      "---  ------       --------------   -----  \n",
      " 0   CustomerID   146478 non-null  float64\n",
      " 1   InvoiceDate  146478 non-null  object \n",
      " 2   Quantity     146478 non-null  int64  \n",
      " 3   UnitPrice    146478 non-null  float64\n",
      "dtypes: float64(2), int64(1), object(1)\n",
      "memory usage: 5.6+ MB\n"
     ]
    }
   ],
   "source": [
    "df.dropna(inplace=True)\n",
    "df = df[df.Quantity > 0]\n",
    "df = df[df.UnitPrice > 0]\n",
    "#df = df[df['Country'] =='United Kingdom']\n",
    "df = df[features]\n",
    "df.info()"
   ]
  },
  {
   "cell_type": "markdown",
   "metadata": {},
   "source": [
    "   - **Task 1.3:** Chuẩn hóa và định dạng lại dữ liệu.\n",
    "     - **Gợi ý:** Đảm bảo cột thời gian ở định dạng datetime.\n",
    "     ```python\n",
    "     df['InvoiceDate'] = pd.to_datetime(df['InvoiceDate'])\n",
    "     ```\n",
    "\n"
   ]
  },
  {
   "cell_type": "code",
   "execution_count": 8,
   "metadata": {},
   "outputs": [],
   "source": [
    "df['InvoiceDate'] = pd.to_datetime(df['InvoiceDate'])"
   ]
  },
  {
   "cell_type": "markdown",
   "metadata": {},
   "source": [
    "### 2. **Tính toán các biến số RFM**\n",
    "   - **Task 2.1:** Tính toán Recency.\n",
    "     - **Gợi ý:** Tính số ngày kể từ giao dịch cuối cùng.\n",
    "     ```python\n",
    "     reference_date = df['InvoiceDate'].max()\n",
    "     df['Recency'] = (reference_date - df.groupby('CustomerID')['InvoiceDate'].max()).dt.days\n",
    "     ```\n"
   ]
  },
  {
   "cell_type": "code",
   "execution_count": 9,
   "metadata": {},
   "outputs": [
    {
     "data": {
      "text/plain": [
       "Timestamp('2011-06-30 20:08:00')"
      ]
     },
     "execution_count": 9,
     "metadata": {},
     "output_type": "execute_result"
    }
   ],
   "source": [
    "reference_date = df['InvoiceDate'].max()\n",
    "reference_date"
   ]
  },
  {
   "cell_type": "code",
   "execution_count": 10,
   "metadata": {},
   "outputs": [
    {
     "data": {
      "text/html": [
       "<div>\n",
       "<style scoped>\n",
       "    .dataframe tbody tr th:only-of-type {\n",
       "        vertical-align: middle;\n",
       "    }\n",
       "\n",
       "    .dataframe tbody tr th {\n",
       "        vertical-align: top;\n",
       "    }\n",
       "\n",
       "    .dataframe thead th {\n",
       "        text-align: right;\n",
       "    }\n",
       "</style>\n",
       "<table border=\"1\" class=\"dataframe\">\n",
       "  <thead>\n",
       "    <tr style=\"text-align: right;\">\n",
       "      <th></th>\n",
       "      <th>CustomerID</th>\n",
       "      <th>InvoiceDate</th>\n",
       "      <th>Quantity</th>\n",
       "      <th>UnitPrice</th>\n",
       "      <th>Recency</th>\n",
       "    </tr>\n",
       "  </thead>\n",
       "  <tbody>\n",
       "    <tr>\n",
       "      <th>0</th>\n",
       "      <td>13313.0</td>\n",
       "      <td>2011-01-04 10:00:00</td>\n",
       "      <td>10</td>\n",
       "      <td>1.95</td>\n",
       "      <td>177</td>\n",
       "    </tr>\n",
       "    <tr>\n",
       "      <th>1</th>\n",
       "      <td>13313.0</td>\n",
       "      <td>2011-01-04 10:00:00</td>\n",
       "      <td>25</td>\n",
       "      <td>0.42</td>\n",
       "      <td>177</td>\n",
       "    </tr>\n",
       "    <tr>\n",
       "      <th>2</th>\n",
       "      <td>13313.0</td>\n",
       "      <td>2011-01-04 10:00:00</td>\n",
       "      <td>25</td>\n",
       "      <td>0.42</td>\n",
       "      <td>177</td>\n",
       "    </tr>\n",
       "    <tr>\n",
       "      <th>3</th>\n",
       "      <td>13313.0</td>\n",
       "      <td>2011-01-04 10:00:00</td>\n",
       "      <td>5</td>\n",
       "      <td>2.10</td>\n",
       "      <td>177</td>\n",
       "    </tr>\n",
       "    <tr>\n",
       "      <th>4</th>\n",
       "      <td>13313.0</td>\n",
       "      <td>2011-01-04 10:00:00</td>\n",
       "      <td>10</td>\n",
       "      <td>1.25</td>\n",
       "      <td>177</td>\n",
       "    </tr>\n",
       "  </tbody>\n",
       "</table>\n",
       "</div>"
      ],
      "text/plain": [
       "   CustomerID         InvoiceDate  Quantity  UnitPrice  Recency\n",
       "0     13313.0 2011-01-04 10:00:00        10       1.95      177\n",
       "1     13313.0 2011-01-04 10:00:00        25       0.42      177\n",
       "2     13313.0 2011-01-04 10:00:00        25       0.42      177\n",
       "3     13313.0 2011-01-04 10:00:00         5       2.10      177\n",
       "4     13313.0 2011-01-04 10:00:00        10       1.25      177"
      ]
     },
     "execution_count": 10,
     "metadata": {},
     "output_type": "execute_result"
    }
   ],
   "source": [
    "df['Recency'] = (reference_date - df['InvoiceDate']).dt.days\n",
    "df.head()"
   ]
  },
  {
   "cell_type": "code",
   "execution_count": 11,
   "metadata": {},
   "outputs": [
    {
     "name": "stdout",
     "output_type": "stream",
     "text": [
      "<class 'pandas.core.frame.DataFrame'>\n",
      "Index: 146478 entries, 0 to 203421\n",
      "Data columns (total 5 columns):\n",
      " #   Column       Non-Null Count   Dtype         \n",
      "---  ------       --------------   -----         \n",
      " 0   CustomerID   146478 non-null  float64       \n",
      " 1   InvoiceDate  146478 non-null  datetime64[ns]\n",
      " 2   Quantity     146478 non-null  int64         \n",
      " 3   UnitPrice    146478 non-null  float64       \n",
      " 4   Recency      146478 non-null  int64         \n",
      "dtypes: datetime64[ns](1), float64(2), int64(2)\n",
      "memory usage: 6.7 MB\n"
     ]
    }
   ],
   "source": [
    "df.info()"
   ]
  },
  {
   "cell_type": "markdown",
   "metadata": {},
   "source": [
    "   - **Task 2.2:** Tính toán Monetary.\n",
    "     - **Gợi ý:** Tính tổng số tiền mà mỗi khách hàng đã chi tiêu.\n",
    "     ```python\n",
    "     df['Monetary'] = df['Quantity'] * df['Price']\n",
    "     rfm = df.groupby('CustomerID').agg({\n",
    "         'Recency': 'min',\n",
    "         'Frequency': 'max',\n",
    "         'Monetary': 'sum'\n",
    "     }).reset_index()\n",
    "     ```\n"
   ]
  },
  {
   "cell_type": "code",
   "execution_count": 12,
   "metadata": {},
   "outputs": [
    {
     "data": {
      "text/html": [
       "<div>\n",
       "<style scoped>\n",
       "    .dataframe tbody tr th:only-of-type {\n",
       "        vertical-align: middle;\n",
       "    }\n",
       "\n",
       "    .dataframe tbody tr th {\n",
       "        vertical-align: top;\n",
       "    }\n",
       "\n",
       "    .dataframe thead th {\n",
       "        text-align: right;\n",
       "    }\n",
       "</style>\n",
       "<table border=\"1\" class=\"dataframe\">\n",
       "  <thead>\n",
       "    <tr style=\"text-align: right;\">\n",
       "      <th></th>\n",
       "      <th>CustomerID</th>\n",
       "      <th>InvoiceDate</th>\n",
       "      <th>Quantity</th>\n",
       "      <th>UnitPrice</th>\n",
       "      <th>Recency</th>\n",
       "      <th>Monetary</th>\n",
       "    </tr>\n",
       "  </thead>\n",
       "  <tbody>\n",
       "    <tr>\n",
       "      <th>0</th>\n",
       "      <td>13313.0</td>\n",
       "      <td>2011-01-04 10:00:00</td>\n",
       "      <td>10</td>\n",
       "      <td>1.95</td>\n",
       "      <td>177</td>\n",
       "      <td>19.5</td>\n",
       "    </tr>\n",
       "    <tr>\n",
       "      <th>1</th>\n",
       "      <td>13313.0</td>\n",
       "      <td>2011-01-04 10:00:00</td>\n",
       "      <td>25</td>\n",
       "      <td>0.42</td>\n",
       "      <td>177</td>\n",
       "      <td>10.5</td>\n",
       "    </tr>\n",
       "    <tr>\n",
       "      <th>2</th>\n",
       "      <td>13313.0</td>\n",
       "      <td>2011-01-04 10:00:00</td>\n",
       "      <td>25</td>\n",
       "      <td>0.42</td>\n",
       "      <td>177</td>\n",
       "      <td>10.5</td>\n",
       "    </tr>\n",
       "    <tr>\n",
       "      <th>3</th>\n",
       "      <td>13313.0</td>\n",
       "      <td>2011-01-04 10:00:00</td>\n",
       "      <td>5</td>\n",
       "      <td>2.10</td>\n",
       "      <td>177</td>\n",
       "      <td>10.5</td>\n",
       "    </tr>\n",
       "    <tr>\n",
       "      <th>4</th>\n",
       "      <td>13313.0</td>\n",
       "      <td>2011-01-04 10:00:00</td>\n",
       "      <td>10</td>\n",
       "      <td>1.25</td>\n",
       "      <td>177</td>\n",
       "      <td>12.5</td>\n",
       "    </tr>\n",
       "  </tbody>\n",
       "</table>\n",
       "</div>"
      ],
      "text/plain": [
       "   CustomerID         InvoiceDate  Quantity  UnitPrice  Recency  Monetary\n",
       "0     13313.0 2011-01-04 10:00:00        10       1.95      177      19.5\n",
       "1     13313.0 2011-01-04 10:00:00        25       0.42      177      10.5\n",
       "2     13313.0 2011-01-04 10:00:00        25       0.42      177      10.5\n",
       "3     13313.0 2011-01-04 10:00:00         5       2.10      177      10.5\n",
       "4     13313.0 2011-01-04 10:00:00        10       1.25      177      12.5"
      ]
     },
     "execution_count": 12,
     "metadata": {},
     "output_type": "execute_result"
    }
   ],
   "source": [
    "df['Monetary'] = df['UnitPrice']*df[\"Quantity\"]\n",
    "df.head()"
   ]
  },
  {
   "cell_type": "code",
   "execution_count": 13,
   "metadata": {},
   "outputs": [
    {
     "name": "stdout",
     "output_type": "stream",
     "text": [
      "<class 'pandas.core.frame.DataFrame'>\n",
      "Index: 2724 entries, 12346.0 to 18287.0\n",
      "Data columns (total 2 columns):\n",
      " #   Column    Non-Null Count  Dtype  \n",
      "---  ------    --------------  -----  \n",
      " 0   Recency   2724 non-null   int64  \n",
      " 1   Monetary  2724 non-null   float64\n",
      "dtypes: float64(1), int64(1)\n",
      "memory usage: 63.8 KB\n"
     ]
    }
   ],
   "source": [
    "rm = df.groupby(\"CustomerID\")[['Recency','Monetary']].agg({'Recency':'min',\n",
    "                                                      \"Monetary\":'sum'})\n",
    "rm.info()"
   ]
  },
  {
   "cell_type": "markdown",
   "metadata": {},
   "source": [
    "   - **Task 2.3:** Tính toán Frequency.\n",
    "     - **Gợi ý:** Đếm số lượng giao dịch của mỗi khách hàng.\n",
    "     ```python\n",
    "     df['Frequency'] = df.groupby('CustomerID')['InvoiceNo'].transform('nunique')\n",
    "     ```\n"
   ]
  },
  {
   "cell_type": "code",
   "execution_count": 36,
   "metadata": {},
   "outputs": [
    {
     "data": {
      "text/html": [
       "<div>\n",
       "<style scoped>\n",
       "    .dataframe tbody tr th:only-of-type {\n",
       "        vertical-align: middle;\n",
       "    }\n",
       "\n",
       "    .dataframe tbody tr th {\n",
       "        vertical-align: top;\n",
       "    }\n",
       "\n",
       "    .dataframe thead th {\n",
       "        text-align: right;\n",
       "    }\n",
       "</style>\n",
       "<table border=\"1\" class=\"dataframe\">\n",
       "  <thead>\n",
       "    <tr style=\"text-align: right;\">\n",
       "      <th></th>\n",
       "      <th>CustomerID</th>\n",
       "    </tr>\n",
       "    <tr>\n",
       "      <th>CustomerID</th>\n",
       "      <th></th>\n",
       "    </tr>\n",
       "  </thead>\n",
       "  <tbody>\n",
       "    <tr>\n",
       "      <th>12346.0</th>\n",
       "      <td>1</td>\n",
       "    </tr>\n",
       "    <tr>\n",
       "      <th>12347.0</th>\n",
       "      <td>71</td>\n",
       "    </tr>\n",
       "    <tr>\n",
       "      <th>12348.0</th>\n",
       "      <td>11</td>\n",
       "    </tr>\n",
       "    <tr>\n",
       "      <th>12350.0</th>\n",
       "      <td>17</td>\n",
       "    </tr>\n",
       "    <tr>\n",
       "      <th>12352.0</th>\n",
       "      <td>38</td>\n",
       "    </tr>\n",
       "    <tr>\n",
       "      <th>...</th>\n",
       "      <td>...</td>\n",
       "    </tr>\n",
       "    <tr>\n",
       "      <th>18273.0</th>\n",
       "      <td>1</td>\n",
       "    </tr>\n",
       "    <tr>\n",
       "      <th>18280.0</th>\n",
       "      <td>10</td>\n",
       "    </tr>\n",
       "    <tr>\n",
       "      <th>18281.0</th>\n",
       "      <td>7</td>\n",
       "    </tr>\n",
       "    <tr>\n",
       "      <th>18283.0</th>\n",
       "      <td>343</td>\n",
       "    </tr>\n",
       "    <tr>\n",
       "      <th>18287.0</th>\n",
       "      <td>29</td>\n",
       "    </tr>\n",
       "  </tbody>\n",
       "</table>\n",
       "<p>2724 rows × 1 columns</p>\n",
       "</div>"
      ],
      "text/plain": [
       "            CustomerID\n",
       "CustomerID            \n",
       "12346.0              1\n",
       "12347.0             71\n",
       "12348.0             11\n",
       "12350.0             17\n",
       "12352.0             38\n",
       "...                ...\n",
       "18273.0              1\n",
       "18280.0             10\n",
       "18281.0              7\n",
       "18283.0            343\n",
       "18287.0             29\n",
       "\n",
       "[2724 rows x 1 columns]"
      ]
     },
     "execution_count": 36,
     "metadata": {},
     "output_type": "execute_result"
    }
   ],
   "source": [
    "f = df.groupby(\"CustomerID\")['CustomerID'].count()\n",
    "f = pd.DataFrame(f)\n",
    "f "
   ]
  },
  {
   "cell_type": "code",
   "execution_count": 38,
   "metadata": {},
   "outputs": [
    {
     "data": {
      "text/html": [
       "<div>\n",
       "<style scoped>\n",
       "    .dataframe tbody tr th:only-of-type {\n",
       "        vertical-align: middle;\n",
       "    }\n",
       "\n",
       "    .dataframe tbody tr th {\n",
       "        vertical-align: top;\n",
       "    }\n",
       "\n",
       "    .dataframe thead th {\n",
       "        text-align: right;\n",
       "    }\n",
       "</style>\n",
       "<table border=\"1\" class=\"dataframe\">\n",
       "  <thead>\n",
       "    <tr style=\"text-align: right;\">\n",
       "      <th></th>\n",
       "      <th>Frequency</th>\n",
       "    </tr>\n",
       "    <tr>\n",
       "      <th>CustomerID</th>\n",
       "      <th></th>\n",
       "    </tr>\n",
       "  </thead>\n",
       "  <tbody>\n",
       "    <tr>\n",
       "      <th>12346.0</th>\n",
       "      <td>1</td>\n",
       "    </tr>\n",
       "    <tr>\n",
       "      <th>12347.0</th>\n",
       "      <td>71</td>\n",
       "    </tr>\n",
       "    <tr>\n",
       "      <th>12348.0</th>\n",
       "      <td>11</td>\n",
       "    </tr>\n",
       "    <tr>\n",
       "      <th>12350.0</th>\n",
       "      <td>17</td>\n",
       "    </tr>\n",
       "    <tr>\n",
       "      <th>12352.0</th>\n",
       "      <td>38</td>\n",
       "    </tr>\n",
       "    <tr>\n",
       "      <th>...</th>\n",
       "      <td>...</td>\n",
       "    </tr>\n",
       "    <tr>\n",
       "      <th>18273.0</th>\n",
       "      <td>1</td>\n",
       "    </tr>\n",
       "    <tr>\n",
       "      <th>18280.0</th>\n",
       "      <td>10</td>\n",
       "    </tr>\n",
       "    <tr>\n",
       "      <th>18281.0</th>\n",
       "      <td>7</td>\n",
       "    </tr>\n",
       "    <tr>\n",
       "      <th>18283.0</th>\n",
       "      <td>343</td>\n",
       "    </tr>\n",
       "    <tr>\n",
       "      <th>18287.0</th>\n",
       "      <td>29</td>\n",
       "    </tr>\n",
       "  </tbody>\n",
       "</table>\n",
       "<p>2724 rows × 1 columns</p>\n",
       "</div>"
      ],
      "text/plain": [
       "            Frequency\n",
       "CustomerID           \n",
       "12346.0             1\n",
       "12347.0            71\n",
       "12348.0            11\n",
       "12350.0            17\n",
       "12352.0            38\n",
       "...               ...\n",
       "18273.0             1\n",
       "18280.0            10\n",
       "18281.0             7\n",
       "18283.0           343\n",
       "18287.0            29\n",
       "\n",
       "[2724 rows x 1 columns]"
      ]
     },
     "execution_count": 38,
     "metadata": {},
     "output_type": "execute_result"
    }
   ],
   "source": [
    "f.rename(columns={'CustomerID':\"Frequency\"}, inplace=True)\n",
    "f "
   ]
  },
  {
   "cell_type": "code",
   "execution_count": 40,
   "metadata": {},
   "outputs": [
    {
     "data": {
      "text/html": [
       "<div>\n",
       "<style scoped>\n",
       "    .dataframe tbody tr th:only-of-type {\n",
       "        vertical-align: middle;\n",
       "    }\n",
       "\n",
       "    .dataframe tbody tr th {\n",
       "        vertical-align: top;\n",
       "    }\n",
       "\n",
       "    .dataframe thead th {\n",
       "        text-align: right;\n",
       "    }\n",
       "</style>\n",
       "<table border=\"1\" class=\"dataframe\">\n",
       "  <thead>\n",
       "    <tr style=\"text-align: right;\">\n",
       "      <th></th>\n",
       "      <th>Recency</th>\n",
       "      <th>Monetary</th>\n",
       "      <th>Frequency</th>\n",
       "    </tr>\n",
       "    <tr>\n",
       "      <th>CustomerID</th>\n",
       "      <th></th>\n",
       "      <th></th>\n",
       "      <th></th>\n",
       "    </tr>\n",
       "  </thead>\n",
       "  <tbody>\n",
       "    <tr>\n",
       "      <th>12346.0</th>\n",
       "      <td>163</td>\n",
       "      <td>77183.60</td>\n",
       "      <td>1</td>\n",
       "    </tr>\n",
       "    <tr>\n",
       "      <th>12347.0</th>\n",
       "      <td>21</td>\n",
       "      <td>1494.16</td>\n",
       "      <td>71</td>\n",
       "    </tr>\n",
       "    <tr>\n",
       "      <th>12348.0</th>\n",
       "      <td>86</td>\n",
       "      <td>594.44</td>\n",
       "      <td>11</td>\n",
       "    </tr>\n",
       "    <tr>\n",
       "      <th>12350.0</th>\n",
       "      <td>148</td>\n",
       "      <td>334.40</td>\n",
       "      <td>17</td>\n",
       "    </tr>\n",
       "    <tr>\n",
       "      <th>12352.0</th>\n",
       "      <td>100</td>\n",
       "      <td>1561.81</td>\n",
       "      <td>38</td>\n",
       "    </tr>\n",
       "    <tr>\n",
       "      <th>...</th>\n",
       "      <td>...</td>\n",
       "      <td>...</td>\n",
       "      <td>...</td>\n",
       "    </tr>\n",
       "    <tr>\n",
       "      <th>18273.0</th>\n",
       "      <td>95</td>\n",
       "      <td>51.00</td>\n",
       "      <td>1</td>\n",
       "    </tr>\n",
       "    <tr>\n",
       "      <th>18280.0</th>\n",
       "      <td>115</td>\n",
       "      <td>180.60</td>\n",
       "      <td>10</td>\n",
       "    </tr>\n",
       "    <tr>\n",
       "      <th>18281.0</th>\n",
       "      <td>18</td>\n",
       "      <td>80.82</td>\n",
       "      <td>7</td>\n",
       "    </tr>\n",
       "    <tr>\n",
       "      <th>18283.0</th>\n",
       "      <td>7</td>\n",
       "      <td>842.58</td>\n",
       "      <td>343</td>\n",
       "    </tr>\n",
       "    <tr>\n",
       "      <th>18287.0</th>\n",
       "      <td>39</td>\n",
       "      <td>765.28</td>\n",
       "      <td>29</td>\n",
       "    </tr>\n",
       "  </tbody>\n",
       "</table>\n",
       "<p>2724 rows × 3 columns</p>\n",
       "</div>"
      ],
      "text/plain": [
       "            Recency  Monetary  Frequency\n",
       "CustomerID                              \n",
       "12346.0         163  77183.60          1\n",
       "12347.0          21   1494.16         71\n",
       "12348.0          86    594.44         11\n",
       "12350.0         148    334.40         17\n",
       "12352.0         100   1561.81         38\n",
       "...             ...       ...        ...\n",
       "18273.0          95     51.00          1\n",
       "18280.0         115    180.60         10\n",
       "18281.0          18     80.82          7\n",
       "18283.0           7    842.58        343\n",
       "18287.0          39    765.28         29\n",
       "\n",
       "[2724 rows x 3 columns]"
      ]
     },
     "execution_count": 40,
     "metadata": {},
     "output_type": "execute_result"
    }
   ],
   "source": [
    "rfm = rm.join(f)\n",
    "rfm"
   ]
  },
  {
   "cell_type": "markdown",
   "metadata": {},
   "source": [
    "### 3. **Phân tích dữ liệu RFM**\n",
    "   - **Task 3.1:** Phân tích thống kê mô tả các biến RFM.\n",
    "     - **Gợi ý:** Sử dụng hàm `describe` để xem các thống kê cơ bản.\n",
    "     ```python\n",
    "     rfm.describe()\n",
    "     ```\n"
   ]
  },
  {
   "cell_type": "code",
   "execution_count": 41,
   "metadata": {},
   "outputs": [
    {
     "name": "stdout",
     "output_type": "stream",
     "text": [
      "<class 'pandas.core.frame.DataFrame'>\n",
      "Index: 2724 entries, 12346.0 to 18287.0\n",
      "Data columns (total 3 columns):\n",
      " #   Column     Non-Null Count  Dtype  \n",
      "---  ------     --------------  -----  \n",
      " 0   Recency    2724 non-null   int64  \n",
      " 1   Monetary   2724 non-null   float64\n",
      " 2   Frequency  2724 non-null   int64  \n",
      "dtypes: float64(1), int64(2)\n",
      "memory usage: 149.7 KB\n"
     ]
    }
   ],
   "source": [
    "rfm.info()"
   ]
  },
  {
   "cell_type": "code",
   "execution_count": 42,
   "metadata": {},
   "outputs": [
    {
     "data": {
      "text/html": [
       "<div>\n",
       "<style scoped>\n",
       "    .dataframe tbody tr th:only-of-type {\n",
       "        vertical-align: middle;\n",
       "    }\n",
       "\n",
       "    .dataframe tbody tr th {\n",
       "        vertical-align: top;\n",
       "    }\n",
       "\n",
       "    .dataframe thead th {\n",
       "        text-align: right;\n",
       "    }\n",
       "</style>\n",
       "<table border=\"1\" class=\"dataframe\">\n",
       "  <thead>\n",
       "    <tr style=\"text-align: right;\">\n",
       "      <th></th>\n",
       "      <th>Recency</th>\n",
       "      <th>Monetary</th>\n",
       "      <th>Frequency</th>\n",
       "    </tr>\n",
       "    <tr>\n",
       "      <th>CustomerID</th>\n",
       "      <th></th>\n",
       "      <th></th>\n",
       "      <th></th>\n",
       "    </tr>\n",
       "  </thead>\n",
       "  <tbody>\n",
       "    <tr>\n",
       "      <th>12346.0</th>\n",
       "      <td>163</td>\n",
       "      <td>77183.60</td>\n",
       "      <td>1</td>\n",
       "    </tr>\n",
       "    <tr>\n",
       "      <th>12347.0</th>\n",
       "      <td>21</td>\n",
       "      <td>1494.16</td>\n",
       "      <td>71</td>\n",
       "    </tr>\n",
       "    <tr>\n",
       "      <th>12348.0</th>\n",
       "      <td>86</td>\n",
       "      <td>594.44</td>\n",
       "      <td>11</td>\n",
       "    </tr>\n",
       "    <tr>\n",
       "      <th>12350.0</th>\n",
       "      <td>148</td>\n",
       "      <td>334.40</td>\n",
       "      <td>17</td>\n",
       "    </tr>\n",
       "    <tr>\n",
       "      <th>12352.0</th>\n",
       "      <td>100</td>\n",
       "      <td>1561.81</td>\n",
       "      <td>38</td>\n",
       "    </tr>\n",
       "  </tbody>\n",
       "</table>\n",
       "</div>"
      ],
      "text/plain": [
       "            Recency  Monetary  Frequency\n",
       "CustomerID                              \n",
       "12346.0         163  77183.60          1\n",
       "12347.0          21   1494.16         71\n",
       "12348.0          86    594.44         11\n",
       "12350.0         148    334.40         17\n",
       "12352.0         100   1561.81         38"
      ]
     },
     "execution_count": 42,
     "metadata": {},
     "output_type": "execute_result"
    }
   ],
   "source": [
    "rfm.head() "
   ]
  },
  {
   "cell_type": "code",
   "execution_count": 43,
   "metadata": {},
   "outputs": [
    {
     "data": {
      "text/html": [
       "<div>\n",
       "<style scoped>\n",
       "    .dataframe tbody tr th:only-of-type {\n",
       "        vertical-align: middle;\n",
       "    }\n",
       "\n",
       "    .dataframe tbody tr th {\n",
       "        vertical-align: top;\n",
       "    }\n",
       "\n",
       "    .dataframe thead th {\n",
       "        text-align: right;\n",
       "    }\n",
       "</style>\n",
       "<table border=\"1\" class=\"dataframe\">\n",
       "  <thead>\n",
       "    <tr style=\"text-align: right;\">\n",
       "      <th></th>\n",
       "      <th>Recency</th>\n",
       "      <th>Monetary</th>\n",
       "      <th>Frequency</th>\n",
       "    </tr>\n",
       "  </thead>\n",
       "  <tbody>\n",
       "    <tr>\n",
       "      <th>count</th>\n",
       "      <td>2724.000000</td>\n",
       "      <td>2724.000000</td>\n",
       "      <td>2724.000000</td>\n",
       "    </tr>\n",
       "    <tr>\n",
       "      <th>mean</th>\n",
       "      <td>59.764684</td>\n",
       "      <td>1255.907401</td>\n",
       "      <td>53.773128</td>\n",
       "    </tr>\n",
       "    <tr>\n",
       "      <th>std</th>\n",
       "      <td>47.913115</td>\n",
       "      <td>4580.475886</td>\n",
       "      <td>98.713037</td>\n",
       "    </tr>\n",
       "    <tr>\n",
       "      <th>min</th>\n",
       "      <td>0.000000</td>\n",
       "      <td>2.900000</td>\n",
       "      <td>1.000000</td>\n",
       "    </tr>\n",
       "    <tr>\n",
       "      <th>25%</th>\n",
       "      <td>20.000000</td>\n",
       "      <td>246.982500</td>\n",
       "      <td>13.000000</td>\n",
       "    </tr>\n",
       "    <tr>\n",
       "      <th>50%</th>\n",
       "      <td>46.000000</td>\n",
       "      <td>494.820000</td>\n",
       "      <td>29.000000</td>\n",
       "    </tr>\n",
       "    <tr>\n",
       "      <th>75%</th>\n",
       "      <td>94.000000</td>\n",
       "      <td>1069.660000</td>\n",
       "      <td>62.000000</td>\n",
       "    </tr>\n",
       "    <tr>\n",
       "      <th>max</th>\n",
       "      <td>177.000000</td>\n",
       "      <td>127410.230000</td>\n",
       "      <td>2427.000000</td>\n",
       "    </tr>\n",
       "  </tbody>\n",
       "</table>\n",
       "</div>"
      ],
      "text/plain": [
       "           Recency       Monetary    Frequency\n",
       "count  2724.000000    2724.000000  2724.000000\n",
       "mean     59.764684    1255.907401    53.773128\n",
       "std      47.913115    4580.475886    98.713037\n",
       "min       0.000000       2.900000     1.000000\n",
       "25%      20.000000     246.982500    13.000000\n",
       "50%      46.000000     494.820000    29.000000\n",
       "75%      94.000000    1069.660000    62.000000\n",
       "max     177.000000  127410.230000  2427.000000"
      ]
     },
     "execution_count": 43,
     "metadata": {},
     "output_type": "execute_result"
    }
   ],
   "source": [
    "rfm.describe()"
   ]
  },
  {
   "cell_type": "markdown",
   "metadata": {},
   "source": [
    "- **Task 3.2:** Trực quan hóa dữ liệu RFM.\n",
    "     - **Gợi ý:** Sử dụng `seaborn` để vẽ biểu đồ phân phối và boxplot.\n",
    "     ```python\n",
    "     import seaborn as sns\n",
    "     import matplotlib.pyplot as plt\n",
    "\n",
    "     sns.histplot(rfm['Recency'], kde=True)\n",
    "     plt.show()\n",
    "     sns.boxplot(x=rfm['Frequency'])\n",
    "     plt.show()\n",
    "     sns.scatterplot(x='Recency', y='Monetary', data=rfm)\n",
    "     plt.show()\n",
    "     ```\n"
   ]
  },
  {
   "cell_type": "code",
   "execution_count": 44,
   "metadata": {},
   "outputs": [
    {
     "name": "stderr",
     "output_type": "stream",
     "text": [
      "c:\\Users\\Admin\\anaconda3\\Lib\\site-packages\\seaborn\\_oldcore.py:1119: FutureWarning: use_inf_as_na option is deprecated and will be removed in a future version. Convert inf values to NaN before operating instead.\n",
      "  with pd.option_context('mode.use_inf_as_na', True):\n"
     ]
    },
    {
     "data": {
      "image/png": "[encoded data removed]",
      "text/plain": [
       "<Figure size 640x480 with 1 Axes>"
      ]
     },
     "metadata": {},
     "output_type": "display_data"
    },
    {
     "data": {
      "image/png": "[encoded data removed]",
      "text/plain": [
       "<Figure size 640x480 with 1 Axes>"
      ]
     },
     "metadata": {},
     "output_type": "display_data"
    },
    {
     "data": {
      "image/png": "[encoded data removed]",
      "text/plain": [
       "<Figure size 640x480 with 1 Axes>"
      ]
     },
     "metadata": {},
     "output_type": "display_data"
    }
   ],
   "source": [
    "import seaborn as sns\n",
    "import matplotlib.pyplot as plt\n",
    "\n",
    "sns.histplot(rfm['Recency'], kde=True)\n",
    "plt.show()\n",
    "sns.boxplot(x=rfm['Frequency'])\n",
    "plt.show()\n",
    "sns.scatterplot(x='Recency', y='Monetary', data=rfm)\n",
    "plt.show()"
   ]
  },
  {
   "cell_type": "markdown",
   "metadata": {},
   "source": [
    "   - **Task 3.3:** Tạo ma trận tương quan giữa các biến RFM.\n",
    "     - **Gợi ý:** Sử dụng `corr` để tính toán và `heatmap` để trực quan hóa.\n",
    "     ```python\n",
    "     sns.heatmap(rfm.corr(), annot=True, cmap='coolwarm')\n",
    "     plt.show()\n",
    "     ```\n"
   ]
  },
  {
   "cell_type": "code",
   "execution_count": 45,
   "metadata": {},
   "outputs": [
    {
     "data": {
      "image/png": "[encoded data removed]",
      "text/plain": [
       "<Figure size 640x480 with 2 Axes>"
      ]
     },
     "metadata": {},
     "output_type": "display_data"
    }
   ],
   "source": [
    "sns.heatmap(rfm.corr(), annot=True, cmap='coolwarm')\n",
    "plt.show()"
   ]
  },
  {
   "cell_type": "markdown",
   "metadata": {},
   "source": [
    "### 4. **Chuẩn bị dữ liệu cho mô hình K-means**\n",
    "   - **Task 4.1:** Chuẩn hóa dữ liệu RFM.\n",
    "     - **Gợi ý:** Sử dụng `StandardScaler` để chuẩn hóa.\n",
    "     ```python\n",
    "     from sklearn.preprocessing import StandardScaler\n",
    "\n",
    "     scaler = StandardScaler()\n",
    "     rfm_scaled = scaler.fit_transform(rfm[['Recency', 'Frequency', 'Monetary']])\n",
    "     ```\n"
   ]
  },
  {
   "cell_type": "code",
   "execution_count": 46,
   "metadata": {},
   "outputs": [
    {
     "data": {
      "text/html": [
       "<div>\n",
       "<style scoped>\n",
       "    .dataframe tbody tr th:only-of-type {\n",
       "        vertical-align: middle;\n",
       "    }\n",
       "\n",
       "    .dataframe tbody tr th {\n",
       "        vertical-align: top;\n",
       "    }\n",
       "\n",
       "    .dataframe thead th {\n",
       "        text-align: right;\n",
       "    }\n",
       "</style>\n",
       "<table border=\"1\" class=\"dataframe\">\n",
       "  <thead>\n",
       "    <tr style=\"text-align: right;\">\n",
       "      <th></th>\n",
       "      <th>Recency</th>\n",
       "      <th>Monetary</th>\n",
       "      <th>Frequency</th>\n",
       "    </tr>\n",
       "    <tr>\n",
       "      <th>CustomerID</th>\n",
       "      <th></th>\n",
       "      <th></th>\n",
       "      <th></th>\n",
       "    </tr>\n",
       "  </thead>\n",
       "  <tbody>\n",
       "    <tr>\n",
       "      <th>12346.0</th>\n",
       "      <td>163</td>\n",
       "      <td>77183.60</td>\n",
       "      <td>1</td>\n",
       "    </tr>\n",
       "    <tr>\n",
       "      <th>12347.0</th>\n",
       "      <td>21</td>\n",
       "      <td>1494.16</td>\n",
       "      <td>71</td>\n",
       "    </tr>\n",
       "    <tr>\n",
       "      <th>12348.0</th>\n",
       "      <td>86</td>\n",
       "      <td>594.44</td>\n",
       "      <td>11</td>\n",
       "    </tr>\n",
       "    <tr>\n",
       "      <th>12350.0</th>\n",
       "      <td>148</td>\n",
       "      <td>334.40</td>\n",
       "      <td>17</td>\n",
       "    </tr>\n",
       "    <tr>\n",
       "      <th>12352.0</th>\n",
       "      <td>100</td>\n",
       "      <td>1561.81</td>\n",
       "      <td>38</td>\n",
       "    </tr>\n",
       "  </tbody>\n",
       "</table>\n",
       "</div>"
      ],
      "text/plain": [
       "            Recency  Monetary  Frequency\n",
       "CustomerID                              \n",
       "12346.0         163  77183.60          1\n",
       "12347.0          21   1494.16         71\n",
       "12348.0          86    594.44         11\n",
       "12350.0         148    334.40         17\n",
       "12352.0         100   1561.81         38"
      ]
     },
     "execution_count": 46,
     "metadata": {},
     "output_type": "execute_result"
    }
   ],
   "source": [
    "rfm.head()"
   ]
  },
  {
   "cell_type": "code",
   "execution_count": 47,
   "metadata": {},
   "outputs": [],
   "source": [
    "from sklearn.preprocessing import StandardScaler\n",
    "\n",
    "scaler = StandardScaler()\n",
    "rfm_scaled = scaler.fit_transform(rfm[['Recency', 'Frequency', 'Monetary']])\n"
   ]
  },
  {
   "cell_type": "code",
   "execution_count": 48,
   "metadata": {},
   "outputs": [
    {
     "data": {
      "text/plain": [
       "array([[ 2.15503145, -0.53470969, 16.57941994],\n",
       "       [-0.80921062,  0.1745467 ,  0.05202436],\n",
       "       [ 0.54766075, -0.43338735, -0.14443671],\n",
       "       ...,\n",
       "       [-0.87183545, -0.47391628, -0.25658975],\n",
       "       [-1.10145984,  2.9305144 , -0.09025335],\n",
       "       [-0.43346163, -0.25100713, -0.10713242]])"
      ]
     },
     "execution_count": 48,
     "metadata": {},
     "output_type": "execute_result"
    }
   ],
   "source": [
    "rfm_scaled"
   ]
  },
  {
   "cell_type": "markdown",
   "metadata": {},
   "source": [
    "- **Task 4.2:** Chọn số lượng cụm K.\n",
    "     - **Gợi ý:** Sử dụng Elbow Method để xác định số cụm tối ưu.\n",
    "     ```python\n",
    "     from sklearn.cluster import KMeans\n",
    "     import numpy as np\n",
    "\n",
    "     sse = []\n",
    "     for k in range(1, 11):\n",
    "         kmeans = KMeans(n_clusters=k, random_state=42)\n",
    "         kmeans.fit(rfm_scaled)\n",
    "         sse.append(kmeans.inertia_)\n",
    "\n",
    "     plt.plot(range(1, 11), sse, marker='o')\n",
    "     plt.xlabel('Number of clusters')\n",
    "     plt.ylabel('SSE')\n",
    "     plt.show()\n",
    "     ```\n"
   ]
  },
  {
   "cell_type": "code",
   "execution_count": 49,
   "metadata": {
    "notebookRunGroups": {
     "groupValue": "1"
    }
   },
   "outputs": [
    {
     "name": "stderr",
     "output_type": "stream",
     "text": [
      "c:\\Users\\Admin\\anaconda3\\Lib\\site-packages\\sklearn\\cluster\\_kmeans.py:870: FutureWarning: The default value of `n_init` will change from 10 to 'auto' in 1.4. Set the value of `n_init` explicitly to suppress the warning\n",
      "  warnings.warn(\n",
      "c:\\Users\\Admin\\anaconda3\\Lib\\site-packages\\sklearn\\cluster\\_kmeans.py:870: FutureWarning: The default value of `n_init` will change from 10 to 'auto' in 1.4. Set the value of `n_init` explicitly to suppress the warning\n",
      "  warnings.warn(\n",
      "c:\\Users\\Admin\\anaconda3\\Lib\\site-packages\\sklearn\\cluster\\_kmeans.py:870: FutureWarning: The default value of `n_init` will change from 10 to 'auto' in 1.4. Set the value of `n_init` explicitly to suppress the warning\n",
      "  warnings.warn(\n",
      "c:\\Users\\Admin\\anaconda3\\Lib\\site-packages\\sklearn\\cluster\\_kmeans.py:870: FutureWarning: The default value of `n_init` will change from 10 to 'auto' in 1.4. Set the value of `n_init` explicitly to suppress the warning\n",
      "  warnings.warn(\n",
      "c:\\Users\\Admin\\anaconda3\\Lib\\site-packages\\sklearn\\cluster\\_kmeans.py:870: FutureWarning: The default value of `n_init` will change from 10 to 'auto' in 1.4. Set the value of `n_init` explicitly to suppress the warning\n",
      "  warnings.warn(\n",
      "c:\\Users\\Admin\\anaconda3\\Lib\\site-packages\\sklearn\\cluster\\_kmeans.py:870: FutureWarning: The default value of `n_init` will change from 10 to 'auto' in 1.4. Set the value of `n_init` explicitly to suppress the warning\n",
      "  warnings.warn(\n",
      "c:\\Users\\Admin\\anaconda3\\Lib\\site-packages\\sklearn\\cluster\\_kmeans.py:870: FutureWarning: The default value of `n_init` will change from 10 to 'auto' in 1.4. Set the value of `n_init` explicitly to suppress the warning\n",
      "  warnings.warn(\n",
      "c:\\Users\\Admin\\anaconda3\\Lib\\site-packages\\sklearn\\cluster\\_kmeans.py:870: FutureWarning: The default value of `n_init` will change from 10 to 'auto' in 1.4. Set the value of `n_init` explicitly to suppress the warning\n",
      "  warnings.warn(\n",
      "c:\\Users\\Admin\\anaconda3\\Lib\\site-packages\\sklearn\\cluster\\_kmeans.py:870: FutureWarning: The default value of `n_init` will change from 10 to 'auto' in 1.4. Set the value of `n_init` explicitly to suppress the warning\n",
      "  warnings.warn(\n",
      "c:\\Users\\Admin\\anaconda3\\Lib\\site-packages\\sklearn\\cluster\\_kmeans.py:870: FutureWarning: The default value of `n_init` will change from 10 to 'auto' in 1.4. Set the value of `n_init` explicitly to suppress the warning\n",
      "  warnings.warn(\n"
     ]
    },
    {
     "data": {
      "image/png": "[encoded data removed]",
      "text/plain": [
       "<Figure size 640x480 with 1 Axes>"
      ]
     },
     "metadata": {},
     "output_type": "display_data"
    }
   ],
   "source": [
    "from sklearn.cluster import KMeans\n",
    "import numpy as np\n",
    "\n",
    "sse = []\n",
    "for k in range(1, 11):\n",
    "    kmeans = KMeans(n_clusters=k, random_state=42)\n",
    "    kmeans.fit(rfm_scaled)\n",
    "    sse.append(kmeans.inertia_)\n",
    "\n",
    "plt.plot(range(1, 11), sse, marker='o')\n",
    "plt.xlabel('Number of clusters')\n",
    "plt.ylabel('SSE')\n",
    "plt.show()\n"
   ]
  },
  {
   "cell_type": "markdown",
   "metadata": {},
   "source": [
    "   - **Task 4.3:** Thực hiện K-means clustering.\n",
    "     - **Gợi ý:** Áp dụng K-means với số cụm tối ưu và gán nhãn cho dữ liệu.\n",
    "     ```python\n",
    "     optimal_k = 4  # Giả sử kết quả Elbow Method cho thấy 4 là tối ưu\n",
    "     kmeans = KMeans(n_clusters=optimal_k, random_state=42)\n",
    "     rfm['Cluster'] = kmeans.fit_predict(rfm_scaled)\n",
    "     ```\n"
   ]
  },
  {
   "cell_type": "code",
   "execution_count": 50,
   "metadata": {},
   "outputs": [
    {
     "name": "stderr",
     "output_type": "stream",
     "text": [
      "c:\\Users\\Admin\\anaconda3\\Lib\\site-packages\\sklearn\\cluster\\_kmeans.py:870: FutureWarning: The default value of `n_init` will change from 10 to 'auto' in 1.4. Set the value of `n_init` explicitly to suppress the warning\n",
      "  warnings.warn(\n"
     ]
    }
   ],
   "source": [
    "optimal_k = 4  # Giả sử kết quả Elbow Method cho thấy 4 là tối ưu\n",
    "kmeans = KMeans(n_clusters=optimal_k, random_state=42)\n",
    "rfm['Cluster'] = kmeans.fit_predict(rfm_scaled)\n"
   ]
  },
  {
   "cell_type": "markdown",
   "metadata": {},
   "source": [
    "### 5. **Phân tích kết quả phân cụm**\n",
    "   - **Task 5.1:** Gán nhãn phân cụm cho dữ liệu.\n",
    "     - **Gợi ý:** Dữ liệu đã được gán nhãn trong bước trên.\n",
    "     ```python\n",
    "     rfm.head()\n",
    "     ```\n"
   ]
  },
  {
   "cell_type": "code",
   "execution_count": 51,
   "metadata": {},
   "outputs": [
    {
     "data": {
      "text/html": [
       "<div>\n",
       "<style scoped>\n",
       "    .dataframe tbody tr th:only-of-type {\n",
       "        vertical-align: middle;\n",
       "    }\n",
       "\n",
       "    .dataframe tbody tr th {\n",
       "        vertical-align: top;\n",
       "    }\n",
       "\n",
       "    .dataframe thead th {\n",
       "        text-align: right;\n",
       "    }\n",
       "</style>\n",
       "<table border=\"1\" class=\"dataframe\">\n",
       "  <thead>\n",
       "    <tr style=\"text-align: right;\">\n",
       "      <th></th>\n",
       "      <th>Recency</th>\n",
       "      <th>Monetary</th>\n",
       "      <th>Frequency</th>\n",
       "      <th>Cluster</th>\n",
       "    </tr>\n",
       "    <tr>\n",
       "      <th>CustomerID</th>\n",
       "      <th></th>\n",
       "      <th></th>\n",
       "      <th></th>\n",
       "      <th></th>\n",
       "    </tr>\n",
       "  </thead>\n",
       "  <tbody>\n",
       "    <tr>\n",
       "      <th>12346.0</th>\n",
       "      <td>163</td>\n",
       "      <td>77183.60</td>\n",
       "      <td>1</td>\n",
       "      <td>2</td>\n",
       "    </tr>\n",
       "    <tr>\n",
       "      <th>12347.0</th>\n",
       "      <td>21</td>\n",
       "      <td>1494.16</td>\n",
       "      <td>71</td>\n",
       "      <td>0</td>\n",
       "    </tr>\n",
       "    <tr>\n",
       "      <th>12348.0</th>\n",
       "      <td>86</td>\n",
       "      <td>594.44</td>\n",
       "      <td>11</td>\n",
       "      <td>1</td>\n",
       "    </tr>\n",
       "    <tr>\n",
       "      <th>12350.0</th>\n",
       "      <td>148</td>\n",
       "      <td>334.40</td>\n",
       "      <td>17</td>\n",
       "      <td>1</td>\n",
       "    </tr>\n",
       "    <tr>\n",
       "      <th>12352.0</th>\n",
       "      <td>100</td>\n",
       "      <td>1561.81</td>\n",
       "      <td>38</td>\n",
       "      <td>1</td>\n",
       "    </tr>\n",
       "  </tbody>\n",
       "</table>\n",
       "</div>"
      ],
      "text/plain": [
       "            Recency  Monetary  Frequency  Cluster\n",
       "CustomerID                                       \n",
       "12346.0         163  77183.60          1        2\n",
       "12347.0          21   1494.16         71        0\n",
       "12348.0          86    594.44         11        1\n",
       "12350.0         148    334.40         17        1\n",
       "12352.0         100   1561.81         38        1"
      ]
     },
     "execution_count": 51,
     "metadata": {},
     "output_type": "execute_result"
    }
   ],
   "source": [
    "rfm.head()"
   ]
  },
  {
   "cell_type": "markdown",
   "metadata": {},
   "source": [
    "- **Task 5.2:** Phân tích các đặc điểm của từng cụm.\n",
    "     - **Gợi ý:** Tính trung bình RFM cho mỗi cụm.\n",
    "     ```python\n",
    "     cluster_analysis = rfm.groupby('Cluster').mean()\n",
    "     cluster_analysis\n",
    "     ```\n"
   ]
  },
  {
   "cell_type": "code",
   "execution_count": 52,
   "metadata": {},
   "outputs": [
    {
     "data": {
      "text/html": [
       "<div>\n",
       "<style scoped>\n",
       "    .dataframe tbody tr th:only-of-type {\n",
       "        vertical-align: middle;\n",
       "    }\n",
       "\n",
       "    .dataframe tbody tr th {\n",
       "        vertical-align: top;\n",
       "    }\n",
       "\n",
       "    .dataframe thead th {\n",
       "        text-align: right;\n",
       "    }\n",
       "</style>\n",
       "<table border=\"1\" class=\"dataframe\">\n",
       "  <thead>\n",
       "    <tr style=\"text-align: right;\">\n",
       "      <th></th>\n",
       "      <th>Recency</th>\n",
       "      <th>Monetary</th>\n",
       "      <th>Frequency</th>\n",
       "    </tr>\n",
       "    <tr>\n",
       "      <th>Cluster</th>\n",
       "      <th></th>\n",
       "      <th></th>\n",
       "      <th></th>\n",
       "    </tr>\n",
       "  </thead>\n",
       "  <tbody>\n",
       "    <tr>\n",
       "      <th>0</th>\n",
       "      <td>28.067138</td>\n",
       "      <td>1281.882739</td>\n",
       "      <td>62.984688</td>\n",
       "    </tr>\n",
       "    <tr>\n",
       "      <th>1</th>\n",
       "      <td>114.009930</td>\n",
       "      <td>449.873654</td>\n",
       "      <td>25.250248</td>\n",
       "    </tr>\n",
       "    <tr>\n",
       "      <th>2</th>\n",
       "      <td>31.900000</td>\n",
       "      <td>61941.954000</td>\n",
       "      <td>295.000000</td>\n",
       "    </tr>\n",
       "    <tr>\n",
       "      <th>3</th>\n",
       "      <td>1.555556</td>\n",
       "      <td>19112.506667</td>\n",
       "      <td>1239.222222</td>\n",
       "    </tr>\n",
       "  </tbody>\n",
       "</table>\n",
       "</div>"
      ],
      "text/plain": [
       "            Recency      Monetary    Frequency\n",
       "Cluster                                       \n",
       "0         28.067138   1281.882739    62.984688\n",
       "1        114.009930    449.873654    25.250248\n",
       "2         31.900000  61941.954000   295.000000\n",
       "3          1.555556  19112.506667  1239.222222"
      ]
     },
     "execution_count": 52,
     "metadata": {},
     "output_type": "execute_result"
    }
   ],
   "source": [
    "cluster_analysis = rfm.groupby('Cluster').mean()\n",
    "cluster_analysis\n"
   ]
  },
  {
   "cell_type": "markdown",
   "metadata": {},
   "source": [
    "- **Task 5.3:** Trực quan hóa các cụm khách hàng.\n",
    "     - **Gợi ý:** Sử dụng biểu đồ scatterplot để trực quan hóa các cụm.\n",
    "     ```python\n",
    "     sns.scatterplot(x='Recency', y='Monetary', hue='Cluster', data=rfm, palette='viridis')\n",
    "     plt.show()\n",
    "     ```\n"
   ]
  },
  {
   "cell_type": "code",
   "execution_count": 53,
   "metadata": {},
   "outputs": [
    {
     "data": {
      "image/png": "[encoded data removed]",
      "text/plain": [
       "<Figure size 640x480 with 1 Axes>"
      ]
     },
     "metadata": {},
     "output_type": "display_data"
    }
   ],
   "source": [
    "sns.scatterplot(x='Recency', y='Monetary', hue='Cluster', data=rfm, palette='viridis')\n",
    "plt.show()\n"
   ]
  },
  {
   "cell_type": "markdown",
   "metadata": {},
   "source": [
    "### 6. **Đánh giá hiệu quả của mô hình**\n",
    "   - **Task 6.1:** Tính toán Silhouette Score.\n",
    "     - **Gợi ý:** Sử dụng `silhouette_score` từ scikit-learn.\n",
    "     ```python\n",
    "     from sklearn.metrics import silhouette_score\n",
    "\n",
    "     silhouette_avg = silhouette_score(rfm_scaled, rfm['Cluster'])\n",
    "     print(f'Silhouette Score: {silhouette_avg}')\n",
    "     ```\n"
   ]
  },
  {
   "cell_type": "code",
   "execution_count": 54,
   "metadata": {},
   "outputs": [
    {
     "name": "stdout",
     "output_type": "stream",
     "text": [
      "Silhouette Score: 0.509084895289096\n"
     ]
    }
   ],
   "source": [
    "from sklearn.metrics import silhouette_score\n",
    "\n",
    "silhouette_avg = silhouette_score(rfm_scaled, rfm['Cluster'])\n",
    "print(f'Silhouette Score: {silhouette_avg}')\n"
   ]
  },
  {
   "cell_type": "markdown",
   "metadata": {},
   "source": [
    "   - **Task 6.2:** Đánh giá sự ổn định của các cụm qua các lần chạy khác nhau.\n",
    "     - **Gợi ý:** Thực hiện K-means nhiều lần và so sánh kết quả.\n",
    "     ```python\n",
    "     for i in range(5):\n",
    "         kmeans = KMeans(n_clusters=optimal_k, random_state=i)\n",
    "         clusters = kmeans.fit_predict(rfm_scaled)\n",
    "         print(f'Run {i+1}: Silhouette Score = {silhouette_score(rfm_scaled, clusters)}')\n",
    "     ```\n"
   ]
  },
  {
   "cell_type": "code",
   "execution_count": 55,
   "metadata": {},
   "outputs": [
    {
     "name": "stderr",
     "output_type": "stream",
     "text": [
      "c:\\Users\\Admin\\anaconda3\\Lib\\site-packages\\sklearn\\cluster\\_kmeans.py:870: FutureWarning: The default value of `n_init` will change from 10 to 'auto' in 1.4. Set the value of `n_init` explicitly to suppress the warning\n",
      "  warnings.warn(\n"
     ]
    },
    {
     "name": "stdout",
     "output_type": "stream",
     "text": [
      "Run 1: Silhouette Score = 0.5082495722373811\n"
     ]
    },
    {
     "name": "stderr",
     "output_type": "stream",
     "text": [
      "c:\\Users\\Admin\\anaconda3\\Lib\\site-packages\\sklearn\\cluster\\_kmeans.py:870: FutureWarning: The default value of `n_init` will change from 10 to 'auto' in 1.4. Set the value of `n_init` explicitly to suppress the warning\n",
      "  warnings.warn(\n"
     ]
    },
    {
     "name": "stdout",
     "output_type": "stream",
     "text": [
      "Run 2: Silhouette Score = 0.509084895289096\n"
     ]
    },
    {
     "name": "stderr",
     "output_type": "stream",
     "text": [
      "c:\\Users\\Admin\\anaconda3\\Lib\\site-packages\\sklearn\\cluster\\_kmeans.py:870: FutureWarning: The default value of `n_init` will change from 10 to 'auto' in 1.4. Set the value of `n_init` explicitly to suppress the warning\n",
      "  warnings.warn(\n"
     ]
    },
    {
     "name": "stdout",
     "output_type": "stream",
     "text": [
      "Run 3: Silhouette Score = 0.509084895289096\n"
     ]
    },
    {
     "name": "stderr",
     "output_type": "stream",
     "text": [
      "c:\\Users\\Admin\\anaconda3\\Lib\\site-packages\\sklearn\\cluster\\_kmeans.py:870: FutureWarning: The default value of `n_init` will change from 10 to 'auto' in 1.4. Set the value of `n_init` explicitly to suppress the warning\n",
      "  warnings.warn(\n"
     ]
    },
    {
     "name": "stdout",
     "output_type": "stream",
     "text": [
      "Run 4: Silhouette Score = 0.5073308172594875\n"
     ]
    },
    {
     "name": "stderr",
     "output_type": "stream",
     "text": [
      "c:\\Users\\Admin\\anaconda3\\Lib\\site-packages\\sklearn\\cluster\\_kmeans.py:870: FutureWarning: The default value of `n_init` will change from 10 to 'auto' in 1.4. Set the value of `n_init` explicitly to suppress the warning\n",
      "  warnings.warn(\n"
     ]
    },
    {
     "name": "stdout",
     "output_type": "stream",
     "text": [
      "Run 5: Silhouette Score = 0.5097877995945538\n"
     ]
    }
   ],
   "source": [
    "for i in range(5):\n",
    "    kmeans = KMeans(n_clusters=optimal_k, random_state=i)\n",
    "    clusters = kmeans.fit_predict(rfm_scaled)\n",
    "    print(f'Run {i+1}: Silhouette Score = {silhouette_score(rfm_scaled, clusters)}')\n"
   ]
  },
  {
   "cell_type": "markdown",
   "metadata": {},
   "source": [
    "   - **Task 6.3:** So sánh với các phương pháp phân cụm khác.\n",
    "     - **Gợi ý:** Thử nghiệm với Agglomerative Clustering và DBSCAN.\n",
    "     ```python\n",
    "     from sklearn.cluster import AgglomerativeClustering, DBSCAN\n",
    "\n",
    "     agg_clustering = AgglomerativeClustering(n_clusters=optimal_k)\n",
    "     rfm['Agg_Cluster'] = agg_clustering.fit_predict(rfm_scaled)\n",
    "\n",
    "     dbscan = DBSCAN(eps=0.5, min_samples=5)\n",
    "     rfm['DBSCAN_Cluster'] = dbscan.fit_predict(rfm_scaled)\n",
    "\n",
    "     silhouette_avg_agg = silhouette_score(rfm_scaled, rfm['Agg_Cluster'])\n",
    "     silhouette_avg_dbscan = silhouette_score(rfm_scaled, rfm['DBSCAN_Cluster'])\n",
    "\n",
    "     print(f'Agglomerative Clustering Silhouette Score: {silhouette_avg_agg}')\n",
    "     print(f'DBSCAN Silhouette Score: {silhouette_avg_dbscan}')\n",
    "     ```\n",
    "\n"
   ]
  },
  {
   "cell_type": "code",
   "execution_count": 56,
   "metadata": {},
   "outputs": [
    {
     "name": "stdout",
     "output_type": "stream",
     "text": [
      "Agglomerative Clustering Silhouette Score: 0.4974465790603128\n",
      "DBSCAN Silhouette Score: 0.7814651914134483\n"
     ]
    }
   ],
   "source": [
    "from sklearn.cluster import AgglomerativeClustering, DBSCAN\n",
    "\n",
    "agg_clustering = AgglomerativeClustering(n_clusters=optimal_k)\n",
    "rfm['Agg_Cluster'] = agg_clustering.fit_predict(rfm_scaled)\n",
    "\n",
    "dbscan = DBSCAN(eps=0.5, min_samples=5)\n",
    "rfm['DBSCAN_Cluster'] = dbscan.fit_predict(rfm_scaled)\n",
    "\n",
    "silhouette_avg_agg = silhouette_score(rfm_scaled, rfm['Agg_Cluster'])\n",
    "silhouette_avg_dbscan = silhouette_score(rfm_scaled, rfm['DBSCAN_Cluster'])\n",
    "\n",
    "print(f'Agglomerative Clustering Silhouette Score: {silhouette_avg_agg}')\n",
    "print(f'DBSCAN Silhouette Score: {silhouette_avg_dbscan}')"
   ]
  },
  {
   "cell_type": "markdown",
   "metadata": {},
   "source": [
    "### 7. **Triển khai và tạo báo cáo**\n",
    "   - **Task 7.1:** Xuất kết quả phân cụm ra file CSV.\n",
    "     - **Gợi ý:** Sử dụng `to_csv` để lưu kết quả.\n",
    "     ```python\n",
    "     rfm.to_csv('rfm_clusters.csv', index=False)\n",
    "     ```\n",
    "\n",
    "   - **Task 7.2:** Tạo báo cáo phân tích kết quả.\n",
    "     - **Gợi ý:** Sử dụng `matplotlib` để tạo biểu đồ trong báo cáo và viết báo cáo phân tích.\n",
    "     ```python\n",
    "     cluster_analysis.plot(kind='bar', subplots=True, layout=(1, 3), figsize=(15, 5))\n",
    "     plt.show()\n",
    "     ```\n"
   ]
  },
  {
   "cell_type": "code",
   "execution_count": 57,
   "metadata": {},
   "outputs": [
    {
     "data": {
      "image/png": "[encoded data removed]",
      "text/plain": [
       "<Figure size 1500x500 with 3 Axes>"
      ]
     },
     "metadata": {},
     "output_type": "display_data"
    }
   ],
   "source": [
    "cluster_analysis.plot(kind='bar', subplots=True, figsize=(15, 5))\n",
    "plt.show()\n"
   ]
  },
  {
   "cell_type": "markdown",
   "metadata": {},
   "source": [
    "### 8. **Tối ưu hóa và mở rộng**\n",
    "   - **Task 8.1:** Tối ưu hóa mô hình.\n",
    "     - **Gợi ý:** Thử nghiệm với các siêu tham số khác nhau và sử dụng GridSearchCV.\n",
    "     ```python\n",
    "     from sklearn.model_selection import GridSearchCV\n",
    "\n",
    "     param_grid = {'n_clusters': [3, 4, 5, 6], 'init': ['k-means++',\n",
    "\n",
    " 'random']}\n",
    "     kmeans = KMeans(random_state=42)\n",
    "     grid_search = GridSearchCV(kmeans, param_grid, cv=5)\n",
    "     grid_search.fit(rfm_scaled)\n",
    "\n",
    "     print(f'Best Params: {grid_search.best_params_}')\n",
    "     ```\n",
    "\n",
    "   - **Task 8.2:** Mở rộng mô hình với các đặc trưng khác.\n",
    "     - **Gợi ý:** Thêm các đặc trưng như dữ liệu nhân khẩu học hoặc hành vi mua hàng.\n",
    "\n",
    "   - **Task 8.3:** Xây dựng dashboard để giám sát và phân tích các cụm.\n"
   ]
  }
 ],
 "metadata": {
  "kernelspec": {
   "display_name": "myenv",
   "language": "python",
   "name": "python3"
  },
  "language_info": {
   "codemirror_mode": {
    "name": "ipython",
    "version": 3
   },
   "file_extension": ".py",
   "mimetype": "text/x-python",
   "name": "python",
   "nbconvert_exporter": "python",
   "pygments_lexer": "ipython3",
   "version": "3.11.7"
  }
 },
 "nbformat": 4,
 "nbformat_minor": 2
}
