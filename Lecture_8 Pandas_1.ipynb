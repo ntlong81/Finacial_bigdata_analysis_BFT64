{
 "cells": [
  {
   "cell_type": "markdown",
   "id": "cebec378",
   "metadata": {},
   "source": [
    "# Introduction to Pandas"
   ]
  },
  {
   "cell_type": "markdown",
   "id": "825eab14",
   "metadata": {},
   "source": [
    "## 1. What is Pandas?"
   ]
  },
  {
   "cell_type": "markdown",
   "id": "e512db73",
   "metadata": {},
   "source": [
    "Pandas is a powerful Python library for data analysis, providing efficient data structures and functions for data manipulation."
   ]
  },
  {
   "cell_type": "code",
   "execution_count": null,
   "id": "cbe406e3",
   "metadata": {},
   "outputs": [],
   "source": [
    "import numpy as np\n",
    "import pandas as pd"
   ]
  },
  {
   "cell_type": "markdown",
   "id": "2ae9ba84",
   "metadata": {},
   "source": [
    "### **Exercise:** Install pandas using `pip install pandas` (if not installed). Import pandas and print its version."
   ]
  },
  {
   "cell_type": "markdown",
   "id": "2ca97c8d",
   "metadata": {},
   "source": [
    "\n",
    "            ### **AI Prompt: Understanding Pandas**\n",
    "            - Explain Pandas as if you're teaching a 10-year-old.\n",
    "            - What are the key differences between Pandas and NumPy?\n",
    "            - Why do we need Pandas in data analysis? Provide an example.\n",
    "            "
   ]
  },
  {
   "cell_type": "markdown",
   "id": "7c47cb8d",
   "metadata": {},
   "source": [
    "## 2. Pandas Objects - Series"
   ]
  },
  {
   "cell_type": "markdown",
   "id": "edabb9a1",
   "metadata": {},
   "source": [
    "Series is a one-dimensional indexed data structure in Pandas."
   ]
  },
  {
   "cell_type": "code",
   "execution_count": null,
   "id": "f10a0245",
   "metadata": {},
   "outputs": [],
   "source": [
    "series1 = pd.Series([1, 2], index=['a', 'b'])\n",
    "series2 = pd.Series({\"a\": 1, \"b\": 2})\n",
    "print(series1)\n",
    "print(series2)"
   ]
  },
  {
   "cell_type": "markdown",
   "id": "eed79f80",
   "metadata": {},
   "source": [
    "### **Exercise:** Create a Series containing 5 city names as values and use index labels as country names."
   ]
  },
  {
   "cell_type": "markdown",
   "id": "d6b41c9e",
   "metadata": {},
   "source": [
    "\n",
    "            ### **AI Prompt: Exploring Pandas Series**\n",
    "            - How does a Pandas Series differ from a Python list?\n",
    "            - Can you provide a real-world example where using a Series is beneficial?\n",
    "            - Generate additional exercises that explore Series operations.\n",
    "            "
   ]
  },
  {
   "cell_type": "markdown",
   "id": "1ef9df40",
   "metadata": {},
   "source": [
    "## 3. Pandas Objects - DataFrame"
   ]
  },
  {
   "cell_type": "markdown",
   "id": "aa3f67d5",
   "metadata": {},
   "source": [
    "DataFrame is a two-dimensional table with labeled rows and columns."
   ]
  },
  {
   "cell_type": "code",
   "execution_count": null,
   "id": "2f2b85ae",
   "metadata": {},
   "outputs": [],
   "source": [
    "df1 = pd.DataFrame({'state': ['Ohio', 'California'], 'year': [2000, 2010]})\n",
    "print(df1)\n",
    "\n",
    "df2 = pd.DataFrame(np.random.rand(3, 2), columns=['foo', 'bar'])\n",
    "print(df2)"
   ]
  },
  {
   "cell_type": "markdown",
   "id": "914c98d5",
   "metadata": {},
   "source": [
    "### **Exercise:** Create a DataFrame with student names, their subjects, and corresponding grades."
   ]
  },
  {
   "cell_type": "markdown",
   "id": "b7796a3f",
   "metadata": {},
   "source": [
    "\n",
    "            ### **AI Prompt: Working with DataFrames**\n",
    "            - Compare a DataFrame with an SQL table. How are they similar and different?\n",
    "            - What are some common operations performed on a DataFrame?\n",
    "            - Describe a scenario where a DataFrame is more useful than a Series.\n",
    "            "
   ]
  },
  {
   "cell_type": "markdown",
   "id": "4c73cbe0",
   "metadata": {},
   "source": [
    "## 4. Indexing and Selection"
   ]
  },
  {
   "cell_type": "markdown",
   "id": "0539bcc0",
   "metadata": {},
   "source": [
    "Pandas provides various ways to select and retrieve data using `.loc[]` and `.iloc[]`."
   ]
  },
  {
   "cell_type": "code",
   "execution_count": null,
   "id": "984e9222",
   "metadata": {},
   "outputs": [],
   "source": [
    "s1 = pd.Series(range(10, 14), index=list(\"abcd\"))\n",
    "print(s1.loc['b'])\n",
    "print(s1.iloc[1])"
   ]
  },
  {
   "cell_type": "markdown",
   "id": "e35260f5",
   "metadata": {},
   "source": [
    "### **Exercise:** Given a Series of five countries and their populations, retrieve the population of a specific country using `.loc[]`."
   ]
  },
  {
   "cell_type": "markdown",
   "id": "8cf61194",
   "metadata": {},
   "source": [
    "\n",
    "            ### **AI Prompt: Mastering Indexing**\n",
    "            - What is the difference between `.loc[]` and `.iloc[]` in Pandas?\n",
    "            - How can incorrect indexing lead to errors in data analysis?\n",
    "            - Generate a challenging indexing problem and explain how to solve it.\n",
    "            "
   ]
  },
  {
   "cell_type": "markdown",
   "id": "da3d3724",
   "metadata": {},
   "source": [
    "## 5. Handling Missing Data"
   ]
  },
  {
   "cell_type": "markdown",
   "id": "0037acfe",
   "metadata": {},
   "source": [
    "Pandas allows handling missing values using `fillna()` or `dropna()`."
   ]
  },
  {
   "cell_type": "code",
   "execution_count": null,
   "id": "225da5cd",
   "metadata": {},
   "outputs": [],
   "source": [
    "df_missing = pd.DataFrame({'A': [1, 2, None], 'B': [None, 3, 4]})\n",
    "df_filled = df_missing.fillna(0)\n",
    "print(df_filled)"
   ]
  },
  {
   "cell_type": "markdown",
   "id": "b8201c4d",
   "metadata": {},
   "source": [
    "### **Exercise:** Create a DataFrame with missing values and replace them with the column mean."
   ]
  },
  {
   "cell_type": "markdown",
   "id": "c2ea7049",
   "metadata": {},
   "source": [
    "\n",
    "            ### **AI Prompt: Handling Missing Data**\n",
    "            - Why is handling missing data important in real-world datasets?\n",
    "            - Compare the differences between `.fillna()`, `.dropna()`, and `.interpolate()`.\n",
    "            - What are some strategies for handling missing categorical values?\n",
    "            "
   ]
  },
  {
   "cell_type": "markdown",
   "id": "626ac871",
   "metadata": {},
   "source": [
    "## 6. MultiIndex (Hierarchical Indexing)"
   ]
  },
  {
   "cell_type": "markdown",
   "id": "f75c77d8",
   "metadata": {},
   "source": [
    "MultiIndex allows working with hierarchical data efficiently."
   ]
  },
  {
   "cell_type": "code",
   "execution_count": null,
   "id": "d39e59cf",
   "metadata": {},
   "outputs": [],
   "source": [
    "index = [('California', 2000), ('California', 2010), ('New York', 2000)]\n",
    "populations = [33871648, 37253956, 18976457]\n",
    "ind = pd.MultiIndex.from_tuples(index, names=('State', 'Year'))\n",
    "df_multi = pd.DataFrame({'Population': populations}, index=ind)\n",
    "print(df_multi)"
   ]
  },
  {
   "cell_type": "markdown",
   "id": "869ef8d3",
   "metadata": {},
   "source": [
    "### **Exercise:** Create a MultiIndex DataFrame for sales data across multiple years and retrieve sales for a specific year."
   ]
  },
  {
   "cell_type": "markdown",
   "id": "92d29199",
   "metadata": {},
   "source": [
    "\n",
    "            ### **AI Prompt: Exploring MultiIndex**\n",
    "            - When should you use MultiIndex instead of a simple index?\n",
    "            - How does MultiIndex impact performance in large datasets?\n",
    "            - Can you create a dataset where MultiIndexing is necessary?\n",
    "            "
   ]
  },
  {
   "cell_type": "markdown",
   "id": "5bfe699e",
   "metadata": {},
   "source": [
    "## Final Comprehensive Exercise"
   ]
  },
  {
   "cell_type": "markdown",
   "id": "1c6a2c67",
   "metadata": {},
   "source": [
    "- Create a dataset of 10 employees with **Name, Age, Department, Salary, and Year of Joining**.\n",
    "- Retrieve employees in a specific department.\n",
    "- Fill missing salaries with the department average.\n",
    "- Create a MultiIndex grouping employees by **Department and Year of Joining**.\n",
    "- Display the department with the highest average salary."
   ]
  }
 ],
 "metadata": {},
 "nbformat": 4,
 "nbformat_minor": 5
}