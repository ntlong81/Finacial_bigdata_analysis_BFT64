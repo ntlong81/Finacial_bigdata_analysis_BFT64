{
 "cells": [
  {
   "cell_type": "markdown",
   "id": "cebec378",
   "metadata": {},
   "source": [
    "# Introduction to Pandas"
   ]
  },
  {
   "cell_type": "markdown",
   "id": "825eab14",
   "metadata": {},
   "source": [
    "## 1. What is Pandas?"
   ]
  },
  {
   "cell_type": "markdown",
   "id": "e512db73",
   "metadata": {},
   "source": [
    "Pandas is a powerful Python library for data analysis, providing efficient data structures and functions for data manipulation."
   ]
  },
  {
   "cell_type": "code",
   "execution_count": 1,
   "id": "cbe406e3",
   "metadata": {},
   "outputs": [],
   "source": [
    "import numpy as np\n",
    "import pandas as pd"
   ]
  },
  {
   "cell_type": "markdown",
   "id": "2ae9ba84",
   "metadata": {},
   "source": [
    "### **Exercise:** Install pandas using `pip install pandas` (if not installed). Import pandas and print its version."
   ]
  },
  {
   "cell_type": "markdown",
   "id": "2ca97c8d",
   "metadata": {},
   "source": [
    "\n",
    "            ### **AI Prompt: Understanding Pandas**\n",
    "            - Explain Pandas as if you're teaching a 10-year-old.\n",
    "            - What are the key differences between Pandas and NumPy?\n",
    "            - Why do we need Pandas in data analysis? Provide an example.\n",
    "            "
   ]
  },
  {
   "cell_type": "markdown",
   "id": "45a6006c",
   "metadata": {},
   "source": []
  },
  {
   "cell_type": "markdown",
   "id": "7c47cb8d",
   "metadata": {},
   "source": [
    "## 2. Pandas Objects - Series"
   ]
  },
  {
   "cell_type": "markdown",
   "id": "edabb9a1",
   "metadata": {},
   "source": [
    "Series is a one-dimensional indexed data structure in Pandas."
   ]
  },
  {
   "cell_type": "code",
   "execution_count": 2,
   "id": "f10a0245",
   "metadata": {},
   "outputs": [
    {
     "name": "stdout",
     "output_type": "stream",
     "text": [
      "a    1\n",
      "b    2\n",
      "dtype: int64\n",
      "a    1\n",
      "b    2\n",
      "dtype: int64\n"
     ]
    }
   ],
   "source": [
    "series1 = pd.Series([1, 2], index=['a', 'b'])\n",
    "series2 = pd.Series({\"a\": 1, \"b\": 2})\n",
    "print(series1)\n",
    "print(series2)"
   ]
  },
  {
   "cell_type": "code",
   "execution_count": 3,
   "id": "9de1c847",
   "metadata": {},
   "outputs": [
    {
     "data": {
      "text/plain": [
       "Index(['a', 'b'], dtype='object')"
      ]
     },
     "execution_count": 3,
     "metadata": {},
     "output_type": "execute_result"
    }
   ],
   "source": [
    "series1.index"
   ]
  },
  {
   "cell_type": "code",
   "execution_count": 4,
   "id": "e200e245",
   "metadata": {},
   "outputs": [
    {
     "data": {
      "text/plain": [
       "array([1, 2])"
      ]
     },
     "execution_count": 4,
     "metadata": {},
     "output_type": "execute_result"
    }
   ],
   "source": [
    "series2.values"
   ]
  },
  {
   "cell_type": "markdown",
   "id": "eed79f80",
   "metadata": {},
   "source": [
    "### **Exercise:** Create a Series containing 5 city names as values and use index labels as country names."
   ]
  },
  {
   "cell_type": "markdown",
   "id": "d6b41c9e",
   "metadata": {},
   "source": [
    "\n",
    "            ### **AI Prompt: Exploring Pandas Series**\n",
    "            - How does a Pandas Series differ from a Python list?\n",
    "            - Can you provide a real-world example where using a Series is beneficial?\n",
    "            - Generate additional exercises that explore Series operations.\n",
    "            "
   ]
  },
  {
   "cell_type": "markdown",
   "id": "1ef9df40",
   "metadata": {},
   "source": [
    "## 3. Pandas Objects - DataFrame"
   ]
  },
  {
   "cell_type": "markdown",
   "id": "aa3f67d5",
   "metadata": {},
   "source": [
    "DataFrame is a two-dimensional table with labeled rows and columns."
   ]
  },
  {
   "cell_type": "code",
   "execution_count": 5,
   "id": "2f2b85ae",
   "metadata": {},
   "outputs": [
    {
     "name": "stdout",
     "output_type": "stream",
     "text": [
      "        state  year\n",
      "0        Ohio  2000\n",
      "1  California  2010\n",
      "        foo       bar\n",
      "0  0.147877  0.341351\n",
      "1  0.307340  0.332291\n",
      "2  0.811849  0.993484\n"
     ]
    }
   ],
   "source": [
    "df1 = pd.DataFrame({'state': ['Ohio', 'California'], 'year': [2000, 2010]})\n",
    "print(df1)\n",
    "\n",
    "df2 = pd.DataFrame(np.random.rand(3, 2), columns=['foo', 'bar'])\n",
    "print(df2)"
   ]
  },
  {
   "cell_type": "code",
   "execution_count": 7,
   "id": "2a4a2d01",
   "metadata": {},
   "outputs": [
    {
     "name": "stdout",
     "output_type": "stream",
     "text": [
      "        state  year\n",
      "0        Ohio  2000\n",
      "1  California  2010\n"
     ]
    }
   ],
   "source": [
    "from pprint import pprint\n",
    "pprint(df1)"
   ]
  },
  {
   "cell_type": "code",
   "execution_count": 9,
   "id": "1fa6f79a",
   "metadata": {},
   "outputs": [
    {
     "data": {
      "text/plain": [
       "RangeIndex(start=0, stop=2, step=1)"
      ]
     },
     "execution_count": 9,
     "metadata": {},
     "output_type": "execute_result"
    }
   ],
   "source": [
    "df1.index"
   ]
  },
  {
   "cell_type": "code",
   "execution_count": 10,
   "id": "256330a2",
   "metadata": {},
   "outputs": [
    {
     "data": {
      "text/plain": [
       "Index(['state', 'year'], dtype='object')"
      ]
     },
     "execution_count": 10,
     "metadata": {},
     "output_type": "execute_result"
    }
   ],
   "source": [
    "df1.columns"
   ]
  },
  {
   "cell_type": "code",
   "execution_count": 11,
   "id": "e1967f46",
   "metadata": {},
   "outputs": [
    {
     "data": {
      "text/plain": [
       "array([['Ohio', 2000],\n",
       "       ['California', 2010]], dtype=object)"
      ]
     },
     "execution_count": 11,
     "metadata": {},
     "output_type": "execute_result"
    }
   ],
   "source": [
    "df1.values"
   ]
  },
  {
   "cell_type": "code",
   "execution_count": 12,
   "id": "15791999",
   "metadata": {},
   "outputs": [
    {
     "data": {
      "text/plain": [
       "array([[0.14787712, 0.34135106],\n",
       "       [0.30734048, 0.33229077],\n",
       "       [0.81184872, 0.9934836 ]])"
      ]
     },
     "execution_count": 12,
     "metadata": {},
     "output_type": "execute_result"
    }
   ],
   "source": [
    "df2.values"
   ]
  },
  {
   "cell_type": "code",
   "execution_count": 13,
   "id": "cdc46d7a",
   "metadata": {},
   "outputs": [
    {
     "name": "stdout",
     "output_type": "stream",
     "text": [
      "           foo       bar\n",
      "row1  0.152086  0.735880\n",
      "row2  0.163763  0.846049\n",
      "row3  0.351143  0.348980\n"
     ]
    }
   ],
   "source": [
    "df3 = pd.DataFrame(np.random.rand(3, 2), \n",
    "                   columns=['foo', 'bar'], \n",
    "                   index=['row1','row2','row3'])\n",
    "pprint(df3)"
   ]
  },
  {
   "cell_type": "code",
   "execution_count": 14,
   "id": "d22177f8",
   "metadata": {},
   "outputs": [
    {
     "name": "stdout",
     "output_type": "stream",
     "text": [
      "   name  discrete_math  ecometrics\n",
      "0  Ngọc              9           9\n",
      "1   Mai             10          10\n",
      "2    Lê              9           7\n",
      "3  Ngân              8           9\n"
     ]
    }
   ],
   "source": [
    "students = {'name':[\"Ngọc\", \"Mai\", \"Lê\", \"Ngân\"],\n",
    "            'discrete_math':[9,10,9,8],\n",
    "            'ecometrics':[9,10,7,9]}\n",
    "df4 = pd.DataFrame(students)\n",
    "print(df4)"
   ]
  },
  {
   "cell_type": "markdown",
   "id": "914c98d5",
   "metadata": {},
   "source": [
    "### **Exercise:** Create a DataFrame with student names, their subjects, and corresponding grades."
   ]
  },
  {
   "cell_type": "markdown",
   "id": "b7796a3f",
   "metadata": {},
   "source": [
    "\n",
    "            ### **AI Prompt: Working with DataFrames**\n",
    "            - Compare a DataFrame with an SQL table. How are they similar and different?\n",
    "            - What are some common operations performed on a DataFrame?\n",
    "            - Describe a scenario where a DataFrame is more useful than a Series.\n",
    "            "
   ]
  },
  {
   "cell_type": "markdown",
   "id": "4c73cbe0",
   "metadata": {},
   "source": [
    "## 4. Indexing and Selection"
   ]
  },
  {
   "cell_type": "markdown",
   "id": "0539bcc0",
   "metadata": {},
   "source": [
    "Pandas provides various ways to select and retrieve data using `.loc[]` and `.iloc[]`."
   ]
  },
  {
   "cell_type": "code",
   "execution_count": 16,
   "id": "984e9222",
   "metadata": {},
   "outputs": [
    {
     "name": "stdout",
     "output_type": "stream",
     "text": [
      "a    10\n",
      "b    11\n",
      "c    12\n",
      "d    13\n",
      "dtype: int64\n",
      "11\n",
      "11\n"
     ]
    }
   ],
   "source": [
    "s1 = pd.Series(range(10, 14), index=list(\"abcd\"))\n",
    "print(s1)\n",
    "print(s1.loc['b'])\n",
    "print(s1.iloc[1])"
   ]
  },
  {
   "cell_type": "code",
   "execution_count": 17,
   "id": "6d3b17af",
   "metadata": {},
   "outputs": [
    {
     "data": {
      "text/plain": [
       "Index(['a', 'b', 'c', 'd'], dtype='object')"
      ]
     },
     "execution_count": 17,
     "metadata": {},
     "output_type": "execute_result"
    }
   ],
   "source": [
    "s1.index "
   ]
  },
  {
   "cell_type": "code",
   "execution_count": 18,
   "id": "e0d34bfa",
   "metadata": {},
   "outputs": [
    {
     "name": "stdout",
     "output_type": "stream",
     "text": [
      "                                 Open        High         Low       Close  \\\n",
      "Date                                                                        \n",
      "2025-02-13 00:00:00-05:00  236.910004  242.339996  235.570007  241.529999   \n",
      "2025-02-14 00:00:00-05:00  241.250000  245.550003  240.990005  244.600006   \n",
      "2025-02-18 00:00:00-05:00  244.149994  245.179993  241.839996  244.470001   \n",
      "2025-02-19 00:00:00-05:00  244.660004  246.009995  243.160004  244.869995   \n",
      "2025-02-20 00:00:00-05:00  244.940002  246.779999  244.289993  245.830002   \n",
      "2025-02-21 00:00:00-05:00  245.949997  248.690002  245.220001  245.550003   \n",
      "2025-02-24 00:00:00-05:00  244.929993  248.860001  244.419998  247.100006   \n",
      "2025-02-25 00:00:00-05:00  248.000000  250.000000  244.910004  247.039993   \n",
      "2025-02-26 00:00:00-05:00  244.330002  244.979996  239.130005  240.360001   \n",
      "2025-02-27 00:00:00-05:00  239.410004  242.460007  237.059998  237.300003   \n",
      "2025-02-28 00:00:00-05:00  236.949997  242.089996  230.199997  241.839996   \n",
      "2025-03-03 00:00:00-05:00  241.789993  244.029999  236.110001  238.029999   \n",
      "2025-03-04 00:00:00-05:00  237.710007  240.070007  234.679993  235.929993   \n",
      "2025-03-05 00:00:00-05:00  235.419998  236.550003  229.229996  235.740005   \n",
      "2025-03-06 00:00:00-05:00  234.440002  237.860001  233.160004  235.330002   \n",
      "2025-03-07 00:00:00-05:00  235.110001  241.369995  234.759995  239.070007   \n",
      "2025-03-10 00:00:00-04:00  235.539993  236.160004  224.220001  227.479996   \n",
      "2025-03-11 00:00:00-04:00  223.809998  225.839996  217.449997  220.839996   \n",
      "2025-03-12 00:00:00-04:00  220.139999  221.750000  214.910004  216.979996   \n",
      "\n",
      "                             Volume  Dividends  Stock Splits  \n",
      "Date                                                          \n",
      "2025-02-13 00:00:00-05:00  53614100        0.0           0.0  \n",
      "2025-02-14 00:00:00-05:00  40896200        0.0           0.0  \n",
      "2025-02-18 00:00:00-05:00  48822500        0.0           0.0  \n",
      "2025-02-19 00:00:00-05:00  32204200        0.0           0.0  \n",
      "2025-02-20 00:00:00-05:00  32316900        0.0           0.0  \n",
      "2025-02-21 00:00:00-05:00  53197400        0.0           0.0  \n",
      "2025-02-24 00:00:00-05:00  51326400        0.0           0.0  \n",
      "2025-02-25 00:00:00-05:00  48013300        0.0           0.0  \n",
      "2025-02-26 00:00:00-05:00  44433600        0.0           0.0  \n",
      "2025-02-27 00:00:00-05:00  41153600        0.0           0.0  \n",
      "2025-02-28 00:00:00-05:00  56833400        0.0           0.0  \n",
      "2025-03-03 00:00:00-05:00  47184000        0.0           0.0  \n",
      "2025-03-04 00:00:00-05:00  53798100        0.0           0.0  \n",
      "2025-03-05 00:00:00-05:00  47227600        0.0           0.0  \n",
      "2025-03-06 00:00:00-05:00  45170400        0.0           0.0  \n",
      "2025-03-07 00:00:00-05:00  46273600        0.0           0.0  \n",
      "2025-03-10 00:00:00-04:00  72071200        0.0           0.0  \n",
      "2025-03-11 00:00:00-04:00  76137400        0.0           0.0  \n",
      "2025-03-12 00:00:00-04:00  62466400        0.0           0.0  \n"
     ]
    }
   ],
   "source": [
    "import yfinance as yf\n",
    "\n",
    "# Lấy dữ liệu của cổ phiếu AAPL\n",
    "aapl = yf.Ticker(\"AAPL\")\n",
    "\n",
    "# Lấy dữ liệu lịch sử\n",
    "history = aapl.history(period=\"1mo\") # Lấy dữ liệu trong 1 tháng gần nhất\n",
    "\n",
    "# In dữ liệu\n",
    "print(history)"
   ]
  },
  {
   "cell_type": "code",
   "execution_count": 20,
   "id": "55405a40",
   "metadata": {},
   "outputs": [
    {
     "data": {
      "text/plain": [
       "pandas.core.series.Series"
      ]
     },
     "execution_count": 20,
     "metadata": {},
     "output_type": "execute_result"
    }
   ],
   "source": [
    "type(history.iloc[9])"
   ]
  },
  {
   "cell_type": "code",
   "execution_count": null,
   "id": "5ffad7a8",
   "metadata": {},
   "outputs": [
    {
     "data": {
      "application/vnd.microsoft.datawrangler.viewer.v0+json": {
       "columns": [
        {
         "name": "index",
         "rawType": "object",
         "type": "string"
        },
        {
         "name": "area",
         "rawType": "int64",
         "type": "integer"
        },
        {
         "name": "pop",
         "rawType": "int64",
         "type": "integer"
        }
       ],
       "conversionMethod": "pd.DataFrame",
       "ref": "5f06c3be-4fc4-4840-94f4-62d83a137a2a",
       "rows": [
        [
         "California",
         "423967",
         "39538223"
        ],
        [
         "Texas",
         "695662",
         "29145505"
        ],
        [
         "Florida",
         "170312",
         "21538187"
        ],
        [
         "New York",
         "141297",
         "20201249"
        ],
        [
         "Pennsylvania",
         "119280",
         "13002700"
        ]
       ],
       "shape": {
        "columns": 2,
        "rows": 5
       }
      },
      "text/html": [
       "<div>\n",
       "<style scoped>\n",
       "    .dataframe tbody tr th:only-of-type {\n",
       "        vertical-align: middle;\n",
       "    }\n",
       "\n",
       "    .dataframe tbody tr th {\n",
       "        vertical-align: top;\n",
       "    }\n",
       "\n",
       "    .dataframe thead th {\n",
       "        text-align: right;\n",
       "    }\n",
       "</style>\n",
       "<table border=\"1\" class=\"dataframe\">\n",
       "  <thead>\n",
       "    <tr style=\"text-align: right;\">\n",
       "      <th></th>\n",
       "      <th>area</th>\n",
       "      <th>pop</th>\n",
       "    </tr>\n",
       "  </thead>\n",
       "  <tbody>\n",
       "    <tr>\n",
       "      <th>California</th>\n",
       "      <td>423967</td>\n",
       "      <td>39538223</td>\n",
       "    </tr>\n",
       "    <tr>\n",
       "      <th>Texas</th>\n",
       "      <td>695662</td>\n",
       "      <td>29145505</td>\n",
       "    </tr>\n",
       "    <tr>\n",
       "      <th>Florida</th>\n",
       "      <td>170312</td>\n",
       "      <td>21538187</td>\n",
       "    </tr>\n",
       "    <tr>\n",
       "      <th>New York</th>\n",
       "      <td>141297</td>\n",
       "      <td>20201249</td>\n",
       "    </tr>\n",
       "    <tr>\n",
       "      <th>Pennsylvania</th>\n",
       "      <td>119280</td>\n",
       "      <td>13002700</td>\n",
       "    </tr>\n",
       "  </tbody>\n",
       "</table>\n",
       "</div>"
      ],
      "text/plain": [
       "                area       pop\n",
       "California    423967  39538223\n",
       "Texas         695662  29145505\n",
       "Florida       170312  21538187\n",
       "New York      141297  20201249\n",
       "Pennsylvania  119280  13002700"
      ]
     },
     "execution_count": 21,
     "metadata": {},
     "output_type": "execute_result"
    }
   ],
   "source": [
    "area = pd.Series({'California': 423967, 'Texas': 695662,\n",
    "                   'Florida': 170312, 'New York': 141297,\n",
    "                    'Pennsylvania': 119280})\n",
    "pop = pd.Series({'California': 39538223, 'Texas': 29145505,\n",
    "                 'Florida': 21538187, 'New York': 20201249,\n",
    "                 'Pennsylvania': 13002700})\n",
    "data = pd.DataFrame({'area':area, 'pop':pop})\n",
    "data "
   ]
  },
  {
   "cell_type": "code",
   "execution_count": 22,
   "id": "5e8ca4b6",
   "metadata": {},
   "outputs": [
    {
     "data": {
      "text/plain": [
       "California      423967\n",
       "Texas           695662\n",
       "Florida         170312\n",
       "New York        141297\n",
       "Pennsylvania    119280\n",
       "Name: area, dtype: int64"
      ]
     },
     "execution_count": 22,
     "metadata": {},
     "output_type": "execute_result"
    }
   ],
   "source": [
    "data['area']"
   ]
  },
  {
   "cell_type": "code",
   "execution_count": 23,
   "id": "7d9d7b8a",
   "metadata": {},
   "outputs": [
    {
     "data": {
      "text/plain": [
       "California      423967\n",
       "Texas           695662\n",
       "Florida         170312\n",
       "New York        141297\n",
       "Pennsylvania    119280\n",
       "Name: area, dtype: int64"
      ]
     },
     "execution_count": 23,
     "metadata": {},
     "output_type": "execute_result"
    }
   ],
   "source": [
    "data.area"
   ]
  },
  {
   "cell_type": "code",
   "execution_count": 24,
   "id": "ff7693a0",
   "metadata": {},
   "outputs": [
    {
     "name": "stdout",
     "output_type": "stream",
     "text": [
      "                area       pop     density\n",
      "California    423967  39538223   93.257784\n",
      "Texas         695662  29145505   41.896072\n",
      "Florida       170312  21538187  126.463121\n",
      "New York      141297  20201249  142.970120\n",
      "Pennsylvania  119280  13002700  109.009893\n"
     ]
    }
   ],
   "source": [
    "data['density'] = data['pop']/data['area']\n",
    "print(data)"
   ]
  },
  {
   "cell_type": "code",
   "execution_count": 34,
   "id": "02fb7e89",
   "metadata": {},
   "outputs": [
    {
     "data": {
      "application/vnd.microsoft.datawrangler.viewer.v0+json": {
       "columns": [
        {
         "name": "index",
         "rawType": "object",
         "type": "string"
        },
        {
         "name": "A",
         "rawType": "int64",
         "type": "integer"
        },
        {
         "name": "B",
         "rawType": "int64",
         "type": "integer"
        },
        {
         "name": "C",
         "rawType": "int64",
         "type": "integer"
        }
       ],
       "conversionMethod": "pd.DataFrame",
       "ref": "2607829d-19c0-4475-9cdf-0f95e5d68a0e",
       "rows": [
        [
         "r1",
         "1",
         "4",
         "7"
        ],
        [
         "r2",
         "2",
         "5",
         "8"
        ],
        [
         "r3",
         "3",
         "6",
         "9"
        ]
       ],
       "shape": {
        "columns": 3,
        "rows": 3
       }
      },
      "text/html": [
       "<div>\n",
       "<style scoped>\n",
       "    .dataframe tbody tr th:only-of-type {\n",
       "        vertical-align: middle;\n",
       "    }\n",
       "\n",
       "    .dataframe tbody tr th {\n",
       "        vertical-align: top;\n",
       "    }\n",
       "\n",
       "    .dataframe thead th {\n",
       "        text-align: right;\n",
       "    }\n",
       "</style>\n",
       "<table border=\"1\" class=\"dataframe\">\n",
       "  <thead>\n",
       "    <tr style=\"text-align: right;\">\n",
       "      <th></th>\n",
       "      <th>A</th>\n",
       "      <th>B</th>\n",
       "      <th>C</th>\n",
       "    </tr>\n",
       "  </thead>\n",
       "  <tbody>\n",
       "    <tr>\n",
       "      <th>r1</th>\n",
       "      <td>1</td>\n",
       "      <td>4</td>\n",
       "      <td>7</td>\n",
       "    </tr>\n",
       "    <tr>\n",
       "      <th>r2</th>\n",
       "      <td>2</td>\n",
       "      <td>5</td>\n",
       "      <td>8</td>\n",
       "    </tr>\n",
       "    <tr>\n",
       "      <th>r3</th>\n",
       "      <td>3</td>\n",
       "      <td>6</td>\n",
       "      <td>9</td>\n",
       "    </tr>\n",
       "  </tbody>\n",
       "</table>\n",
       "</div>"
      ],
      "text/plain": [
       "    A  B  C\n",
       "r1  1  4  7\n",
       "r2  2  5  8\n",
       "r3  3  6  9"
      ]
     },
     "execution_count": 34,
     "metadata": {},
     "output_type": "execute_result"
    }
   ],
   "source": [
    "df = pd.DataFrame({'A': [1, 2, 3],\n",
    "                   'B': [4, 5, 6],\n",
    "                   'C': [7, 8, 9]})\n",
    "df.index = ['r1','r2','r3']\n",
    "df  "
   ]
  },
  {
   "cell_type": "code",
   "execution_count": 35,
   "id": "17aa31d3",
   "metadata": {},
   "outputs": [
    {
     "data": {
      "application/vnd.microsoft.datawrangler.viewer.v0+json": {
       "columns": [
        {
         "name": "index",
         "rawType": "object",
         "type": "string"
        },
        {
         "name": "A",
         "rawType": "int64",
         "type": "integer"
        },
        {
         "name": "B",
         "rawType": "int64",
         "type": "integer"
        },
        {
         "name": "C",
         "rawType": "int64",
         "type": "integer"
        },
        {
         "name": "D",
         "rawType": "int64",
         "type": "integer"
        }
       ],
       "conversionMethod": "pd.DataFrame",
       "ref": "ca12c092-d594-4ef3-91d8-3421605f42a9",
       "rows": [
        [
         "r1",
         "1",
         "4",
         "7",
         "8"
        ],
        [
         "r2",
         "2",
         "5",
         "8",
         "9"
        ],
        [
         "r3",
         "3",
         "6",
         "9",
         "1"
        ]
       ],
       "shape": {
        "columns": 4,
        "rows": 3
       }
      },
      "text/html": [
       "<div>\n",
       "<style scoped>\n",
       "    .dataframe tbody tr th:only-of-type {\n",
       "        vertical-align: middle;\n",
       "    }\n",
       "\n",
       "    .dataframe tbody tr th {\n",
       "        vertical-align: top;\n",
       "    }\n",
       "\n",
       "    .dataframe thead th {\n",
       "        text-align: right;\n",
       "    }\n",
       "</style>\n",
       "<table border=\"1\" class=\"dataframe\">\n",
       "  <thead>\n",
       "    <tr style=\"text-align: right;\">\n",
       "      <th></th>\n",
       "      <th>A</th>\n",
       "      <th>B</th>\n",
       "      <th>C</th>\n",
       "      <th>D</th>\n",
       "    </tr>\n",
       "  </thead>\n",
       "  <tbody>\n",
       "    <tr>\n",
       "      <th>r1</th>\n",
       "      <td>1</td>\n",
       "      <td>4</td>\n",
       "      <td>7</td>\n",
       "      <td>8</td>\n",
       "    </tr>\n",
       "    <tr>\n",
       "      <th>r2</th>\n",
       "      <td>2</td>\n",
       "      <td>5</td>\n",
       "      <td>8</td>\n",
       "      <td>9</td>\n",
       "    </tr>\n",
       "    <tr>\n",
       "      <th>r3</th>\n",
       "      <td>3</td>\n",
       "      <td>6</td>\n",
       "      <td>9</td>\n",
       "      <td>1</td>\n",
       "    </tr>\n",
       "  </tbody>\n",
       "</table>\n",
       "</div>"
      ],
      "text/plain": [
       "    A  B  C  D\n",
       "r1  1  4  7  8\n",
       "r2  2  5  8  9\n",
       "r3  3  6  9  1"
      ]
     },
     "execution_count": 35,
     "metadata": {},
     "output_type": "execute_result"
    }
   ],
   "source": [
    "df['D']=[8,9,1]\n",
    "df "
   ]
  },
  {
   "cell_type": "code",
   "execution_count": 36,
   "id": "3b08ffb9",
   "metadata": {},
   "outputs": [
    {
     "data": {
      "application/vnd.microsoft.datawrangler.viewer.v0+json": {
       "columns": [
        {
         "name": "index",
         "rawType": "object",
         "type": "string"
        },
        {
         "name": "A",
         "rawType": "int64",
         "type": "integer"
        },
        {
         "name": "B",
         "rawType": "int64",
         "type": "integer"
        },
        {
         "name": "C",
         "rawType": "int64",
         "type": "integer"
        },
        {
         "name": "D",
         "rawType": "int64",
         "type": "integer"
        }
       ],
       "conversionMethod": "pd.DataFrame",
       "ref": "58c1fd44-5395-460a-88c1-d30bb6eb9580",
       "rows": [
        [
         "r1",
         "1",
         "4",
         "7",
         "8"
        ],
        [
         "r2",
         "2",
         "5",
         "8",
         "9"
        ],
        [
         "r3",
         "3",
         "6",
         "9",
         "1"
        ],
        [
         "r4",
         "3",
         "2",
         "4",
         "5"
        ]
       ],
       "shape": {
        "columns": 4,
        "rows": 4
       }
      },
      "text/html": [
       "<div>\n",
       "<style scoped>\n",
       "    .dataframe tbody tr th:only-of-type {\n",
       "        vertical-align: middle;\n",
       "    }\n",
       "\n",
       "    .dataframe tbody tr th {\n",
       "        vertical-align: top;\n",
       "    }\n",
       "\n",
       "    .dataframe thead th {\n",
       "        text-align: right;\n",
       "    }\n",
       "</style>\n",
       "<table border=\"1\" class=\"dataframe\">\n",
       "  <thead>\n",
       "    <tr style=\"text-align: right;\">\n",
       "      <th></th>\n",
       "      <th>A</th>\n",
       "      <th>B</th>\n",
       "      <th>C</th>\n",
       "      <th>D</th>\n",
       "    </tr>\n",
       "  </thead>\n",
       "  <tbody>\n",
       "    <tr>\n",
       "      <th>r1</th>\n",
       "      <td>1</td>\n",
       "      <td>4</td>\n",
       "      <td>7</td>\n",
       "      <td>8</td>\n",
       "    </tr>\n",
       "    <tr>\n",
       "      <th>r2</th>\n",
       "      <td>2</td>\n",
       "      <td>5</td>\n",
       "      <td>8</td>\n",
       "      <td>9</td>\n",
       "    </tr>\n",
       "    <tr>\n",
       "      <th>r3</th>\n",
       "      <td>3</td>\n",
       "      <td>6</td>\n",
       "      <td>9</td>\n",
       "      <td>1</td>\n",
       "    </tr>\n",
       "    <tr>\n",
       "      <th>r4</th>\n",
       "      <td>3</td>\n",
       "      <td>2</td>\n",
       "      <td>4</td>\n",
       "      <td>5</td>\n",
       "    </tr>\n",
       "  </tbody>\n",
       "</table>\n",
       "</div>"
      ],
      "text/plain": [
       "    A  B  C  D\n",
       "r1  1  4  7  8\n",
       "r2  2  5  8  9\n",
       "r3  3  6  9  1\n",
       "r4  3  2  4  5"
      ]
     },
     "execution_count": 36,
     "metadata": {},
     "output_type": "execute_result"
    }
   ],
   "source": [
    "df.loc['r4'] = [3,2,4,5]\n",
    "df "
   ]
  },
  {
   "cell_type": "code",
   "execution_count": 37,
   "id": "6c5cb65c",
   "metadata": {},
   "outputs": [
    {
     "data": {
      "application/vnd.microsoft.datawrangler.viewer.v0+json": {
       "columns": [
        {
         "name": "index",
         "rawType": "object",
         "type": "string"
        },
        {
         "name": "B",
         "rawType": "int64",
         "type": "integer"
        },
        {
         "name": "C",
         "rawType": "int64",
         "type": "integer"
        }
       ],
       "conversionMethod": "pd.DataFrame",
       "ref": "b655bd8d-1ce6-40c1-8c6b-7772b7f7b330",
       "rows": [
        [
         "r1",
         "4",
         "7"
        ],
        [
         "r2",
         "5",
         "8"
        ],
        [
         "r3",
         "6",
         "9"
        ],
        [
         "r4",
         "2",
         "4"
        ]
       ],
       "shape": {
        "columns": 2,
        "rows": 4
       }
      },
      "text/html": [
       "<div>\n",
       "<style scoped>\n",
       "    .dataframe tbody tr th:only-of-type {\n",
       "        vertical-align: middle;\n",
       "    }\n",
       "\n",
       "    .dataframe tbody tr th {\n",
       "        vertical-align: top;\n",
       "    }\n",
       "\n",
       "    .dataframe thead th {\n",
       "        text-align: right;\n",
       "    }\n",
       "</style>\n",
       "<table border=\"1\" class=\"dataframe\">\n",
       "  <thead>\n",
       "    <tr style=\"text-align: right;\">\n",
       "      <th></th>\n",
       "      <th>B</th>\n",
       "      <th>C</th>\n",
       "    </tr>\n",
       "  </thead>\n",
       "  <tbody>\n",
       "    <tr>\n",
       "      <th>r1</th>\n",
       "      <td>4</td>\n",
       "      <td>7</td>\n",
       "    </tr>\n",
       "    <tr>\n",
       "      <th>r2</th>\n",
       "      <td>5</td>\n",
       "      <td>8</td>\n",
       "    </tr>\n",
       "    <tr>\n",
       "      <th>r3</th>\n",
       "      <td>6</td>\n",
       "      <td>9</td>\n",
       "    </tr>\n",
       "    <tr>\n",
       "      <th>r4</th>\n",
       "      <td>2</td>\n",
       "      <td>4</td>\n",
       "    </tr>\n",
       "  </tbody>\n",
       "</table>\n",
       "</div>"
      ],
      "text/plain": [
       "    B  C\n",
       "r1  4  7\n",
       "r2  5  8\n",
       "r3  6  9\n",
       "r4  2  4"
      ]
     },
     "execution_count": 37,
     "metadata": {},
     "output_type": "execute_result"
    }
   ],
   "source": [
    "df.drop(columns=['A','D'], inplace=True)\n",
    "df \n"
   ]
  },
  {
   "cell_type": "code",
   "execution_count": 38,
   "id": "9b302732",
   "metadata": {},
   "outputs": [
    {
     "data": {
      "application/vnd.microsoft.datawrangler.viewer.v0+json": {
       "columns": [
        {
         "name": "index",
         "rawType": "object",
         "type": "string"
        },
        {
         "name": "B",
         "rawType": "int64",
         "type": "integer"
        },
        {
         "name": "C",
         "rawType": "int64",
         "type": "integer"
        }
       ],
       "conversionMethod": "pd.DataFrame",
       "ref": "194f5880-dc69-44c0-a27e-55b47d6d6d1f",
       "rows": [
        [
         "r1",
         "4",
         "7"
        ],
        [
         "r3",
         "6",
         "9"
        ]
       ],
       "shape": {
        "columns": 2,
        "rows": 2
       }
      },
      "text/html": [
       "<div>\n",
       "<style scoped>\n",
       "    .dataframe tbody tr th:only-of-type {\n",
       "        vertical-align: middle;\n",
       "    }\n",
       "\n",
       "    .dataframe tbody tr th {\n",
       "        vertical-align: top;\n",
       "    }\n",
       "\n",
       "    .dataframe thead th {\n",
       "        text-align: right;\n",
       "    }\n",
       "</style>\n",
       "<table border=\"1\" class=\"dataframe\">\n",
       "  <thead>\n",
       "    <tr style=\"text-align: right;\">\n",
       "      <th></th>\n",
       "      <th>B</th>\n",
       "      <th>C</th>\n",
       "    </tr>\n",
       "  </thead>\n",
       "  <tbody>\n",
       "    <tr>\n",
       "      <th>r1</th>\n",
       "      <td>4</td>\n",
       "      <td>7</td>\n",
       "    </tr>\n",
       "    <tr>\n",
       "      <th>r3</th>\n",
       "      <td>6</td>\n",
       "      <td>9</td>\n",
       "    </tr>\n",
       "  </tbody>\n",
       "</table>\n",
       "</div>"
      ],
      "text/plain": [
       "    B  C\n",
       "r1  4  7\n",
       "r3  6  9"
      ]
     },
     "execution_count": 38,
     "metadata": {},
     "output_type": "execute_result"
    }
   ],
   "source": [
    "df.drop(index=['r2','r4'], inplace=True)\n",
    "df "
   ]
  },
  {
   "cell_type": "code",
   "execution_count": null,
   "id": "59f99ea7",
   "metadata": {},
   "outputs": [],
   "source": []
  },
  {
   "cell_type": "markdown",
   "id": "e35260f5",
   "metadata": {},
   "source": [
    "### **Exercise:** Given a Series of five countries and their populations, retrieve the population of a specific country using `.loc[]`."
   ]
  },
  {
   "cell_type": "markdown",
   "id": "8cf61194",
   "metadata": {},
   "source": [
    "\n",
    "            ### **AI Prompt: Mastering Indexing**\n",
    "            - What is the difference between `.loc[]` and `.iloc[]` in Pandas?\n",
    "            - How can incorrect indexing lead to errors in data analysis?\n",
    "            - Generate a challenging indexing problem and explain how to solve it.\n",
    "            "
   ]
  },
  {
   "cell_type": "markdown",
   "id": "da3d3724",
   "metadata": {},
   "source": [
    "## 5. Handling Missing Data"
   ]
  },
  {
   "cell_type": "markdown",
   "id": "0037acfe",
   "metadata": {},
   "source": [
    "Pandas allows handling missing values using `fillna()` or `dropna()`."
   ]
  },
  {
   "cell_type": "code",
   "execution_count": 39,
   "id": "225da5cd",
   "metadata": {},
   "outputs": [
    {
     "name": "stdout",
     "output_type": "stream",
     "text": [
      "     A    B\n",
      "0  1.0  0.0\n",
      "1  2.0  3.0\n",
      "2  0.0  4.0\n"
     ]
    }
   ],
   "source": [
    "df_missing = pd.DataFrame({'A': [1, 2, None], 'B': [None, 3, 4]})\n",
    "df_filled = df_missing.fillna(0)\n",
    "print(df_filled)"
   ]
  },
  {
   "cell_type": "markdown",
   "id": "b8201c4d",
   "metadata": {},
   "source": [
    "### **Exercise:** Create a DataFrame with missing values and replace them with the column mean."
   ]
  },
  {
   "cell_type": "markdown",
   "id": "c2ea7049",
   "metadata": {},
   "source": [
    "\n",
    "            ### **AI Prompt: Handling Missing Data**\n",
    "            - Why is handling missing data important in real-world datasets?\n",
    "            - Compare the differences between `.fillna()`, `.dropna()`, and `.interpolate()`.\n",
    "            - What are some strategies for handling missing categorical values?\n",
    "            "
   ]
  },
  {
   "cell_type": "code",
   "execution_count": 54,
   "id": "fafe4c45",
   "metadata": {},
   "outputs": [
    {
     "data": {
      "application/vnd.microsoft.datawrangler.viewer.v0+json": {
       "columns": [
        {
         "name": "index",
         "rawType": "int64",
         "type": "integer"
        },
        {
         "name": "Name",
         "rawType": "object",
         "type": "string"
        },
        {
         "name": "Age",
         "rawType": "float64",
         "type": "float"
        },
        {
         "name": "City",
         "rawType": "object",
         "type": "unknown"
        },
        {
         "name": "Salary",
         "rawType": "float64",
         "type": "float"
        }
       ],
       "conversionMethod": "pd.DataFrame",
       "ref": "a5882da3-6a92-4e3c-b161-57eb444824c3",
       "rows": [
        [
         "0",
         "John",
         "28.0",
         "New York",
         "70000.0"
        ],
        [
         "1",
         "Anna",
         "22.0",
         "Paris",
         null
        ],
        [
         "2",
         "Peter",
         null,
         "Berlin",
         "60000.0"
        ],
        [
         "3",
         "Linda",
         "32.0",
         null,
         "85000.0"
        ],
        [
         "4",
         "James",
         "25.0",
         "London",
         null
        ]
       ],
       "shape": {
        "columns": 4,
        "rows": 5
       }
      },
      "text/html": [
       "<div>\n",
       "<style scoped>\n",
       "    .dataframe tbody tr th:only-of-type {\n",
       "        vertical-align: middle;\n",
       "    }\n",
       "\n",
       "    .dataframe tbody tr th {\n",
       "        vertical-align: top;\n",
       "    }\n",
       "\n",
       "    .dataframe thead th {\n",
       "        text-align: right;\n",
       "    }\n",
       "</style>\n",
       "<table border=\"1\" class=\"dataframe\">\n",
       "  <thead>\n",
       "    <tr style=\"text-align: right;\">\n",
       "      <th></th>\n",
       "      <th>Name</th>\n",
       "      <th>Age</th>\n",
       "      <th>City</th>\n",
       "      <th>Salary</th>\n",
       "    </tr>\n",
       "  </thead>\n",
       "  <tbody>\n",
       "    <tr>\n",
       "      <th>0</th>\n",
       "      <td>John</td>\n",
       "      <td>28.0</td>\n",
       "      <td>New York</td>\n",
       "      <td>70000.0</td>\n",
       "    </tr>\n",
       "    <tr>\n",
       "      <th>1</th>\n",
       "      <td>Anna</td>\n",
       "      <td>22.0</td>\n",
       "      <td>Paris</td>\n",
       "      <td>NaN</td>\n",
       "    </tr>\n",
       "    <tr>\n",
       "      <th>2</th>\n",
       "      <td>Peter</td>\n",
       "      <td>NaN</td>\n",
       "      <td>Berlin</td>\n",
       "      <td>60000.0</td>\n",
       "    </tr>\n",
       "    <tr>\n",
       "      <th>3</th>\n",
       "      <td>Linda</td>\n",
       "      <td>32.0</td>\n",
       "      <td>NaN</td>\n",
       "      <td>85000.0</td>\n",
       "    </tr>\n",
       "    <tr>\n",
       "      <th>4</th>\n",
       "      <td>James</td>\n",
       "      <td>25.0</td>\n",
       "      <td>London</td>\n",
       "      <td>NaN</td>\n",
       "    </tr>\n",
       "  </tbody>\n",
       "</table>\n",
       "</div>"
      ],
      "text/plain": [
       "    Name   Age      City   Salary\n",
       "0   John  28.0  New York  70000.0\n",
       "1   Anna  22.0     Paris      NaN\n",
       "2  Peter   NaN    Berlin  60000.0\n",
       "3  Linda  32.0       NaN  85000.0\n",
       "4  James  25.0    London      NaN"
      ]
     },
     "execution_count": 54,
     "metadata": {},
     "output_type": "execute_result"
    }
   ],
   "source": [
    "data = {'Name': ['John', 'Anna', 'Peter', 'Linda', 'James'],\n",
    "        'Age': [28, 22, np.nan, 32, 25],\n",
    "        'City': ['New York', 'Paris', 'Berlin', np.nan, 'London'],\n",
    "        'Salary': [70000, np.nan, 60000, 85000, np.nan]}\n",
    "df = pd.DataFrame(data)\n",
    "df "
   ]
  },
  {
   "cell_type": "code",
   "execution_count": 55,
   "id": "0b3d4806",
   "metadata": {},
   "outputs": [
    {
     "data": {
      "text/plain": [
       "Name      0\n",
       "Age       1\n",
       "City      1\n",
       "Salary    2\n",
       "dtype: int64"
      ]
     },
     "execution_count": 55,
     "metadata": {},
     "output_type": "execute_result"
    }
   ],
   "source": [
    "df.isnull().sum()"
   ]
  },
  {
   "cell_type": "code",
   "execution_count": 59,
   "id": "7396c2bb",
   "metadata": {},
   "outputs": [
    {
     "name": "stderr",
     "output_type": "stream",
     "text": [
      "C:\\Users\\Admin\\AppData\\Local\\Temp\\ipykernel_10688\\3046165323.py:3: FutureWarning: A value is trying to be set on a copy of a DataFrame or Series through chained assignment using an inplace method.\n",
      "The behavior will change in pandas 3.0. This inplace method will never work because the intermediate object on which we are setting values always behaves as a copy.\n",
      "\n",
      "For example, when doing 'df[col].method(value, inplace=True)', try using 'df.method({col: value}, inplace=True)' or df[col] = df[col].method(value) instead, to perform the operation inplace on the original object.\n",
      "\n",
      "\n",
      "  df['Salary'].fillna(mean_sa, inplace=True)\n"
     ]
    },
    {
     "data": {
      "application/vnd.microsoft.datawrangler.viewer.v0+json": {
       "columns": [
        {
         "name": "index",
         "rawType": "int64",
         "type": "integer"
        },
        {
         "name": "Name",
         "rawType": "object",
         "type": "string"
        },
        {
         "name": "Age",
         "rawType": "float64",
         "type": "float"
        },
        {
         "name": "City",
         "rawType": "object",
         "type": "unknown"
        },
        {
         "name": "Salary",
         "rawType": "float64",
         "type": "float"
        }
       ],
       "conversionMethod": "pd.DataFrame",
       "ref": "75ba7581-787f-4f15-befa-18e5901d2b4d",
       "rows": [
        [
         "0",
         "John",
         "28.0",
         "New York",
         "70000.0"
        ],
        [
         "1",
         "Anna",
         "22.0",
         "Paris",
         "71666.66666666667"
        ],
        [
         "2",
         "Peter",
         null,
         "Berlin",
         "60000.0"
        ],
        [
         "3",
         "Linda",
         "32.0",
         null,
         "85000.0"
        ],
        [
         "4",
         "James",
         "25.0",
         "London",
         "71666.66666666667"
        ]
       ],
       "shape": {
        "columns": 4,
        "rows": 5
       }
      },
      "text/html": [
       "<div>\n",
       "<style scoped>\n",
       "    .dataframe tbody tr th:only-of-type {\n",
       "        vertical-align: middle;\n",
       "    }\n",
       "\n",
       "    .dataframe tbody tr th {\n",
       "        vertical-align: top;\n",
       "    }\n",
       "\n",
       "    .dataframe thead th {\n",
       "        text-align: right;\n",
       "    }\n",
       "</style>\n",
       "<table border=\"1\" class=\"dataframe\">\n",
       "  <thead>\n",
       "    <tr style=\"text-align: right;\">\n",
       "      <th></th>\n",
       "      <th>Name</th>\n",
       "      <th>Age</th>\n",
       "      <th>City</th>\n",
       "      <th>Salary</th>\n",
       "    </tr>\n",
       "  </thead>\n",
       "  <tbody>\n",
       "    <tr>\n",
       "      <th>0</th>\n",
       "      <td>John</td>\n",
       "      <td>28.0</td>\n",
       "      <td>New York</td>\n",
       "      <td>70000.000000</td>\n",
       "    </tr>\n",
       "    <tr>\n",
       "      <th>1</th>\n",
       "      <td>Anna</td>\n",
       "      <td>22.0</td>\n",
       "      <td>Paris</td>\n",
       "      <td>71666.666667</td>\n",
       "    </tr>\n",
       "    <tr>\n",
       "      <th>2</th>\n",
       "      <td>Peter</td>\n",
       "      <td>NaN</td>\n",
       "      <td>Berlin</td>\n",
       "      <td>60000.000000</td>\n",
       "    </tr>\n",
       "    <tr>\n",
       "      <th>3</th>\n",
       "      <td>Linda</td>\n",
       "      <td>32.0</td>\n",
       "      <td>NaN</td>\n",
       "      <td>85000.000000</td>\n",
       "    </tr>\n",
       "    <tr>\n",
       "      <th>4</th>\n",
       "      <td>James</td>\n",
       "      <td>25.0</td>\n",
       "      <td>London</td>\n",
       "      <td>71666.666667</td>\n",
       "    </tr>\n",
       "  </tbody>\n",
       "</table>\n",
       "</div>"
      ],
      "text/plain": [
       "    Name   Age      City        Salary\n",
       "0   John  28.0  New York  70000.000000\n",
       "1   Anna  22.0     Paris  71666.666667\n",
       "2  Peter   NaN    Berlin  60000.000000\n",
       "3  Linda  32.0       NaN  85000.000000\n",
       "4  James  25.0    London  71666.666667"
      ]
     },
     "execution_count": 59,
     "metadata": {},
     "output_type": "execute_result"
    }
   ],
   "source": [
    "#df.dropna(inplace=True, axis=1)\n",
    "mean_sa = df['Salary'].dropna().mean()\n",
    "df['Salary'].fillna(mean_sa, inplace=True)\n",
    "df "
   ]
  },
  {
   "cell_type": "code",
   "execution_count": 60,
   "id": "fa8ff1a5",
   "metadata": {},
   "outputs": [
    {
     "name": "stdout",
     "output_type": "stream",
     "text": [
      "    Name   Age      City   Salary\n",
      "0   John  28.0  New York  70000.0\n",
      "1   Anna  22.0     Paris      NaN\n",
      "2  Peter   NaN    Berlin  60000.0\n",
      "3  Linda  32.0       NaN  85000.0\n",
      "4  James  25.0    London      NaN\n"
     ]
    }
   ],
   "source": [
    "data = {'Name': ['John', 'Anna', 'Peter', 'Linda', 'James'],\n",
    "        'Age': [28, 22, np.nan, 32, 25],\n",
    "        'City': ['New York', 'Paris', 'Berlin', np.nan, 'London'],\n",
    "        'Salary': [70000, np.nan, 60000, 85000, np.nan]}\n",
    "df = pd.DataFrame(data)\n",
    "print(df)"
   ]
  },
  {
   "cell_type": "code",
   "execution_count": 61,
   "id": "147f22d0",
   "metadata": {},
   "outputs": [
    {
     "name": "stderr",
     "output_type": "stream",
     "text": [
      "C:\\Users\\Admin\\AppData\\Local\\Temp\\ipykernel_10688\\1545071253.py:1: FutureWarning: Series.fillna with 'method' is deprecated and will raise in a future version. Use obj.ffill() or obj.bfill() instead.\n",
      "  df['Salary'].fillna(method='backfill')\n"
     ]
    },
    {
     "data": {
      "text/plain": [
       "0    70000.0\n",
       "1    60000.0\n",
       "2    60000.0\n",
       "3    85000.0\n",
       "4        NaN\n",
       "Name: Salary, dtype: float64"
      ]
     },
     "execution_count": 61,
     "metadata": {},
     "output_type": "execute_result"
    }
   ],
   "source": [
    "df['Salary'].fillna(method='backfill')"
   ]
  },
  {
   "cell_type": "code",
   "execution_count": 62,
   "id": "185c8e72",
   "metadata": {},
   "outputs": [
    {
     "name": "stderr",
     "output_type": "stream",
     "text": [
      "C:\\Users\\Admin\\AppData\\Local\\Temp\\ipykernel_10688\\2287196102.py:1: FutureWarning: Series.fillna with 'method' is deprecated and will raise in a future version. Use obj.ffill() or obj.bfill() instead.\n",
      "  df['Salary'].fillna(method='ffill')\n"
     ]
    },
    {
     "data": {
      "text/plain": [
       "0    70000.0\n",
       "1    70000.0\n",
       "2    60000.0\n",
       "3    85000.0\n",
       "4    85000.0\n",
       "Name: Salary, dtype: float64"
      ]
     },
     "execution_count": 62,
     "metadata": {},
     "output_type": "execute_result"
    }
   ],
   "source": [
    "df['Salary'].fillna(method='ffill')"
   ]
  },
  {
   "cell_type": "code",
   "execution_count": 63,
   "id": "c49bbff1",
   "metadata": {},
   "outputs": [
    {
     "data": {
      "application/vnd.microsoft.datawrangler.viewer.v0+json": {
       "columns": [
        {
         "name": "index",
         "rawType": "int64",
         "type": "integer"
        },
        {
         "name": "Name",
         "rawType": "object",
         "type": "string"
        },
        {
         "name": "Age",
         "rawType": "float64",
         "type": "float"
        },
        {
         "name": "City",
         "rawType": "object",
         "type": "unknown"
        },
        {
         "name": "Salary",
         "rawType": "float64",
         "type": "float"
        }
       ],
       "conversionMethod": "pd.DataFrame",
       "ref": "0fc42269-1446-478e-a9ba-02a81623445f",
       "rows": [
        [
         "0",
         "John",
         "28.0",
         "New York",
         "70000.0"
        ],
        [
         "1",
         "Anna",
         "22.0",
         "Paris",
         null
        ],
        [
         "2",
         "Peter",
         null,
         "Berlin",
         "60000.0"
        ],
        [
         "3",
         "Linda",
         "32.0",
         null,
         "85000.0"
        ],
        [
         "4",
         "James",
         "25.0",
         "London",
         null
        ]
       ],
       "shape": {
        "columns": 4,
        "rows": 5
       }
      },
      "text/html": [
       "<div>\n",
       "<style scoped>\n",
       "    .dataframe tbody tr th:only-of-type {\n",
       "        vertical-align: middle;\n",
       "    }\n",
       "\n",
       "    .dataframe tbody tr th {\n",
       "        vertical-align: top;\n",
       "    }\n",
       "\n",
       "    .dataframe thead th {\n",
       "        text-align: right;\n",
       "    }\n",
       "</style>\n",
       "<table border=\"1\" class=\"dataframe\">\n",
       "  <thead>\n",
       "    <tr style=\"text-align: right;\">\n",
       "      <th></th>\n",
       "      <th>Name</th>\n",
       "      <th>Age</th>\n",
       "      <th>City</th>\n",
       "      <th>Salary</th>\n",
       "    </tr>\n",
       "  </thead>\n",
       "  <tbody>\n",
       "    <tr>\n",
       "      <th>0</th>\n",
       "      <td>John</td>\n",
       "      <td>28.0</td>\n",
       "      <td>New York</td>\n",
       "      <td>70000.0</td>\n",
       "    </tr>\n",
       "    <tr>\n",
       "      <th>1</th>\n",
       "      <td>Anna</td>\n",
       "      <td>22.0</td>\n",
       "      <td>Paris</td>\n",
       "      <td>NaN</td>\n",
       "    </tr>\n",
       "    <tr>\n",
       "      <th>2</th>\n",
       "      <td>Peter</td>\n",
       "      <td>NaN</td>\n",
       "      <td>Berlin</td>\n",
       "      <td>60000.0</td>\n",
       "    </tr>\n",
       "    <tr>\n",
       "      <th>3</th>\n",
       "      <td>Linda</td>\n",
       "      <td>32.0</td>\n",
       "      <td>NaN</td>\n",
       "      <td>85000.0</td>\n",
       "    </tr>\n",
       "    <tr>\n",
       "      <th>4</th>\n",
       "      <td>James</td>\n",
       "      <td>25.0</td>\n",
       "      <td>London</td>\n",
       "      <td>NaN</td>\n",
       "    </tr>\n",
       "  </tbody>\n",
       "</table>\n",
       "</div>"
      ],
      "text/plain": [
       "    Name   Age      City   Salary\n",
       "0   John  28.0  New York  70000.0\n",
       "1   Anna  22.0     Paris      NaN\n",
       "2  Peter   NaN    Berlin  60000.0\n",
       "3  Linda  32.0       NaN  85000.0\n",
       "4  James  25.0    London      NaN"
      ]
     },
     "execution_count": 63,
     "metadata": {},
     "output_type": "execute_result"
    }
   ],
   "source": [
    "df "
   ]
  },
  {
   "cell_type": "markdown",
   "id": "626ac871",
   "metadata": {},
   "source": [
    "## 6. MultiIndex (Hierarchical Indexing)"
   ]
  },
  {
   "cell_type": "markdown",
   "id": "f75c77d8",
   "metadata": {},
   "source": [
    "MultiIndex allows working with hierarchical data efficiently."
   ]
  },
  {
   "cell_type": "code",
   "execution_count": 57,
   "id": "d39e59cf",
   "metadata": {},
   "outputs": [
    {
     "name": "stdout",
     "output_type": "stream",
     "text": [
      "                 Population\n",
      "State      Year            \n",
      "California 2000    33871648\n",
      "           2010    37253956\n",
      "New York   2000    18976457\n"
     ]
    }
   ],
   "source": [
    "index = [('California', 2000), ('California', 2010), ('New York', 2000)]\n",
    "populations = [33871648, 37253956, 18976457]\n",
    "ind = pd.MultiIndex.from_tuples(index, names=('State', 'Year'))\n",
    "df_multi = pd.DataFrame({'Population': populations}, index=ind)\n",
    "print(df_multi)"
   ]
  },
  {
   "cell_type": "markdown",
   "id": "869ef8d3",
   "metadata": {},
   "source": [
    "### **Exercise:** Create a MultiIndex DataFrame for sales data across multiple years and retrieve sales for a specific year."
   ]
  },
  {
   "cell_type": "markdown",
   "id": "92d29199",
   "metadata": {},
   "source": [
    "\n",
    "            ### **AI Prompt: Exploring MultiIndex**\n",
    "            - When should you use MultiIndex instead of a simple index?\n",
    "            - How does MultiIndex impact performance in large datasets?\n",
    "            - Can you create a dataset where MultiIndexing is necessary?\n",
    "            "
   ]
  },
  {
   "cell_type": "markdown",
   "id": "5bfe699e",
   "metadata": {},
   "source": [
    "## Final Comprehensive Exercise"
   ]
  },
  {
   "cell_type": "markdown",
   "id": "1c6a2c67",
   "metadata": {},
   "source": [
    "- Create a dataset of 10 employees with **Name, Age, Department, Salary, and Year of Joining**.\n",
    "- Retrieve employees in a specific department.\n",
    "- Fill missing salaries with the department average.\n",
    "- Create a MultiIndex grouping employees by **Department and Year of Joining**.\n",
    "- Display the department with the highest average salary."
   ]
  },
  {
   "cell_type": "code",
   "execution_count": 65,
   "id": "e0518dcc",
   "metadata": {},
   "outputs": [
    {
     "data": {
      "application/vnd.microsoft.datawrangler.viewer.v0+json": {
       "columns": [
        {
         "name": "index",
         "rawType": "int64",
         "type": "integer"
        },
        {
         "name": "order",
         "rawType": "int64",
         "type": "integer"
        },
        {
         "name": "name",
         "rawType": "object",
         "type": "string"
        },
        {
         "name": "height(cm)",
         "rawType": "int64",
         "type": "integer"
        }
       ],
       "conversionMethod": "pd.DataFrame",
       "ref": "f158cb42-3726-4dfb-9007-bfbdf96c42b7",
       "rows": [
        [
         "0",
         "1",
         "George Washington",
         "189"
        ],
        [
         "1",
         "2",
         "John Adams",
         "170"
        ],
        [
         "2",
         "3",
         "Thomas Jefferson",
         "189"
        ],
        [
         "3",
         "4",
         "James Madison",
         "163"
        ],
        [
         "4",
         "5",
         "James Monroe",
         "183"
        ]
       ],
       "shape": {
        "columns": 3,
        "rows": 5
       }
      },
      "text/html": [
       "<div>\n",
       "<style scoped>\n",
       "    .dataframe tbody tr th:only-of-type {\n",
       "        vertical-align: middle;\n",
       "    }\n",
       "\n",
       "    .dataframe tbody tr th {\n",
       "        vertical-align: top;\n",
       "    }\n",
       "\n",
       "    .dataframe thead th {\n",
       "        text-align: right;\n",
       "    }\n",
       "</style>\n",
       "<table border=\"1\" class=\"dataframe\">\n",
       "  <thead>\n",
       "    <tr style=\"text-align: right;\">\n",
       "      <th></th>\n",
       "      <th>order</th>\n",
       "      <th>name</th>\n",
       "      <th>height(cm)</th>\n",
       "    </tr>\n",
       "  </thead>\n",
       "  <tbody>\n",
       "    <tr>\n",
       "      <th>0</th>\n",
       "      <td>1</td>\n",
       "      <td>George Washington</td>\n",
       "      <td>189</td>\n",
       "    </tr>\n",
       "    <tr>\n",
       "      <th>1</th>\n",
       "      <td>2</td>\n",
       "      <td>John Adams</td>\n",
       "      <td>170</td>\n",
       "    </tr>\n",
       "    <tr>\n",
       "      <th>2</th>\n",
       "      <td>3</td>\n",
       "      <td>Thomas Jefferson</td>\n",
       "      <td>189</td>\n",
       "    </tr>\n",
       "    <tr>\n",
       "      <th>3</th>\n",
       "      <td>4</td>\n",
       "      <td>James Madison</td>\n",
       "      <td>163</td>\n",
       "    </tr>\n",
       "    <tr>\n",
       "      <th>4</th>\n",
       "      <td>5</td>\n",
       "      <td>James Monroe</td>\n",
       "      <td>183</td>\n",
       "    </tr>\n",
       "  </tbody>\n",
       "</table>\n",
       "</div>"
      ],
      "text/plain": [
       "   order               name  height(cm)\n",
       "0      1  George Washington         189\n",
       "1      2         John Adams         170\n",
       "2      3   Thomas Jefferson         189\n",
       "3      4      James Madison         163\n",
       "4      5       James Monroe         183"
      ]
     },
     "execution_count": 65,
     "metadata": {},
     "output_type": "execute_result"
    }
   ],
   "source": [
    "df_president = pd.read_csv('Data\\Data_DS_Handbook\\president_heights.csv')\n",
    "df_president.head() "
   ]
  },
  {
   "cell_type": "code",
   "execution_count": 66,
   "id": "9338f9fc",
   "metadata": {},
   "outputs": [
    {
     "data": {
      "application/vnd.microsoft.datawrangler.viewer.v0+json": {
       "columns": [
        {
         "name": "index",
         "rawType": "int64",
         "type": "integer"
        },
        {
         "name": "order",
         "rawType": "int64",
         "type": "integer"
        },
        {
         "name": "name",
         "rawType": "object",
         "type": "string"
        },
        {
         "name": "height(cm)",
         "rawType": "int64",
         "type": "integer"
        }
       ],
       "conversionMethod": "pd.DataFrame",
       "ref": "b9317269-f7b1-4f88-b45f-bbc3b425d792",
       "rows": [
        [
         "32",
         "35",
         "John F. Kennedy",
         "183"
        ],
        [
         "33",
         "36",
         "Lyndon B. Johnson",
         "193"
        ],
        [
         "34",
         "37",
         "Richard Nixon",
         "182"
        ],
        [
         "35",
         "38",
         "Gerald Ford",
         "183"
        ],
        [
         "36",
         "39",
         "Jimmy Carter",
         "177"
        ],
        [
         "37",
         "40",
         "Ronald Reagan",
         "185"
        ],
        [
         "38",
         "41",
         "George H. W. Bush",
         "188"
        ],
        [
         "39",
         "42",
         "Bill Clinton",
         "188"
        ],
        [
         "40",
         "43",
         "George W. Bush",
         "182"
        ],
        [
         "41",
         "44",
         "Barack Obama",
         "185"
        ]
       ],
       "shape": {
        "columns": 3,
        "rows": 10
       }
      },
      "text/html": [
       "<div>\n",
       "<style scoped>\n",
       "    .dataframe tbody tr th:only-of-type {\n",
       "        vertical-align: middle;\n",
       "    }\n",
       "\n",
       "    .dataframe tbody tr th {\n",
       "        vertical-align: top;\n",
       "    }\n",
       "\n",
       "    .dataframe thead th {\n",
       "        text-align: right;\n",
       "    }\n",
       "</style>\n",
       "<table border=\"1\" class=\"dataframe\">\n",
       "  <thead>\n",
       "    <tr style=\"text-align: right;\">\n",
       "      <th></th>\n",
       "      <th>order</th>\n",
       "      <th>name</th>\n",
       "      <th>height(cm)</th>\n",
       "    </tr>\n",
       "  </thead>\n",
       "  <tbody>\n",
       "    <tr>\n",
       "      <th>32</th>\n",
       "      <td>35</td>\n",
       "      <td>John F. Kennedy</td>\n",
       "      <td>183</td>\n",
       "    </tr>\n",
       "    <tr>\n",
       "      <th>33</th>\n",
       "      <td>36</td>\n",
       "      <td>Lyndon B. Johnson</td>\n",
       "      <td>193</td>\n",
       "    </tr>\n",
       "    <tr>\n",
       "      <th>34</th>\n",
       "      <td>37</td>\n",
       "      <td>Richard Nixon</td>\n",
       "      <td>182</td>\n",
       "    </tr>\n",
       "    <tr>\n",
       "      <th>35</th>\n",
       "      <td>38</td>\n",
       "      <td>Gerald Ford</td>\n",
       "      <td>183</td>\n",
       "    </tr>\n",
       "    <tr>\n",
       "      <th>36</th>\n",
       "      <td>39</td>\n",
       "      <td>Jimmy Carter</td>\n",
       "      <td>177</td>\n",
       "    </tr>\n",
       "    <tr>\n",
       "      <th>37</th>\n",
       "      <td>40</td>\n",
       "      <td>Ronald Reagan</td>\n",
       "      <td>185</td>\n",
       "    </tr>\n",
       "    <tr>\n",
       "      <th>38</th>\n",
       "      <td>41</td>\n",
       "      <td>George H. W. Bush</td>\n",
       "      <td>188</td>\n",
       "    </tr>\n",
       "    <tr>\n",
       "      <th>39</th>\n",
       "      <td>42</td>\n",
       "      <td>Bill Clinton</td>\n",
       "      <td>188</td>\n",
       "    </tr>\n",
       "    <tr>\n",
       "      <th>40</th>\n",
       "      <td>43</td>\n",
       "      <td>George W. Bush</td>\n",
       "      <td>182</td>\n",
       "    </tr>\n",
       "    <tr>\n",
       "      <th>41</th>\n",
       "      <td>44</td>\n",
       "      <td>Barack Obama</td>\n",
       "      <td>185</td>\n",
       "    </tr>\n",
       "  </tbody>\n",
       "</table>\n",
       "</div>"
      ],
      "text/plain": [
       "    order               name  height(cm)\n",
       "32     35    John F. Kennedy         183\n",
       "33     36  Lyndon B. Johnson         193\n",
       "34     37      Richard Nixon         182\n",
       "35     38        Gerald Ford         183\n",
       "36     39       Jimmy Carter         177\n",
       "37     40      Ronald Reagan         185\n",
       "38     41  George H. W. Bush         188\n",
       "39     42       Bill Clinton         188\n",
       "40     43     George W. Bush         182\n",
       "41     44       Barack Obama         185"
      ]
     },
     "execution_count": 66,
     "metadata": {},
     "output_type": "execute_result"
    }
   ],
   "source": [
    "df_president.tail(10)"
   ]
  },
  {
   "cell_type": "code",
   "execution_count": null,
   "id": "8a57ea5f",
   "metadata": {},
   "outputs": [],
   "source": []
  }
 ],
 "metadata": {
  "kernelspec": {
   "display_name": "env-teaching",
   "language": "python",
   "name": "python3"
  },
  "language_info": {
   "codemirror_mode": {
    "name": "ipython",
    "version": 3
   },
   "file_extension": ".py",
   "mimetype": "text/x-python",
   "name": "python",
   "nbconvert_exporter": "python",
   "pygments_lexer": "ipython3",
   "version": "3.11.7"
  }
 },
 "nbformat": 4,
 "nbformat_minor": 5
}
